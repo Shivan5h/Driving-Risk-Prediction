{
 "cells": [
  {
   "cell_type": "code",
   "execution_count": 21,
   "id": "initial_id",
   "metadata": {
    "collapsed": true,
    "ExecuteTime": {
     "end_time": "2024-11-18T08:04:31.039917Z",
     "start_time": "2024-11-18T08:04:31.011235Z"
    }
   },
   "outputs": [],
   "source": [
    "import pandas as pd\n",
    "from sklearn.model_selection import train_test_split\n",
    "from sklearn.preprocessing import StandardScaler, OneHotEncoder\n",
    "from sklearn.compose import ColumnTransformer\n",
    "import tensorflow as tf\n",
    "from sklearn.pipeline import Pipeline\n",
    "from tensorflow.keras.models import Sequential\n",
    "from tensorflow.keras.layers import Dense, Dropout\n",
    "from tensorflow.keras.optimizers import Adam"
   ]
  },
  {
   "cell_type": "code",
   "outputs": [],
   "source": [
    "# Load Dataset\n",
    "df = pd.read_csv('Vehicle Risk Prediction Dataset.csv')"
   ],
   "metadata": {
    "collapsed": false,
    "ExecuteTime": {
     "end_time": "2024-11-18T07:56:21.106154Z",
     "start_time": "2024-11-18T07:56:21.043414Z"
    }
   },
   "id": "6fb1d37e7b26bf9d",
   "execution_count": 2
  },
  {
   "cell_type": "code",
   "outputs": [],
   "source": [
    "# Drop unnecessary features\n",
    "df.drop(['Vehicle_Speed_Ratio', 'Light_Conditions', 'Medical_Condition', 'Landscape', 'Road_Surface_Conditions'], axis=1, inplace=True)\n"
   ],
   "metadata": {
    "collapsed": false,
    "ExecuteTime": {
     "end_time": "2024-11-18T07:56:21.125803Z",
     "start_time": "2024-11-18T07:56:21.107241Z"
    }
   },
   "id": "9f4f02f77d185240",
   "execution_count": 3
  },
  {
   "cell_type": "code",
   "outputs": [],
   "source": [
    "# Prepare Data for Model\n",
    "X = df.drop(['Risk_Score'], axis=1)\n",
    "y = df['Risk_Score']"
   ],
   "metadata": {
    "collapsed": false,
    "ExecuteTime": {
     "end_time": "2024-11-18T07:56:21.138938Z",
     "start_time": "2024-11-18T07:56:21.130853Z"
    }
   },
   "id": "f71b139f9f5883ed",
   "execution_count": 4
  },
  {
   "cell_type": "code",
   "outputs": [
    {
     "data": {
      "text/plain": "   Driver_Age  Driver_Experience  Driver_Awake_Time  Last_Service_Months_Ago  \\\n0          19                  1                5.5                        1   \n1          19                  1                5.5                        1   \n2          19                  1                5.5                        1   \n3          32                  3                5.9                        6   \n4          32                  3                5.9                        6   \n\n   Cargo_Load Visibility Weather Road_Type Traffic_Density Road_Hazards  \\\n0          88       Good   Clear     Rural             Low          NaN   \n1          88       Good   Clear     Rural             Low          NaN   \n2          88       Good   Clear     Rural             Low          NaN   \n3         167       Good   Clear     Urban             Low          NaN   \n4         167       Good   Clear     Urban             Low          NaN   \n\n  Time_of_Day  Temperature Fatigue_Level Speeding  Risk_Score  \n0     Morning           22           Low       No        10.4  \n1     Morning           22           Low       No        10.4  \n2     Morning           22           Low       No        10.4  \n3   Afternoon           25           Low       No        14.7  \n4   Afternoon           25           Low       No        14.7  ",
      "text/html": "<div>\n<style scoped>\n    .dataframe tbody tr th:only-of-type {\n        vertical-align: middle;\n    }\n\n    .dataframe tbody tr th {\n        vertical-align: top;\n    }\n\n    .dataframe thead th {\n        text-align: right;\n    }\n</style>\n<table border=\"1\" class=\"dataframe\">\n  <thead>\n    <tr style=\"text-align: right;\">\n      <th></th>\n      <th>Driver_Age</th>\n      <th>Driver_Experience</th>\n      <th>Driver_Awake_Time</th>\n      <th>Last_Service_Months_Ago</th>\n      <th>Cargo_Load</th>\n      <th>Visibility</th>\n      <th>Weather</th>\n      <th>Road_Type</th>\n      <th>Traffic_Density</th>\n      <th>Road_Hazards</th>\n      <th>Time_of_Day</th>\n      <th>Temperature</th>\n      <th>Fatigue_Level</th>\n      <th>Speeding</th>\n      <th>Risk_Score</th>\n    </tr>\n  </thead>\n  <tbody>\n    <tr>\n      <th>0</th>\n      <td>19</td>\n      <td>1</td>\n      <td>5.5</td>\n      <td>1</td>\n      <td>88</td>\n      <td>Good</td>\n      <td>Clear</td>\n      <td>Rural</td>\n      <td>Low</td>\n      <td>NaN</td>\n      <td>Morning</td>\n      <td>22</td>\n      <td>Low</td>\n      <td>No</td>\n      <td>10.4</td>\n    </tr>\n    <tr>\n      <th>1</th>\n      <td>19</td>\n      <td>1</td>\n      <td>5.5</td>\n      <td>1</td>\n      <td>88</td>\n      <td>Good</td>\n      <td>Clear</td>\n      <td>Rural</td>\n      <td>Low</td>\n      <td>NaN</td>\n      <td>Morning</td>\n      <td>22</td>\n      <td>Low</td>\n      <td>No</td>\n      <td>10.4</td>\n    </tr>\n    <tr>\n      <th>2</th>\n      <td>19</td>\n      <td>1</td>\n      <td>5.5</td>\n      <td>1</td>\n      <td>88</td>\n      <td>Good</td>\n      <td>Clear</td>\n      <td>Rural</td>\n      <td>Low</td>\n      <td>NaN</td>\n      <td>Morning</td>\n      <td>22</td>\n      <td>Low</td>\n      <td>No</td>\n      <td>10.4</td>\n    </tr>\n    <tr>\n      <th>3</th>\n      <td>32</td>\n      <td>3</td>\n      <td>5.9</td>\n      <td>6</td>\n      <td>167</td>\n      <td>Good</td>\n      <td>Clear</td>\n      <td>Urban</td>\n      <td>Low</td>\n      <td>NaN</td>\n      <td>Afternoon</td>\n      <td>25</td>\n      <td>Low</td>\n      <td>No</td>\n      <td>14.7</td>\n    </tr>\n    <tr>\n      <th>4</th>\n      <td>32</td>\n      <td>3</td>\n      <td>5.9</td>\n      <td>6</td>\n      <td>167</td>\n      <td>Good</td>\n      <td>Clear</td>\n      <td>Urban</td>\n      <td>Low</td>\n      <td>NaN</td>\n      <td>Afternoon</td>\n      <td>25</td>\n      <td>Low</td>\n      <td>No</td>\n      <td>14.7</td>\n    </tr>\n  </tbody>\n</table>\n</div>"
     },
     "execution_count": 23,
     "metadata": {},
     "output_type": "execute_result"
    }
   ],
   "source": [
    "df.head()"
   ],
   "metadata": {
    "collapsed": false,
    "ExecuteTime": {
     "end_time": "2024-11-18T10:26:21.698975Z",
     "start_time": "2024-11-18T10:26:20.937631Z"
    }
   },
   "id": "83512aee1a963fe7",
   "execution_count": 23
  },
  {
   "cell_type": "code",
   "outputs": [],
   "source": [
    "# Identify numeric and categorical features\n",
    "numeric_features = ['Driver_Age', 'Driver_Experience', 'Driver_Awake_Time',\n",
    "                    'Last_Service_Months_Ago', 'Cargo_Load', 'Temperature']\n",
    "categorical_features = ['Visibility', 'Weather', 'Road_Type', 'Traffic_Density', \n",
    "                        'Road_Hazards', 'Time_of_Day', 'Fatigue_Level', 'Speeding']\n"
   ],
   "metadata": {
    "collapsed": false,
    "ExecuteTime": {
     "end_time": "2024-11-18T07:56:21.146910Z",
     "start_time": "2024-11-18T07:56:21.140950Z"
    }
   },
   "id": "a5765b98e562e661",
   "execution_count": 5
  },
  {
   "cell_type": "code",
   "outputs": [],
   "source": [
    "# Define preprocessor\n",
    "numeric_transformer = StandardScaler()\n",
    "categorical_transformer = OneHotEncoder(handle_unknown='ignore')"
   ],
   "metadata": {
    "collapsed": false,
    "ExecuteTime": {
     "end_time": "2024-11-18T07:56:21.154208Z",
     "start_time": "2024-11-18T07:56:21.148926Z"
    }
   },
   "id": "dfaae971e60cf25",
   "execution_count": 6
  },
  {
   "cell_type": "code",
   "outputs": [],
   "source": [
    "preprocessor = ColumnTransformer(\n",
    "    transformers=[\n",
    "        ('num', numeric_transformer, numeric_features),\n",
    "        ('cat', categorical_transformer, categorical_features)\n",
    "    ])"
   ],
   "metadata": {
    "collapsed": false,
    "ExecuteTime": {
     "end_time": "2024-11-18T07:56:21.160839Z",
     "start_time": "2024-11-18T07:56:21.155217Z"
    }
   },
   "id": "faff14842d7596",
   "execution_count": 7
  },
  {
   "cell_type": "code",
   "outputs": [],
   "source": [
    "# Train-Test Split\n",
    "X_train, X_test, y_train, y_test = train_test_split(X, y, test_size=0.2, random_state=42)\n"
   ],
   "metadata": {
    "collapsed": false,
    "ExecuteTime": {
     "end_time": "2024-11-18T07:56:21.177366Z",
     "start_time": "2024-11-18T07:56:21.163849Z"
    }
   },
   "id": "ce27aee91a0be456",
   "execution_count": 8
  },
  {
   "cell_type": "code",
   "outputs": [
    {
     "name": "stderr",
     "output_type": "stream",
     "text": [
      "C:\\Users\\shiva\\AppData\\Local\\Programs\\Python\\Python312\\Lib\\site-packages\\keras\\src\\layers\\core\\dense.py:87: UserWarning: Do not pass an `input_shape`/`input_dim` argument to a layer. When using Sequential models, prefer using an `Input(shape)` object as the first layer in the model instead.\n",
      "  super().__init__(activity_regularizer=activity_regularizer, **kwargs)\n"
     ]
    }
   ],
   "source": [
    "# TensorFlow Model\n",
    "model = Sequential([\n",
    "    Dense(128, activation='relu', input_shape=(42,)),\n",
    "    Dropout(0.2),\n",
    "    Dense(64, activation='relu'),\n",
    "    Dropout(0.2),\n",
    "    Dense(1)  # Regression output\n",
    "])\n"
   ],
   "metadata": {
    "collapsed": false,
    "ExecuteTime": {
     "end_time": "2024-11-18T07:56:35.988461Z",
     "start_time": "2024-11-18T07:56:35.780062Z"
    }
   },
   "id": "f42aa69bc2470eb9",
   "execution_count": 10
  },
  {
   "cell_type": "code",
   "outputs": [],
   "source": [
    "# Compile Model\n",
    "model.compile(optimizer=Adam(learning_rate=0.001), loss='mse', metrics=['mae'])\n"
   ],
   "metadata": {
    "collapsed": false,
    "ExecuteTime": {
     "end_time": "2024-11-18T07:56:37.577613Z",
     "start_time": "2024-11-18T07:56:37.559517Z"
    }
   },
   "id": "2bb5bd5b28d8c084",
   "execution_count": 11
  },
  {
   "cell_type": "code",
   "outputs": [],
   "source": [
    "# Create the full pipeline\n",
    "pipeline = Pipeline(steps=[\n",
    "    ('preprocessor', preprocessor),\n",
    "    ('model', model)\n",
    "])"
   ],
   "metadata": {
    "collapsed": false,
    "ExecuteTime": {
     "end_time": "2024-11-18T07:56:39.283174Z",
     "start_time": "2024-11-18T07:56:39.276085Z"
    }
   },
   "id": "bdd3075a83e28fac",
   "execution_count": 12
  },
  {
   "cell_type": "code",
   "outputs": [],
   "source": [
    "\n",
    "# Preprocess the data\n",
    "X_train_preprocessed = preprocessor.fit_transform(X_train)\n",
    "X_test_preprocessed = preprocessor.transform(X_test)"
   ],
   "metadata": {
    "collapsed": false,
    "ExecuteTime": {
     "end_time": "2024-11-18T07:56:41.456373Z",
     "start_time": "2024-11-18T07:56:41.390311Z"
    }
   },
   "id": "fb96dfa3cf10e24f",
   "execution_count": 13
  },
  {
   "cell_type": "code",
   "outputs": [
    {
     "name": "stdout",
     "output_type": "stream",
     "text": [
      "Epoch 1/50\n",
      "\u001B[1m375/375\u001B[0m \u001B[32m━━━━━━━━━━━━━━━━━━━━\u001B[0m\u001B[37m\u001B[0m \u001B[1m4s\u001B[0m 3ms/step - loss: 1570.0055 - mae: 25.8242 - val_loss: 4.6371 - val_mae: 1.6241\n",
      "Epoch 2/50\n",
      "\u001B[1m375/375\u001B[0m \u001B[32m━━━━━━━━━━━━━━━━━━━━\u001B[0m\u001B[37m\u001B[0m \u001B[1m1s\u001B[0m 3ms/step - loss: 44.3808 - mae: 4.7878 - val_loss: 3.0876 - val_mae: 1.2035\n",
      "Epoch 3/50\n",
      "\u001B[1m375/375\u001B[0m \u001B[32m━━━━━━━━━━━━━━━━━━━━\u001B[0m\u001B[37m\u001B[0m \u001B[1m1s\u001B[0m 3ms/step - loss: 41.0441 - mae: 4.5762 - val_loss: 9.8887 - val_mae: 2.4292\n",
      "Epoch 4/50\n",
      "\u001B[1m375/375\u001B[0m \u001B[32m━━━━━━━━━━━━━━━━━━━━\u001B[0m\u001B[37m\u001B[0m \u001B[1m1s\u001B[0m 2ms/step - loss: 41.3259 - mae: 4.5786 - val_loss: 1.8527 - val_mae: 0.8399\n",
      "Epoch 5/50\n",
      "\u001B[1m375/375\u001B[0m \u001B[32m━━━━━━━━━━━━━━━━━━━━\u001B[0m\u001B[37m\u001B[0m \u001B[1m1s\u001B[0m 2ms/step - loss: 39.1055 - mae: 4.4617 - val_loss: 7.8660 - val_mae: 2.2589\n",
      "Epoch 6/50\n",
      "\u001B[1m375/375\u001B[0m \u001B[32m━━━━━━━━━━━━━━━━━━━━\u001B[0m\u001B[37m\u001B[0m \u001B[1m1s\u001B[0m 2ms/step - loss: 39.8984 - mae: 4.4474 - val_loss: 1.9649 - val_mae: 0.8543\n",
      "Epoch 7/50\n",
      "\u001B[1m375/375\u001B[0m \u001B[32m━━━━━━━━━━━━━━━━━━━━\u001B[0m\u001B[37m\u001B[0m \u001B[1m1s\u001B[0m 2ms/step - loss: 39.6913 - mae: 4.4611 - val_loss: 2.0007 - val_mae: 0.8592\n",
      "Epoch 8/50\n",
      "\u001B[1m375/375\u001B[0m \u001B[32m━━━━━━━━━━━━━━━━━━━━\u001B[0m\u001B[37m\u001B[0m \u001B[1m1s\u001B[0m 2ms/step - loss: 40.0143 - mae: 4.4658 - val_loss: 1.9588 - val_mae: 0.8291\n",
      "Epoch 9/50\n",
      "\u001B[1m375/375\u001B[0m \u001B[32m━━━━━━━━━━━━━━━━━━━━\u001B[0m\u001B[37m\u001B[0m \u001B[1m1s\u001B[0m 2ms/step - loss: 39.3546 - mae: 4.3612 - val_loss: 1.2521 - val_mae: 0.5477\n",
      "Epoch 10/50\n",
      "\u001B[1m375/375\u001B[0m \u001B[32m━━━━━━━━━━━━━━━━━━━━\u001B[0m\u001B[37m\u001B[0m \u001B[1m1s\u001B[0m 2ms/step - loss: 38.6650 - mae: 4.3779 - val_loss: 2.2000 - val_mae: 0.9089\n",
      "Epoch 11/50\n",
      "\u001B[1m375/375\u001B[0m \u001B[32m━━━━━━━━━━━━━━━━━━━━\u001B[0m\u001B[37m\u001B[0m \u001B[1m1s\u001B[0m 2ms/step - loss: 36.9402 - mae: 4.2774 - val_loss: 1.5346 - val_mae: 0.6878\n",
      "Epoch 12/50\n",
      "\u001B[1m375/375\u001B[0m \u001B[32m━━━━━━━━━━━━━━━━━━━━\u001B[0m\u001B[37m\u001B[0m \u001B[1m1s\u001B[0m 2ms/step - loss: 37.1318 - mae: 4.2909 - val_loss: 4.0600 - val_mae: 1.5289\n",
      "Epoch 13/50\n",
      "\u001B[1m375/375\u001B[0m \u001B[32m━━━━━━━━━━━━━━━━━━━━\u001B[0m\u001B[37m\u001B[0m \u001B[1m1s\u001B[0m 2ms/step - loss: 38.1353 - mae: 4.3641 - val_loss: 2.7095 - val_mae: 1.1101\n",
      "Epoch 14/50\n",
      "\u001B[1m375/375\u001B[0m \u001B[32m━━━━━━━━━━━━━━━━━━━━\u001B[0m\u001B[37m\u001B[0m \u001B[1m1s\u001B[0m 2ms/step - loss: 37.7711 - mae: 4.3164 - val_loss: 1.3857 - val_mae: 0.6256\n",
      "Epoch 15/50\n",
      "\u001B[1m375/375\u001B[0m \u001B[32m━━━━━━━━━━━━━━━━━━━━\u001B[0m\u001B[37m\u001B[0m \u001B[1m1s\u001B[0m 2ms/step - loss: 35.6936 - mae: 4.2503 - val_loss: 3.5646 - val_mae: 1.3334\n",
      "Epoch 16/50\n",
      "\u001B[1m375/375\u001B[0m \u001B[32m━━━━━━━━━━━━━━━━━━━━\u001B[0m\u001B[37m\u001B[0m \u001B[1m1s\u001B[0m 2ms/step - loss: 35.7557 - mae: 4.1906 - val_loss: 3.2733 - val_mae: 1.3103\n",
      "Epoch 17/50\n",
      "\u001B[1m375/375\u001B[0m \u001B[32m━━━━━━━━━━━━━━━━━━━━\u001B[0m\u001B[37m\u001B[0m \u001B[1m1s\u001B[0m 2ms/step - loss: 36.1074 - mae: 4.2130 - val_loss: 1.7353 - val_mae: 0.8755\n",
      "Epoch 18/50\n",
      "\u001B[1m375/375\u001B[0m \u001B[32m━━━━━━━━━━━━━━━━━━━━\u001B[0m\u001B[37m\u001B[0m \u001B[1m1s\u001B[0m 2ms/step - loss: 36.0891 - mae: 4.2076 - val_loss: 2.4519 - val_mae: 1.0662\n",
      "Epoch 19/50\n",
      "\u001B[1m375/375\u001B[0m \u001B[32m━━━━━━━━━━━━━━━━━━━━\u001B[0m\u001B[37m\u001B[0m \u001B[1m1s\u001B[0m 2ms/step - loss: 35.2566 - mae: 4.1591 - val_loss: 1.7085 - val_mae: 0.7586\n",
      "Epoch 20/50\n",
      "\u001B[1m375/375\u001B[0m \u001B[32m━━━━━━━━━━━━━━━━━━━━\u001B[0m\u001B[37m\u001B[0m \u001B[1m1s\u001B[0m 2ms/step - loss: 34.6424 - mae: 4.1554 - val_loss: 2.0540 - val_mae: 0.9523\n",
      "Epoch 21/50\n",
      "\u001B[1m375/375\u001B[0m \u001B[32m━━━━━━━━━━━━━━━━━━━━\u001B[0m\u001B[37m\u001B[0m \u001B[1m1s\u001B[0m 2ms/step - loss: 34.4850 - mae: 4.0957 - val_loss: 1.9135 - val_mae: 0.8722\n",
      "Epoch 22/50\n",
      "\u001B[1m375/375\u001B[0m \u001B[32m━━━━━━━━━━━━━━━━━━━━\u001B[0m\u001B[37m\u001B[0m \u001B[1m1s\u001B[0m 2ms/step - loss: 34.8897 - mae: 4.1293 - val_loss: 3.9784 - val_mae: 1.4545\n",
      "Epoch 23/50\n",
      "\u001B[1m375/375\u001B[0m \u001B[32m━━━━━━━━━━━━━━━━━━━━\u001B[0m\u001B[37m\u001B[0m \u001B[1m1s\u001B[0m 2ms/step - loss: 33.5865 - mae: 4.0385 - val_loss: 5.2452 - val_mae: 1.8039\n",
      "Epoch 24/50\n",
      "\u001B[1m375/375\u001B[0m \u001B[32m━━━━━━━━━━━━━━━━━━━━\u001B[0m\u001B[37m\u001B[0m \u001B[1m1s\u001B[0m 2ms/step - loss: 33.0538 - mae: 4.0133 - val_loss: 3.1317 - val_mae: 1.2086\n",
      "Epoch 25/50\n",
      "\u001B[1m375/375\u001B[0m \u001B[32m━━━━━━━━━━━━━━━━━━━━\u001B[0m\u001B[37m\u001B[0m \u001B[1m1s\u001B[0m 3ms/step - loss: 33.9813 - mae: 4.0684 - val_loss: 1.1753 - val_mae: 0.5676\n",
      "Epoch 26/50\n",
      "\u001B[1m375/375\u001B[0m \u001B[32m━━━━━━━━━━━━━━━━━━━━\u001B[0m\u001B[37m\u001B[0m \u001B[1m1s\u001B[0m 2ms/step - loss: 33.3126 - mae: 3.9785 - val_loss: 1.3901 - val_mae: 0.6820\n",
      "Epoch 27/50\n",
      "\u001B[1m375/375\u001B[0m \u001B[32m━━━━━━━━━━━━━━━━━━━━\u001B[0m\u001B[37m\u001B[0m \u001B[1m1s\u001B[0m 2ms/step - loss: 35.1752 - mae: 4.1455 - val_loss: 1.6723 - val_mae: 0.7796\n",
      "Epoch 28/50\n",
      "\u001B[1m375/375\u001B[0m \u001B[32m━━━━━━━━━━━━━━━━━━━━\u001B[0m\u001B[37m\u001B[0m \u001B[1m1s\u001B[0m 2ms/step - loss: 34.0487 - mae: 4.0452 - val_loss: 4.5633 - val_mae: 1.6421\n",
      "Epoch 29/50\n",
      "\u001B[1m375/375\u001B[0m \u001B[32m━━━━━━━━━━━━━━━━━━━━\u001B[0m\u001B[37m\u001B[0m \u001B[1m1s\u001B[0m 2ms/step - loss: 35.6497 - mae: 4.1125 - val_loss: 1.2115 - val_mae: 0.6417\n",
      "Epoch 30/50\n",
      "\u001B[1m375/375\u001B[0m \u001B[32m━━━━━━━━━━━━━━━━━━━━\u001B[0m\u001B[37m\u001B[0m \u001B[1m1s\u001B[0m 2ms/step - loss: 33.6749 - mae: 4.0509 - val_loss: 1.3389 - val_mae: 0.6513\n",
      "Epoch 31/50\n",
      "\u001B[1m375/375\u001B[0m \u001B[32m━━━━━━━━━━━━━━━━━━━━\u001B[0m\u001B[37m\u001B[0m \u001B[1m1s\u001B[0m 3ms/step - loss: 31.7650 - mae: 3.9238 - val_loss: 1.6191 - val_mae: 0.7795\n",
      "Epoch 32/50\n",
      "\u001B[1m375/375\u001B[0m \u001B[32m━━━━━━━━━━━━━━━━━━━━\u001B[0m\u001B[37m\u001B[0m \u001B[1m1s\u001B[0m 3ms/step - loss: 33.4218 - mae: 4.0073 - val_loss: 9.0519 - val_mae: 2.4719\n",
      "Epoch 33/50\n",
      "\u001B[1m375/375\u001B[0m \u001B[32m━━━━━━━━━━━━━━━━━━━━\u001B[0m\u001B[37m\u001B[0m \u001B[1m1s\u001B[0m 2ms/step - loss: 33.8368 - mae: 4.0360 - val_loss: 2.2403 - val_mae: 0.9823\n",
      "Epoch 34/50\n",
      "\u001B[1m375/375\u001B[0m \u001B[32m━━━━━━━━━━━━━━━━━━━━\u001B[0m\u001B[37m\u001B[0m \u001B[1m1s\u001B[0m 2ms/step - loss: 33.1883 - mae: 4.0118 - val_loss: 1.2188 - val_mae: 0.6305\n",
      "Epoch 35/50\n",
      "\u001B[1m375/375\u001B[0m \u001B[32m━━━━━━━━━━━━━━━━━━━━\u001B[0m\u001B[37m\u001B[0m \u001B[1m1s\u001B[0m 2ms/step - loss: 34.7040 - mae: 4.0630 - val_loss: 1.0960 - val_mae: 0.4835\n",
      "Epoch 36/50\n",
      "\u001B[1m375/375\u001B[0m \u001B[32m━━━━━━━━━━━━━━━━━━━━\u001B[0m\u001B[37m\u001B[0m \u001B[1m1s\u001B[0m 2ms/step - loss: 32.7754 - mae: 3.9362 - val_loss: 1.0056 - val_mae: 0.4618\n",
      "Epoch 37/50\n",
      "\u001B[1m375/375\u001B[0m \u001B[32m━━━━━━━━━━━━━━━━━━━━\u001B[0m\u001B[37m\u001B[0m \u001B[1m1s\u001B[0m 2ms/step - loss: 32.0808 - mae: 3.9292 - val_loss: 1.4258 - val_mae: 0.7038\n",
      "Epoch 38/50\n",
      "\u001B[1m375/375\u001B[0m \u001B[32m━━━━━━━━━━━━━━━━━━━━\u001B[0m\u001B[37m\u001B[0m \u001B[1m1s\u001B[0m 2ms/step - loss: 32.8860 - mae: 3.9365 - val_loss: 1.0719 - val_mae: 0.4987\n",
      "Epoch 39/50\n",
      "\u001B[1m375/375\u001B[0m \u001B[32m━━━━━━━━━━━━━━━━━━━━\u001B[0m\u001B[37m\u001B[0m \u001B[1m1s\u001B[0m 3ms/step - loss: 31.2526 - mae: 3.8886 - val_loss: 2.7089 - val_mae: 1.1608\n",
      "Epoch 40/50\n",
      "\u001B[1m375/375\u001B[0m \u001B[32m━━━━━━━━━━━━━━━━━━━━\u001B[0m\u001B[37m\u001B[0m \u001B[1m1s\u001B[0m 3ms/step - loss: 31.2034 - mae: 3.8610 - val_loss: 2.7234 - val_mae: 1.1749\n",
      "Epoch 41/50\n",
      "\u001B[1m375/375\u001B[0m \u001B[32m━━━━━━━━━━━━━━━━━━━━\u001B[0m\u001B[37m\u001B[0m \u001B[1m1s\u001B[0m 2ms/step - loss: 29.4975 - mae: 3.7531 - val_loss: 2.6227 - val_mae: 1.2851\n",
      "Epoch 42/50\n",
      "\u001B[1m375/375\u001B[0m \u001B[32m━━━━━━━━━━━━━━━━━━━━\u001B[0m\u001B[37m\u001B[0m \u001B[1m1s\u001B[0m 2ms/step - loss: 31.3255 - mae: 3.8768 - val_loss: 8.4259 - val_mae: 2.3899\n",
      "Epoch 43/50\n",
      "\u001B[1m375/375\u001B[0m \u001B[32m━━━━━━━━━━━━━━━━━━━━\u001B[0m\u001B[37m\u001B[0m \u001B[1m1s\u001B[0m 2ms/step - loss: 31.5370 - mae: 3.8397 - val_loss: 1.2017 - val_mae: 0.5630\n",
      "Epoch 44/50\n",
      "\u001B[1m375/375\u001B[0m \u001B[32m━━━━━━━━━━━━━━━━━━━━\u001B[0m\u001B[37m\u001B[0m \u001B[1m1s\u001B[0m 2ms/step - loss: 29.8881 - mae: 3.7478 - val_loss: 1.2054 - val_mae: 0.5733\n",
      "Epoch 45/50\n",
      "\u001B[1m375/375\u001B[0m \u001B[32m━━━━━━━━━━━━━━━━━━━━\u001B[0m\u001B[37m\u001B[0m \u001B[1m1s\u001B[0m 2ms/step - loss: 29.1973 - mae: 3.7479 - val_loss: 2.2178 - val_mae: 0.9575\n",
      "Epoch 46/50\n",
      "\u001B[1m375/375\u001B[0m \u001B[32m━━━━━━━━━━━━━━━━━━━━\u001B[0m\u001B[37m\u001B[0m \u001B[1m1s\u001B[0m 2ms/step - loss: 30.7892 - mae: 3.8582 - val_loss: 4.3265 - val_mae: 1.5909\n",
      "Epoch 47/50\n",
      "\u001B[1m375/375\u001B[0m \u001B[32m━━━━━━━━━━━━━━━━━━━━\u001B[0m\u001B[37m\u001B[0m \u001B[1m1s\u001B[0m 2ms/step - loss: 29.8667 - mae: 3.7633 - val_loss: 1.4243 - val_mae: 0.6579\n",
      "Epoch 48/50\n",
      "\u001B[1m375/375\u001B[0m \u001B[32m━━━━━━━━━━━━━━━━━━━━\u001B[0m\u001B[37m\u001B[0m \u001B[1m1s\u001B[0m 2ms/step - loss: 29.9922 - mae: 3.8059 - val_loss: 9.1409 - val_mae: 2.4408\n",
      "Epoch 49/50\n",
      "\u001B[1m375/375\u001B[0m \u001B[32m━━━━━━━━━━━━━━━━━━━━\u001B[0m\u001B[37m\u001B[0m \u001B[1m1s\u001B[0m 2ms/step - loss: 29.2481 - mae: 3.7359 - val_loss: 1.7389 - val_mae: 0.8323\n",
      "Epoch 50/50\n",
      "\u001B[1m375/375\u001B[0m \u001B[32m━━━━━━━━━━━━━━━━━━━━\u001B[0m\u001B[37m\u001B[0m \u001B[1m1s\u001B[0m 2ms/step - loss: 29.5503 - mae: 3.7443 - val_loss: 1.7054 - val_mae: 0.7889\n"
     ]
    }
   ],
   "source": [
    "# Train the model\n",
    "history = model.fit(X_train_preprocessed, y_train, validation_data=(X_test_preprocessed, y_test),\n",
    "                    epochs=50, batch_size=32)"
   ],
   "metadata": {
    "collapsed": false,
    "ExecuteTime": {
     "end_time": "2024-11-18T07:57:30.248273Z",
     "start_time": "2024-11-18T07:56:42.224108Z"
    }
   },
   "id": "6a95b53a18e33940",
   "execution_count": 14
  },
  {
   "cell_type": "code",
   "outputs": [
    {
     "name": "stdout",
     "output_type": "stream",
     "text": [
      "\u001B[1m94/94\u001B[0m \u001B[32m━━━━━━━━━━━━━━━━━━━━\u001B[0m\u001B[37m\u001B[0m \u001B[1m0s\u001B[0m 1ms/step - loss: 1.4114 - mae: 0.7786\n",
      "Test Loss: 1.7053649425506592, Test MAE: 0.788854718208313\n"
     ]
    }
   ],
   "source": [
    "# Evaluate the model\n",
    "loss, mae = model.evaluate(X_test_preprocessed, y_test)\n",
    "print(f\"Test Loss: {loss}, Test MAE: {mae}\")"
   ],
   "metadata": {
    "collapsed": false,
    "ExecuteTime": {
     "end_time": "2024-11-18T07:57:30.473895Z",
     "start_time": "2024-11-18T07:57:30.250285Z"
    }
   },
   "id": "d878a859688b86e7",
   "execution_count": 15
  },
  {
   "cell_type": "code",
   "outputs": [
    {
     "name": "stdout",
     "output_type": "stream",
     "text": [
      "\u001B[1m1/1\u001B[0m \u001B[32m━━━━━━━━━━━━━━━━━━━━\u001B[0m\u001B[37m\u001B[0m \u001B[1m0s\u001B[0m 368ms/step\n",
      "Predicted Risk Score: 13.007760047912598\n"
     ]
    }
   ],
   "source": [
    "# Define the column names for the input\n",
    "columns = numeric_features + categorical_features\n",
    "\n",
    "# Wrap the input in a DataFrame\n",
    "new_input = [[19, 1, 5.5, 1, 88, 22, 'Good', 'Clear', 'Rural', 'Low', 'None', 'Morning', 'Low', 'No']]\n",
    "new_input_df = pd.DataFrame(new_input, columns=columns)\n",
    "\n",
    "# Preprocess the input\n",
    "new_input_processed = preprocessor.transform(new_input_df)\n",
    "\n",
    "# Predict the risk score\n",
    "predicted_risk = model.predict(new_input_processed)\n",
    "print(f\"Predicted Risk Score: {predicted_risk[0][0]}\")\n"
   ],
   "metadata": {
    "collapsed": false,
    "ExecuteTime": {
     "end_time": "2024-11-18T08:02:07.991591Z",
     "start_time": "2024-11-18T08:02:06.753495Z"
    }
   },
   "id": "e2aaf58667d01682",
   "execution_count": 20
  },
  {
   "cell_type": "code",
   "outputs": [
    {
     "name": "stdout",
     "output_type": "stream",
     "text": [
      "INFO:tensorflow:Assets written to: C:\\Users\\shiva\\AppData\\Local\\Temp\\tmpms2jsd_o\\assets\n"
     ]
    },
    {
     "name": "stderr",
     "output_type": "stream",
     "text": [
      "INFO:tensorflow:Assets written to: C:\\Users\\shiva\\AppData\\Local\\Temp\\tmpms2jsd_o\\assets\n"
     ]
    },
    {
     "name": "stdout",
     "output_type": "stream",
     "text": [
      "Saved artifact at 'C:\\Users\\shiva\\AppData\\Local\\Temp\\tmpms2jsd_o'. The following endpoints are available:\n",
      "\n",
      "* Endpoint 'serve'\n",
      "  args_0 (POSITIONAL_ONLY): TensorSpec(shape=(None, 42), dtype=tf.float32, name='keras_tensor')\n",
      "Output Type:\n",
      "  TensorSpec(shape=(None, 1), dtype=tf.float32, name=None)\n",
      "Captures:\n",
      "  2301262065168: TensorSpec(shape=(), dtype=tf.resource, name=None)\n",
      "  2301262064592: TensorSpec(shape=(), dtype=tf.resource, name=None)\n",
      "  2301262065744: TensorSpec(shape=(), dtype=tf.resource, name=None)\n",
      "  2301262065360: TensorSpec(shape=(), dtype=tf.resource, name=None)\n",
      "  2301262066512: TensorSpec(shape=(), dtype=tf.resource, name=None)\n",
      "  2301262067664: TensorSpec(shape=(), dtype=tf.resource, name=None)\n"
     ]
    }
   ],
   "source": [
    "converter = tf.lite.TFLiteConverter.from_keras_model(model)\n",
    "tflite_model = converter.convert()\n",
    "with open('vehicle_risk_model.tflite', 'wb') as file:\n",
    "    file.write(tflite_model)\n"
   ],
   "metadata": {
    "collapsed": false,
    "ExecuteTime": {
     "end_time": "2024-11-18T08:04:40.447368Z",
     "start_time": "2024-11-18T08:04:36.680090Z"
    }
   },
   "id": "91802b83353d4338",
   "execution_count": 22
  },
  {
   "cell_type": "code",
   "outputs": [],
   "source": [],
   "metadata": {
    "collapsed": false,
    "ExecuteTime": {
     "start_time": "2024-11-18T07:56:21.201620Z"
    }
   },
   "id": "126fb6c946e6b354",
   "execution_count": null
  }
 ],
 "metadata": {
  "kernelspec": {
   "display_name": "Python 3",
   "language": "python",
   "name": "python3"
  },
  "language_info": {
   "codemirror_mode": {
    "name": "ipython",
    "version": 2
   },
   "file_extension": ".py",
   "mimetype": "text/x-python",
   "name": "python",
   "nbconvert_exporter": "python",
   "pygments_lexer": "ipython2",
   "version": "2.7.6"
  }
 },
 "nbformat": 4,
 "nbformat_minor": 5
}
