{
 "cells": [
  {
   "cell_type": "code",
   "execution_count": null,
   "id": "cf63c761",
   "metadata": {
    "ExecuteTime": {
     "end_time": "2024-11-07T19:54:25.520140Z",
     "start_time": "2024-11-07T19:54:01.199986Z"
    }
   },
   "outputs": [],
   "source": [
    "import pandas as pd\n",
    "import numpy as np\n",
    "import matplotlib.pyplot as plt\n",
    "import seaborn as sns\n",
    "from sklearn.preprocessing import LabelEncoder, StandardScaler\n",
    "from sklearn.model_selection import train_test_split\n",
    "import tensorflow as tf\n",
    "from tensorflow.keras.models import Sequential\n",
    "from tensorflow.keras.layers import Dense, Dropout\n",
    "from tensorflow.keras.optimizers import Adam\n",
    "from sklearn.metrics import mean_squared_error, r2_score\n",
    "import xgboost as xgb\n",
    "import pickle"
   ]
  },
  {
   "cell_type": "code",
   "execution_count": null,
   "id": "d844ca23",
   "metadata": {
    "ExecuteTime": {
     "end_time": "2024-11-07T19:54:25.696490Z",
     "start_time": "2024-11-07T19:54:25.526942Z"
    }
   },
   "outputs": [],
   "source": [
    "df=pd.read_csv('Vehicle Risk Prediction Dataset.csv')"
   ]
  },
  {
   "cell_type": "code",
   "execution_count": null,
   "id": "97df3eec",
   "metadata": {
    "ExecuteTime": {
     "end_time": "2024-11-07T19:54:25.865960Z",
     "start_time": "2024-11-07T19:54:25.699308Z"
    }
   },
   "outputs": [
    {
     "data": {
      "text/html": [
       "<div>\n",
       "<style scoped>\n",
       "    .dataframe tbody tr th:only-of-type {\n",
       "        vertical-align: middle;\n",
       "    }\n",
       "\n",
       "    .dataframe tbody tr th {\n",
       "        vertical-align: top;\n",
       "    }\n",
       "\n",
       "    .dataframe thead th {\n",
       "        text-align: right;\n",
       "    }\n",
       "</style>\n",
       "<table border=\"1\" class=\"dataframe\">\n",
       "  <thead>\n",
       "    <tr style=\"text-align: right;\">\n",
       "      <th></th>\n",
       "      <th>Driver_Age</th>\n",
       "      <th>Driver_Experience</th>\n",
       "      <th>Driver_Awake_Time</th>\n",
       "      <th>Vehicle_Speed_Ratio</th>\n",
       "      <th>Last_Service_Months_Ago</th>\n",
       "      <th>Cargo_Load</th>\n",
       "      <th>Visibility</th>\n",
       "      <th>Light_Conditions</th>\n",
       "      <th>Road_Surface_Conditions</th>\n",
       "      <th>Weather</th>\n",
       "      <th>Road_Type</th>\n",
       "      <th>Landscape</th>\n",
       "      <th>Traffic_Density</th>\n",
       "      <th>Road_Hazards</th>\n",
       "      <th>Time_of_Day</th>\n",
       "      <th>Temperature</th>\n",
       "      <th>Fatigue_Level</th>\n",
       "      <th>Medical_Condition</th>\n",
       "      <th>Speeding</th>\n",
       "      <th>Risk_Score</th>\n",
       "    </tr>\n",
       "  </thead>\n",
       "  <tbody>\n",
       "    <tr>\n",
       "      <th>0</th>\n",
       "      <td>19</td>\n",
       "      <td>1</td>\n",
       "      <td>5.5</td>\n",
       "      <td>1.02</td>\n",
       "      <td>1</td>\n",
       "      <td>88</td>\n",
       "      <td>Good</td>\n",
       "      <td>Day</td>\n",
       "      <td>Dry</td>\n",
       "      <td>Clear</td>\n",
       "      <td>Rural</td>\n",
       "      <td>Forest</td>\n",
       "      <td>Low</td>\n",
       "      <td>NaN</td>\n",
       "      <td>Morning</td>\n",
       "      <td>22</td>\n",
       "      <td>Low</td>\n",
       "      <td>NaN</td>\n",
       "      <td>No</td>\n",
       "      <td>10.4</td>\n",
       "    </tr>\n",
       "    <tr>\n",
       "      <th>1</th>\n",
       "      <td>19</td>\n",
       "      <td>1</td>\n",
       "      <td>5.5</td>\n",
       "      <td>1.02</td>\n",
       "      <td>1</td>\n",
       "      <td>88</td>\n",
       "      <td>Good</td>\n",
       "      <td>Day</td>\n",
       "      <td>Dry</td>\n",
       "      <td>Clear</td>\n",
       "      <td>Rural</td>\n",
       "      <td>Forest</td>\n",
       "      <td>Low</td>\n",
       "      <td>NaN</td>\n",
       "      <td>Morning</td>\n",
       "      <td>22</td>\n",
       "      <td>Low</td>\n",
       "      <td>NaN</td>\n",
       "      <td>No</td>\n",
       "      <td>10.4</td>\n",
       "    </tr>\n",
       "    <tr>\n",
       "      <th>2</th>\n",
       "      <td>19</td>\n",
       "      <td>1</td>\n",
       "      <td>5.5</td>\n",
       "      <td>1.02</td>\n",
       "      <td>1</td>\n",
       "      <td>88</td>\n",
       "      <td>Good</td>\n",
       "      <td>Day</td>\n",
       "      <td>Dry</td>\n",
       "      <td>Clear</td>\n",
       "      <td>Rural</td>\n",
       "      <td>Forest</td>\n",
       "      <td>Low</td>\n",
       "      <td>NaN</td>\n",
       "      <td>Morning</td>\n",
       "      <td>22</td>\n",
       "      <td>Low</td>\n",
       "      <td>NaN</td>\n",
       "      <td>No</td>\n",
       "      <td>10.4</td>\n",
       "    </tr>\n",
       "    <tr>\n",
       "      <th>3</th>\n",
       "      <td>32</td>\n",
       "      <td>3</td>\n",
       "      <td>5.9</td>\n",
       "      <td>1.09</td>\n",
       "      <td>6</td>\n",
       "      <td>167</td>\n",
       "      <td>Good</td>\n",
       "      <td>Day</td>\n",
       "      <td>Dry</td>\n",
       "      <td>Clear</td>\n",
       "      <td>Urban</td>\n",
       "      <td>Urban</td>\n",
       "      <td>Low</td>\n",
       "      <td>NaN</td>\n",
       "      <td>Afternoon</td>\n",
       "      <td>25</td>\n",
       "      <td>Low</td>\n",
       "      <td>NaN</td>\n",
       "      <td>No</td>\n",
       "      <td>14.7</td>\n",
       "    </tr>\n",
       "    <tr>\n",
       "      <th>4</th>\n",
       "      <td>32</td>\n",
       "      <td>3</td>\n",
       "      <td>5.9</td>\n",
       "      <td>1.09</td>\n",
       "      <td>6</td>\n",
       "      <td>167</td>\n",
       "      <td>Good</td>\n",
       "      <td>Day</td>\n",
       "      <td>Dry</td>\n",
       "      <td>Clear</td>\n",
       "      <td>Urban</td>\n",
       "      <td>Urban</td>\n",
       "      <td>Low</td>\n",
       "      <td>NaN</td>\n",
       "      <td>Afternoon</td>\n",
       "      <td>25</td>\n",
       "      <td>Low</td>\n",
       "      <td>NaN</td>\n",
       "      <td>No</td>\n",
       "      <td>14.7</td>\n",
       "    </tr>\n",
       "    <tr>\n",
       "      <th>5</th>\n",
       "      <td>37</td>\n",
       "      <td>8</td>\n",
       "      <td>7.8</td>\n",
       "      <td>1.29</td>\n",
       "      <td>4</td>\n",
       "      <td>312</td>\n",
       "      <td>Good</td>\n",
       "      <td>Day</td>\n",
       "      <td>Dry</td>\n",
       "      <td>Clear</td>\n",
       "      <td>Urban</td>\n",
       "      <td>Urban</td>\n",
       "      <td>Low</td>\n",
       "      <td>NaN</td>\n",
       "      <td>Afternoon</td>\n",
       "      <td>27</td>\n",
       "      <td>Low</td>\n",
       "      <td>NaN</td>\n",
       "      <td>No</td>\n",
       "      <td>22.4</td>\n",
       "    </tr>\n",
       "    <tr>\n",
       "      <th>6</th>\n",
       "      <td>22</td>\n",
       "      <td>2</td>\n",
       "      <td>5.1</td>\n",
       "      <td>1.01</td>\n",
       "      <td>1</td>\n",
       "      <td>78</td>\n",
       "      <td>Good</td>\n",
       "      <td>Day</td>\n",
       "      <td>Dry</td>\n",
       "      <td>Clear</td>\n",
       "      <td>Rural</td>\n",
       "      <td>Fields</td>\n",
       "      <td>Low</td>\n",
       "      <td>NaN</td>\n",
       "      <td>Afternoon</td>\n",
       "      <td>27</td>\n",
       "      <td>Low</td>\n",
       "      <td>NaN</td>\n",
       "      <td>No</td>\n",
       "      <td>11.2</td>\n",
       "    </tr>\n",
       "    <tr>\n",
       "      <th>7</th>\n",
       "      <td>28</td>\n",
       "      <td>5</td>\n",
       "      <td>6.4</td>\n",
       "      <td>1.14</td>\n",
       "      <td>3</td>\n",
       "      <td>189</td>\n",
       "      <td>Good</td>\n",
       "      <td>Day</td>\n",
       "      <td>Dry</td>\n",
       "      <td>Clear</td>\n",
       "      <td>Rural</td>\n",
       "      <td>Forest</td>\n",
       "      <td>Low</td>\n",
       "      <td>NaN</td>\n",
       "      <td>Morning</td>\n",
       "      <td>24</td>\n",
       "      <td>Low</td>\n",
       "      <td>NaN</td>\n",
       "      <td>No</td>\n",
       "      <td>15.1</td>\n",
       "    </tr>\n",
       "    <tr>\n",
       "      <th>8</th>\n",
       "      <td>28</td>\n",
       "      <td>5</td>\n",
       "      <td>6.4</td>\n",
       "      <td>1.14</td>\n",
       "      <td>3</td>\n",
       "      <td>189</td>\n",
       "      <td>Good</td>\n",
       "      <td>Day</td>\n",
       "      <td>Dry</td>\n",
       "      <td>Clear</td>\n",
       "      <td>Rural</td>\n",
       "      <td>Forest</td>\n",
       "      <td>Low</td>\n",
       "      <td>NaN</td>\n",
       "      <td>Morning</td>\n",
       "      <td>24</td>\n",
       "      <td>Low</td>\n",
       "      <td>NaN</td>\n",
       "      <td>No</td>\n",
       "      <td>15.1</td>\n",
       "    </tr>\n",
       "    <tr>\n",
       "      <th>9</th>\n",
       "      <td>28</td>\n",
       "      <td>5</td>\n",
       "      <td>6.4</td>\n",
       "      <td>1.14</td>\n",
       "      <td>3</td>\n",
       "      <td>189</td>\n",
       "      <td>Good</td>\n",
       "      <td>Day</td>\n",
       "      <td>Dry</td>\n",
       "      <td>Clear</td>\n",
       "      <td>Rural</td>\n",
       "      <td>Forest</td>\n",
       "      <td>Low</td>\n",
       "      <td>NaN</td>\n",
       "      <td>Morning</td>\n",
       "      <td>24</td>\n",
       "      <td>Low</td>\n",
       "      <td>NaN</td>\n",
       "      <td>No</td>\n",
       "      <td>15.1</td>\n",
       "    </tr>\n",
       "    <tr>\n",
       "      <th>10</th>\n",
       "      <td>28</td>\n",
       "      <td>5</td>\n",
       "      <td>6.4</td>\n",
       "      <td>1.14</td>\n",
       "      <td>3</td>\n",
       "      <td>189</td>\n",
       "      <td>Good</td>\n",
       "      <td>Day</td>\n",
       "      <td>Dry</td>\n",
       "      <td>Clear</td>\n",
       "      <td>Rural</td>\n",
       "      <td>Forest</td>\n",
       "      <td>Low</td>\n",
       "      <td>NaN</td>\n",
       "      <td>Morning</td>\n",
       "      <td>24</td>\n",
       "      <td>Low</td>\n",
       "      <td>NaN</td>\n",
       "      <td>No</td>\n",
       "      <td>15.1</td>\n",
       "    </tr>\n",
       "    <tr>\n",
       "      <th>11</th>\n",
       "      <td>22</td>\n",
       "      <td>2</td>\n",
       "      <td>5.1</td>\n",
       "      <td>1.01</td>\n",
       "      <td>1</td>\n",
       "      <td>78</td>\n",
       "      <td>Good</td>\n",
       "      <td>Day</td>\n",
       "      <td>Dry</td>\n",
       "      <td>Clear</td>\n",
       "      <td>Rural</td>\n",
       "      <td>Fields</td>\n",
       "      <td>Low</td>\n",
       "      <td>NaN</td>\n",
       "      <td>Afternoon</td>\n",
       "      <td>27</td>\n",
       "      <td>Low</td>\n",
       "      <td>NaN</td>\n",
       "      <td>No</td>\n",
       "      <td>11.2</td>\n",
       "    </tr>\n",
       "    <tr>\n",
       "      <th>12</th>\n",
       "      <td>25</td>\n",
       "      <td>3</td>\n",
       "      <td>6.0</td>\n",
       "      <td>1.08</td>\n",
       "      <td>2</td>\n",
       "      <td>114</td>\n",
       "      <td>Good</td>\n",
       "      <td>Day</td>\n",
       "      <td>Dry</td>\n",
       "      <td>Clear</td>\n",
       "      <td>Rural</td>\n",
       "      <td>Fields</td>\n",
       "      <td>Low</td>\n",
       "      <td>NaN</td>\n",
       "      <td>Afternoon</td>\n",
       "      <td>26</td>\n",
       "      <td>Low</td>\n",
       "      <td>NaN</td>\n",
       "      <td>No</td>\n",
       "      <td>13.7</td>\n",
       "    </tr>\n",
       "    <tr>\n",
       "      <th>13</th>\n",
       "      <td>25</td>\n",
       "      <td>3</td>\n",
       "      <td>6.0</td>\n",
       "      <td>1.08</td>\n",
       "      <td>2</td>\n",
       "      <td>114</td>\n",
       "      <td>Good</td>\n",
       "      <td>Day</td>\n",
       "      <td>Dry</td>\n",
       "      <td>Clear</td>\n",
       "      <td>Rural</td>\n",
       "      <td>Fields</td>\n",
       "      <td>Low</td>\n",
       "      <td>NaN</td>\n",
       "      <td>Afternoon</td>\n",
       "      <td>26</td>\n",
       "      <td>Low</td>\n",
       "      <td>NaN</td>\n",
       "      <td>No</td>\n",
       "      <td>13.7</td>\n",
       "    </tr>\n",
       "    <tr>\n",
       "      <th>14</th>\n",
       "      <td>26</td>\n",
       "      <td>5</td>\n",
       "      <td>6.2</td>\n",
       "      <td>1.12</td>\n",
       "      <td>3</td>\n",
       "      <td>167</td>\n",
       "      <td>Good</td>\n",
       "      <td>Day</td>\n",
       "      <td>Dry</td>\n",
       "      <td>Sunny</td>\n",
       "      <td>Suburban</td>\n",
       "      <td>Fields</td>\n",
       "      <td>Low</td>\n",
       "      <td>Animals</td>\n",
       "      <td>Morning</td>\n",
       "      <td>22</td>\n",
       "      <td>Low</td>\n",
       "      <td>NaN</td>\n",
       "      <td>No</td>\n",
       "      <td>14.3</td>\n",
       "    </tr>\n",
       "    <tr>\n",
       "      <th>15</th>\n",
       "      <td>19</td>\n",
       "      <td>1</td>\n",
       "      <td>5.5</td>\n",
       "      <td>1.02</td>\n",
       "      <td>1</td>\n",
       "      <td>88</td>\n",
       "      <td>Good</td>\n",
       "      <td>Day</td>\n",
       "      <td>Dry</td>\n",
       "      <td>Clear</td>\n",
       "      <td>Rural</td>\n",
       "      <td>Forest</td>\n",
       "      <td>Low</td>\n",
       "      <td>NaN</td>\n",
       "      <td>Morning</td>\n",
       "      <td>22</td>\n",
       "      <td>Low</td>\n",
       "      <td>NaN</td>\n",
       "      <td>No</td>\n",
       "      <td>10.4</td>\n",
       "    </tr>\n",
       "    <tr>\n",
       "      <th>16</th>\n",
       "      <td>19</td>\n",
       "      <td>1</td>\n",
       "      <td>5.5</td>\n",
       "      <td>1.02</td>\n",
       "      <td>1</td>\n",
       "      <td>88</td>\n",
       "      <td>Good</td>\n",
       "      <td>Day</td>\n",
       "      <td>Dry</td>\n",
       "      <td>Clear</td>\n",
       "      <td>Rural</td>\n",
       "      <td>Forest</td>\n",
       "      <td>Low</td>\n",
       "      <td>NaN</td>\n",
       "      <td>Morning</td>\n",
       "      <td>22</td>\n",
       "      <td>Low</td>\n",
       "      <td>NaN</td>\n",
       "      <td>No</td>\n",
       "      <td>10.4</td>\n",
       "    </tr>\n",
       "    <tr>\n",
       "      <th>17</th>\n",
       "      <td>19</td>\n",
       "      <td>1</td>\n",
       "      <td>5.5</td>\n",
       "      <td>1.02</td>\n",
       "      <td>1</td>\n",
       "      <td>88</td>\n",
       "      <td>Good</td>\n",
       "      <td>Day</td>\n",
       "      <td>Dry</td>\n",
       "      <td>Clear</td>\n",
       "      <td>Rural</td>\n",
       "      <td>Forest</td>\n",
       "      <td>Low</td>\n",
       "      <td>NaN</td>\n",
       "      <td>Morning</td>\n",
       "      <td>22</td>\n",
       "      <td>Low</td>\n",
       "      <td>NaN</td>\n",
       "      <td>No</td>\n",
       "      <td>10.4</td>\n",
       "    </tr>\n",
       "    <tr>\n",
       "      <th>18</th>\n",
       "      <td>28</td>\n",
       "      <td>5</td>\n",
       "      <td>6.4</td>\n",
       "      <td>1.14</td>\n",
       "      <td>3</td>\n",
       "      <td>189</td>\n",
       "      <td>Good</td>\n",
       "      <td>Day</td>\n",
       "      <td>Dry</td>\n",
       "      <td>Clear</td>\n",
       "      <td>Rural</td>\n",
       "      <td>Forest</td>\n",
       "      <td>Low</td>\n",
       "      <td>NaN</td>\n",
       "      <td>Morning</td>\n",
       "      <td>24</td>\n",
       "      <td>Low</td>\n",
       "      <td>NaN</td>\n",
       "      <td>No</td>\n",
       "      <td>15.1</td>\n",
       "    </tr>\n",
       "    <tr>\n",
       "      <th>19</th>\n",
       "      <td>22</td>\n",
       "      <td>2</td>\n",
       "      <td>5.1</td>\n",
       "      <td>1.01</td>\n",
       "      <td>1</td>\n",
       "      <td>78</td>\n",
       "      <td>Good</td>\n",
       "      <td>Day</td>\n",
       "      <td>Dry</td>\n",
       "      <td>Clear</td>\n",
       "      <td>Rural</td>\n",
       "      <td>Fields</td>\n",
       "      <td>Low</td>\n",
       "      <td>NaN</td>\n",
       "      <td>Afternoon</td>\n",
       "      <td>27</td>\n",
       "      <td>Low</td>\n",
       "      <td>NaN</td>\n",
       "      <td>No</td>\n",
       "      <td>11.2</td>\n",
       "    </tr>\n",
       "    <tr>\n",
       "      <th>20</th>\n",
       "      <td>22</td>\n",
       "      <td>2</td>\n",
       "      <td>5.1</td>\n",
       "      <td>1.01</td>\n",
       "      <td>1</td>\n",
       "      <td>78</td>\n",
       "      <td>Good</td>\n",
       "      <td>Day</td>\n",
       "      <td>Dry</td>\n",
       "      <td>Clear</td>\n",
       "      <td>Rural</td>\n",
       "      <td>Fields</td>\n",
       "      <td>Low</td>\n",
       "      <td>NaN</td>\n",
       "      <td>Afternoon</td>\n",
       "      <td>27</td>\n",
       "      <td>Low</td>\n",
       "      <td>NaN</td>\n",
       "      <td>No</td>\n",
       "      <td>11.2</td>\n",
       "    </tr>\n",
       "    <tr>\n",
       "      <th>21</th>\n",
       "      <td>22</td>\n",
       "      <td>2</td>\n",
       "      <td>5.1</td>\n",
       "      <td>1.01</td>\n",
       "      <td>1</td>\n",
       "      <td>78</td>\n",
       "      <td>Good</td>\n",
       "      <td>Day</td>\n",
       "      <td>Dry</td>\n",
       "      <td>Clear</td>\n",
       "      <td>Rural</td>\n",
       "      <td>Fields</td>\n",
       "      <td>Low</td>\n",
       "      <td>NaN</td>\n",
       "      <td>Afternoon</td>\n",
       "      <td>27</td>\n",
       "      <td>Low</td>\n",
       "      <td>NaN</td>\n",
       "      <td>No</td>\n",
       "      <td>11.2</td>\n",
       "    </tr>\n",
       "    <tr>\n",
       "      <th>22</th>\n",
       "      <td>31</td>\n",
       "      <td>7</td>\n",
       "      <td>7.3</td>\n",
       "      <td>1.22</td>\n",
       "      <td>5</td>\n",
       "      <td>298</td>\n",
       "      <td>Moderate</td>\n",
       "      <td>Dawn</td>\n",
       "      <td>Wet</td>\n",
       "      <td>Overcast</td>\n",
       "      <td>Rural</td>\n",
       "      <td>Forest</td>\n",
       "      <td>Medium</td>\n",
       "      <td>NaN</td>\n",
       "      <td>Day</td>\n",
       "      <td>17</td>\n",
       "      <td>Moderate</td>\n",
       "      <td>NaN</td>\n",
       "      <td>No</td>\n",
       "      <td>29.8</td>\n",
       "    </tr>\n",
       "    <tr>\n",
       "      <th>23</th>\n",
       "      <td>35</td>\n",
       "      <td>10</td>\n",
       "      <td>7.9</td>\n",
       "      <td>1.27</td>\n",
       "      <td>7</td>\n",
       "      <td>421</td>\n",
       "      <td>Moderate</td>\n",
       "      <td>Dawn</td>\n",
       "      <td>Wet</td>\n",
       "      <td>Overcast</td>\n",
       "      <td>Rural</td>\n",
       "      <td>Forest</td>\n",
       "      <td>Medium</td>\n",
       "      <td>NaN</td>\n",
       "      <td>Day</td>\n",
       "      <td>15</td>\n",
       "      <td>Moderate</td>\n",
       "      <td>NaN</td>\n",
       "      <td>No</td>\n",
       "      <td>32.6</td>\n",
       "    </tr>\n",
       "    <tr>\n",
       "      <th>24</th>\n",
       "      <td>35</td>\n",
       "      <td>10</td>\n",
       "      <td>7.9</td>\n",
       "      <td>1.27</td>\n",
       "      <td>7</td>\n",
       "      <td>421</td>\n",
       "      <td>Moderate</td>\n",
       "      <td>Dawn</td>\n",
       "      <td>Wet</td>\n",
       "      <td>Overcast</td>\n",
       "      <td>Rural</td>\n",
       "      <td>Forest</td>\n",
       "      <td>Medium</td>\n",
       "      <td>NaN</td>\n",
       "      <td>Day</td>\n",
       "      <td>15</td>\n",
       "      <td>Moderate</td>\n",
       "      <td>NaN</td>\n",
       "      <td>No</td>\n",
       "      <td>32.6</td>\n",
       "    </tr>\n",
       "    <tr>\n",
       "      <th>25</th>\n",
       "      <td>65</td>\n",
       "      <td>41</td>\n",
       "      <td>10.7</td>\n",
       "      <td>1.89</td>\n",
       "      <td>17</td>\n",
       "      <td>1000</td>\n",
       "      <td>Poor</td>\n",
       "      <td>Twilight</td>\n",
       "      <td>Icy</td>\n",
       "      <td>Snowy</td>\n",
       "      <td>Highway</td>\n",
       "      <td>Hilly</td>\n",
       "      <td>High</td>\n",
       "      <td>NaN</td>\n",
       "      <td>Morning</td>\n",
       "      <td>8</td>\n",
       "      <td>High</td>\n",
       "      <td>Asthma</td>\n",
       "      <td>Yes</td>\n",
       "      <td>90.1</td>\n",
       "    </tr>\n",
       "    <tr>\n",
       "      <th>26</th>\n",
       "      <td>58</td>\n",
       "      <td>29</td>\n",
       "      <td>11.7</td>\n",
       "      <td>1.67</td>\n",
       "      <td>15</td>\n",
       "      <td>952</td>\n",
       "      <td>Poor</td>\n",
       "      <td>Dark</td>\n",
       "      <td>Icy</td>\n",
       "      <td>Blizzard</td>\n",
       "      <td>Highway</td>\n",
       "      <td>Mountains</td>\n",
       "      <td>High</td>\n",
       "      <td>Debris</td>\n",
       "      <td>Night</td>\n",
       "      <td>-5</td>\n",
       "      <td>High</td>\n",
       "      <td>NaN</td>\n",
       "      <td>Yes</td>\n",
       "      <td>82.6</td>\n",
       "    </tr>\n",
       "    <tr>\n",
       "      <th>27</th>\n",
       "      <td>58</td>\n",
       "      <td>29</td>\n",
       "      <td>11.7</td>\n",
       "      <td>1.67</td>\n",
       "      <td>15</td>\n",
       "      <td>952</td>\n",
       "      <td>Poor</td>\n",
       "      <td>Dark</td>\n",
       "      <td>Icy</td>\n",
       "      <td>Blizzard</td>\n",
       "      <td>Highway</td>\n",
       "      <td>Mountains</td>\n",
       "      <td>High</td>\n",
       "      <td>Debris</td>\n",
       "      <td>Night</td>\n",
       "      <td>-5</td>\n",
       "      <td>High</td>\n",
       "      <td>NaN</td>\n",
       "      <td>Yes</td>\n",
       "      <td>82.6</td>\n",
       "    </tr>\n",
       "    <tr>\n",
       "      <th>28</th>\n",
       "      <td>73</td>\n",
       "      <td>49</td>\n",
       "      <td>12.1</td>\n",
       "      <td>2.08</td>\n",
       "      <td>18</td>\n",
       "      <td>1134</td>\n",
       "      <td>Poor</td>\n",
       "      <td>Twilight</td>\n",
       "      <td>Icy</td>\n",
       "      <td>Snowy</td>\n",
       "      <td>Highway</td>\n",
       "      <td>Hilly</td>\n",
       "      <td>High</td>\n",
       "      <td>Animals</td>\n",
       "      <td>Morning</td>\n",
       "      <td>0</td>\n",
       "      <td>High</td>\n",
       "      <td>NaN</td>\n",
       "      <td>Yes</td>\n",
       "      <td>97.5</td>\n",
       "    </tr>\n",
       "    <tr>\n",
       "      <th>29</th>\n",
       "      <td>54</td>\n",
       "      <td>25</td>\n",
       "      <td>10.9</td>\n",
       "      <td>1.62</td>\n",
       "      <td>13</td>\n",
       "      <td>842</td>\n",
       "      <td>Poor</td>\n",
       "      <td>Dark</td>\n",
       "      <td>Icy</td>\n",
       "      <td>Blizzard</td>\n",
       "      <td>Highway</td>\n",
       "      <td>Mountains</td>\n",
       "      <td>High</td>\n",
       "      <td>Debris</td>\n",
       "      <td>Night</td>\n",
       "      <td>-3</td>\n",
       "      <td>High</td>\n",
       "      <td>NaN</td>\n",
       "      <td>Yes</td>\n",
       "      <td>80.1</td>\n",
       "    </tr>\n",
       "  </tbody>\n",
       "</table>\n",
       "</div>"
      ],
      "text/plain": [
       "    Driver_Age  Driver_Experience  Driver_Awake_Time  Vehicle_Speed_Ratio  \\\n",
       "0           19                  1                5.5                 1.02   \n",
       "1           19                  1                5.5                 1.02   \n",
       "2           19                  1                5.5                 1.02   \n",
       "3           32                  3                5.9                 1.09   \n",
       "4           32                  3                5.9                 1.09   \n",
       "5           37                  8                7.8                 1.29   \n",
       "6           22                  2                5.1                 1.01   \n",
       "7           28                  5                6.4                 1.14   \n",
       "8           28                  5                6.4                 1.14   \n",
       "9           28                  5                6.4                 1.14   \n",
       "10          28                  5                6.4                 1.14   \n",
       "11          22                  2                5.1                 1.01   \n",
       "12          25                  3                6.0                 1.08   \n",
       "13          25                  3                6.0                 1.08   \n",
       "14          26                  5                6.2                 1.12   \n",
       "15          19                  1                5.5                 1.02   \n",
       "16          19                  1                5.5                 1.02   \n",
       "17          19                  1                5.5                 1.02   \n",
       "18          28                  5                6.4                 1.14   \n",
       "19          22                  2                5.1                 1.01   \n",
       "20          22                  2                5.1                 1.01   \n",
       "21          22                  2                5.1                 1.01   \n",
       "22          31                  7                7.3                 1.22   \n",
       "23          35                 10                7.9                 1.27   \n",
       "24          35                 10                7.9                 1.27   \n",
       "25          65                 41               10.7                 1.89   \n",
       "26          58                 29               11.7                 1.67   \n",
       "27          58                 29               11.7                 1.67   \n",
       "28          73                 49               12.1                 2.08   \n",
       "29          54                 25               10.9                 1.62   \n",
       "\n",
       "    Last_Service_Months_Ago  Cargo_Load Visibility Light_Conditions  \\\n",
       "0                         1          88       Good              Day   \n",
       "1                         1          88       Good              Day   \n",
       "2                         1          88       Good              Day   \n",
       "3                         6         167       Good              Day   \n",
       "4                         6         167       Good              Day   \n",
       "5                         4         312       Good              Day   \n",
       "6                         1          78       Good              Day   \n",
       "7                         3         189       Good              Day   \n",
       "8                         3         189       Good              Day   \n",
       "9                         3         189       Good              Day   \n",
       "10                        3         189       Good              Day   \n",
       "11                        1          78       Good              Day   \n",
       "12                        2         114       Good              Day   \n",
       "13                        2         114       Good              Day   \n",
       "14                        3         167       Good              Day   \n",
       "15                        1          88       Good              Day   \n",
       "16                        1          88       Good              Day   \n",
       "17                        1          88       Good              Day   \n",
       "18                        3         189       Good              Day   \n",
       "19                        1          78       Good              Day   \n",
       "20                        1          78       Good              Day   \n",
       "21                        1          78       Good              Day   \n",
       "22                        5         298   Moderate             Dawn   \n",
       "23                        7         421   Moderate             Dawn   \n",
       "24                        7         421   Moderate             Dawn   \n",
       "25                       17        1000       Poor         Twilight   \n",
       "26                       15         952       Poor             Dark   \n",
       "27                       15         952       Poor             Dark   \n",
       "28                       18        1134       Poor         Twilight   \n",
       "29                       13         842       Poor             Dark   \n",
       "\n",
       "   Road_Surface_Conditions   Weather Road_Type  Landscape Traffic_Density  \\\n",
       "0                      Dry     Clear     Rural     Forest             Low   \n",
       "1                      Dry     Clear     Rural     Forest             Low   \n",
       "2                      Dry     Clear     Rural     Forest             Low   \n",
       "3                      Dry     Clear     Urban      Urban             Low   \n",
       "4                      Dry     Clear     Urban      Urban             Low   \n",
       "5                      Dry     Clear     Urban      Urban             Low   \n",
       "6                      Dry     Clear     Rural     Fields             Low   \n",
       "7                      Dry     Clear     Rural     Forest             Low   \n",
       "8                      Dry     Clear     Rural     Forest             Low   \n",
       "9                      Dry     Clear     Rural     Forest             Low   \n",
       "10                     Dry     Clear     Rural     Forest             Low   \n",
       "11                     Dry     Clear     Rural     Fields             Low   \n",
       "12                     Dry     Clear     Rural     Fields             Low   \n",
       "13                     Dry     Clear     Rural     Fields             Low   \n",
       "14                     Dry     Sunny  Suburban     Fields             Low   \n",
       "15                     Dry     Clear     Rural     Forest             Low   \n",
       "16                     Dry     Clear     Rural     Forest             Low   \n",
       "17                     Dry     Clear     Rural     Forest             Low   \n",
       "18                     Dry     Clear     Rural     Forest             Low   \n",
       "19                     Dry     Clear     Rural     Fields             Low   \n",
       "20                     Dry     Clear     Rural     Fields             Low   \n",
       "21                     Dry     Clear     Rural     Fields             Low   \n",
       "22                     Wet  Overcast     Rural     Forest          Medium   \n",
       "23                     Wet  Overcast     Rural     Forest          Medium   \n",
       "24                     Wet  Overcast     Rural     Forest          Medium   \n",
       "25                     Icy     Snowy   Highway      Hilly            High   \n",
       "26                     Icy  Blizzard   Highway  Mountains            High   \n",
       "27                     Icy  Blizzard   Highway  Mountains            High   \n",
       "28                     Icy     Snowy   Highway      Hilly            High   \n",
       "29                     Icy  Blizzard   Highway  Mountains            High   \n",
       "\n",
       "   Road_Hazards Time_of_Day  Temperature Fatigue_Level Medical_Condition  \\\n",
       "0           NaN     Morning           22           Low               NaN   \n",
       "1           NaN     Morning           22           Low               NaN   \n",
       "2           NaN     Morning           22           Low               NaN   \n",
       "3           NaN   Afternoon           25           Low               NaN   \n",
       "4           NaN   Afternoon           25           Low               NaN   \n",
       "5           NaN   Afternoon           27           Low               NaN   \n",
       "6           NaN   Afternoon           27           Low               NaN   \n",
       "7           NaN     Morning           24           Low               NaN   \n",
       "8           NaN     Morning           24           Low               NaN   \n",
       "9           NaN     Morning           24           Low               NaN   \n",
       "10          NaN     Morning           24           Low               NaN   \n",
       "11          NaN   Afternoon           27           Low               NaN   \n",
       "12          NaN   Afternoon           26           Low               NaN   \n",
       "13          NaN   Afternoon           26           Low               NaN   \n",
       "14      Animals     Morning           22           Low               NaN   \n",
       "15          NaN     Morning           22           Low               NaN   \n",
       "16          NaN     Morning           22           Low               NaN   \n",
       "17          NaN     Morning           22           Low               NaN   \n",
       "18          NaN     Morning           24           Low               NaN   \n",
       "19          NaN   Afternoon           27           Low               NaN   \n",
       "20          NaN   Afternoon           27           Low               NaN   \n",
       "21          NaN   Afternoon           27           Low               NaN   \n",
       "22          NaN         Day           17      Moderate               NaN   \n",
       "23          NaN         Day           15      Moderate               NaN   \n",
       "24          NaN         Day           15      Moderate               NaN   \n",
       "25          NaN     Morning            8          High            Asthma   \n",
       "26       Debris       Night           -5          High               NaN   \n",
       "27       Debris       Night           -5          High               NaN   \n",
       "28      Animals     Morning            0          High               NaN   \n",
       "29       Debris       Night           -3          High               NaN   \n",
       "\n",
       "   Speeding  Risk_Score  \n",
       "0        No        10.4  \n",
       "1        No        10.4  \n",
       "2        No        10.4  \n",
       "3        No        14.7  \n",
       "4        No        14.7  \n",
       "5        No        22.4  \n",
       "6        No        11.2  \n",
       "7        No        15.1  \n",
       "8        No        15.1  \n",
       "9        No        15.1  \n",
       "10       No        15.1  \n",
       "11       No        11.2  \n",
       "12       No        13.7  \n",
       "13       No        13.7  \n",
       "14       No        14.3  \n",
       "15       No        10.4  \n",
       "16       No        10.4  \n",
       "17       No        10.4  \n",
       "18       No        15.1  \n",
       "19       No        11.2  \n",
       "20       No        11.2  \n",
       "21       No        11.2  \n",
       "22       No        29.8  \n",
       "23       No        32.6  \n",
       "24       No        32.6  \n",
       "25      Yes        90.1  \n",
       "26      Yes        82.6  \n",
       "27      Yes        82.6  \n",
       "28      Yes        97.5  \n",
       "29      Yes        80.1  "
      ]
     },
     "execution_count": 5,
     "metadata": {},
     "output_type": "execute_result"
    }
   ],
   "source": [
    "df.head(30)"
   ]
  },
  {
   "cell_type": "code",
   "execution_count": null,
   "id": "72a5d944",
   "metadata": {
    "ExecuteTime": {
     "end_time": "2024-11-07T19:54:25.957565Z",
     "start_time": "2024-11-07T19:54:25.870020Z"
    }
   },
   "outputs": [
    {
     "name": "stdout",
     "output_type": "stream",
     "text": [
      "<class 'pandas.core.frame.DataFrame'>\n",
      "RangeIndex: 15000 entries, 0 to 14999\n",
      "Data columns (total 20 columns):\n",
      " #   Column                   Non-Null Count  Dtype  \n",
      "---  ------                   --------------  -----  \n",
      " 0   Driver_Age               15000 non-null  int64  \n",
      " 1   Driver_Experience        15000 non-null  int64  \n",
      " 2   Driver_Awake_Time        15000 non-null  float64\n",
      " 3   Vehicle_Speed_Ratio      15000 non-null  float64\n",
      " 4   Last_Service_Months_Ago  15000 non-null  int64  \n",
      " 5   Cargo_Load               15000 non-null  int64  \n",
      " 6   Visibility               15000 non-null  object \n",
      " 7   Light_Conditions         15000 non-null  object \n",
      " 8   Road_Surface_Conditions  15000 non-null  object \n",
      " 9   Weather                  15000 non-null  object \n",
      " 10  Road_Type                14999 non-null  object \n",
      " 11  Landscape                15000 non-null  object \n",
      " 12  Traffic_Density          15000 non-null  object \n",
      " 13  Road_Hazards             8120 non-null   object \n",
      " 14  Time_of_Day              15000 non-null  object \n",
      " 15  Temperature              15000 non-null  int64  \n",
      " 16  Fatigue_Level            15000 non-null  object \n",
      " 17  Medical_Condition        7717 non-null   object \n",
      " 18  Speeding                 15000 non-null  object \n",
      " 19  Risk_Score               15000 non-null  float64\n",
      "dtypes: float64(3), int64(5), object(12)\n",
      "memory usage: 2.3+ MB\n"
     ]
    }
   ],
   "source": [
    "df.info()"
   ]
  },
  {
   "cell_type": "code",
   "execution_count": null,
   "id": "c0a5c252",
   "metadata": {
    "ExecuteTime": {
     "end_time": "2024-11-07T19:54:25.992768Z",
     "start_time": "2024-11-07T19:54:25.961698Z"
    }
   },
   "outputs": [
    {
     "data": {
      "text/plain": [
       "Driver_Age                    0\n",
       "Driver_Experience             0\n",
       "Driver_Awake_Time             0\n",
       "Vehicle_Speed_Ratio           0\n",
       "Last_Service_Months_Ago       0\n",
       "Cargo_Load                    0\n",
       "Visibility                    0\n",
       "Light_Conditions              0\n",
       "Road_Surface_Conditions       0\n",
       "Weather                       0\n",
       "Road_Type                     1\n",
       "Landscape                     0\n",
       "Traffic_Density               0\n",
       "Road_Hazards               6880\n",
       "Time_of_Day                   0\n",
       "Temperature                   0\n",
       "Fatigue_Level                 0\n",
       "Medical_Condition          7283\n",
       "Speeding                      0\n",
       "Risk_Score                    0\n",
       "dtype: int64"
      ]
     },
     "execution_count": 7,
     "metadata": {},
     "output_type": "execute_result"
    }
   ],
   "source": [
    "df.isnull().sum()"
   ]
  },
  {
   "cell_type": "code",
   "execution_count": null,
   "id": "d2156df1",
   "metadata": {
    "ExecuteTime": {
     "end_time": "2024-11-07T19:54:26.162969Z",
     "start_time": "2024-11-07T19:54:25.996131Z"
    }
   },
   "outputs": [
    {
     "data": {
      "text/html": [
       "<div>\n",
       "<style scoped>\n",
       "    .dataframe tbody tr th:only-of-type {\n",
       "        vertical-align: middle;\n",
       "    }\n",
       "\n",
       "    .dataframe tbody tr th {\n",
       "        vertical-align: top;\n",
       "    }\n",
       "\n",
       "    .dataframe thead th {\n",
       "        text-align: right;\n",
       "    }\n",
       "</style>\n",
       "<table border=\"1\" class=\"dataframe\">\n",
       "  <thead>\n",
       "    <tr style=\"text-align: right;\">\n",
       "      <th></th>\n",
       "      <th>Driver_Age</th>\n",
       "      <th>Driver_Experience</th>\n",
       "      <th>Driver_Awake_Time</th>\n",
       "      <th>Vehicle_Speed_Ratio</th>\n",
       "      <th>Last_Service_Months_Ago</th>\n",
       "      <th>Cargo_Load</th>\n",
       "      <th>Visibility</th>\n",
       "      <th>Light_Conditions</th>\n",
       "      <th>Road_Surface_Conditions</th>\n",
       "      <th>Weather</th>\n",
       "      <th>Road_Type</th>\n",
       "      <th>Landscape</th>\n",
       "      <th>Traffic_Density</th>\n",
       "      <th>Road_Hazards</th>\n",
       "      <th>Time_of_Day</th>\n",
       "      <th>Temperature</th>\n",
       "      <th>Fatigue_Level</th>\n",
       "      <th>Medical_Condition</th>\n",
       "      <th>Speeding</th>\n",
       "      <th>Risk_Score</th>\n",
       "    </tr>\n",
       "  </thead>\n",
       "  <tbody>\n",
       "    <tr>\n",
       "      <th>33</th>\n",
       "      <td>58</td>\n",
       "      <td>29</td>\n",
       "      <td>11.7</td>\n",
       "      <td>1.67</td>\n",
       "      <td>15</td>\n",
       "      <td>952</td>\n",
       "      <td>Poor</td>\n",
       "      <td>Dark</td>\n",
       "      <td>Icy</td>\n",
       "      <td>Blizzard</td>\n",
       "      <td>Highway</td>\n",
       "      <td>Mountains</td>\n",
       "      <td>High</td>\n",
       "      <td>Debris</td>\n",
       "      <td>Night</td>\n",
       "      <td>-5</td>\n",
       "      <td>High</td>\n",
       "      <td>Asthma</td>\n",
       "      <td>Yes</td>\n",
       "      <td>82.6</td>\n",
       "    </tr>\n",
       "    <tr>\n",
       "      <th>34</th>\n",
       "      <td>58</td>\n",
       "      <td>29</td>\n",
       "      <td>11.7</td>\n",
       "      <td>1.67</td>\n",
       "      <td>15</td>\n",
       "      <td>952</td>\n",
       "      <td>Poor</td>\n",
       "      <td>Dark</td>\n",
       "      <td>Icy</td>\n",
       "      <td>Blizzard</td>\n",
       "      <td>Highway</td>\n",
       "      <td>Mountains</td>\n",
       "      <td>High</td>\n",
       "      <td>Debris</td>\n",
       "      <td>Night</td>\n",
       "      <td>-5</td>\n",
       "      <td>High</td>\n",
       "      <td>Asthma</td>\n",
       "      <td>Yes</td>\n",
       "      <td>82.6</td>\n",
       "    </tr>\n",
       "    <tr>\n",
       "      <th>36</th>\n",
       "      <td>47</td>\n",
       "      <td>18</td>\n",
       "      <td>9.1</td>\n",
       "      <td>1.48</td>\n",
       "      <td>11</td>\n",
       "      <td>687</td>\n",
       "      <td>Poor</td>\n",
       "      <td>Twilight</td>\n",
       "      <td>Wet</td>\n",
       "      <td>Rainy</td>\n",
       "      <td>Highway</td>\n",
       "      <td>Hilly</td>\n",
       "      <td>High</td>\n",
       "      <td>Potholes</td>\n",
       "      <td>Evening</td>\n",
       "      <td>10</td>\n",
       "      <td>High</td>\n",
       "      <td>Asthma</td>\n",
       "      <td>Yes</td>\n",
       "      <td>67.4</td>\n",
       "    </tr>\n",
       "    <tr>\n",
       "      <th>37</th>\n",
       "      <td>59</td>\n",
       "      <td>35</td>\n",
       "      <td>9.8</td>\n",
       "      <td>1.76</td>\n",
       "      <td>15</td>\n",
       "      <td>934</td>\n",
       "      <td>Poor</td>\n",
       "      <td>Twilight</td>\n",
       "      <td>Wet</td>\n",
       "      <td>Rainy</td>\n",
       "      <td>Highway</td>\n",
       "      <td>Hilly</td>\n",
       "      <td>High</td>\n",
       "      <td>Animals</td>\n",
       "      <td>Morning</td>\n",
       "      <td>12</td>\n",
       "      <td>High</td>\n",
       "      <td>Diabetes</td>\n",
       "      <td>Yes</td>\n",
       "      <td>86.7</td>\n",
       "    </tr>\n",
       "    <tr>\n",
       "      <th>39</th>\n",
       "      <td>42</td>\n",
       "      <td>13</td>\n",
       "      <td>8.5</td>\n",
       "      <td>1.41</td>\n",
       "      <td>9</td>\n",
       "      <td>567</td>\n",
       "      <td>Poor</td>\n",
       "      <td>Twilight</td>\n",
       "      <td>Wet</td>\n",
       "      <td>Rainy</td>\n",
       "      <td>Highway</td>\n",
       "      <td>Desert</td>\n",
       "      <td>High</td>\n",
       "      <td>Potholes</td>\n",
       "      <td>Evening</td>\n",
       "      <td>12</td>\n",
       "      <td>High</td>\n",
       "      <td>Arthritis</td>\n",
       "      <td>Yes</td>\n",
       "      <td>64.2</td>\n",
       "    </tr>\n",
       "    <tr>\n",
       "      <th>...</th>\n",
       "      <td>...</td>\n",
       "      <td>...</td>\n",
       "      <td>...</td>\n",
       "      <td>...</td>\n",
       "      <td>...</td>\n",
       "      <td>...</td>\n",
       "      <td>...</td>\n",
       "      <td>...</td>\n",
       "      <td>...</td>\n",
       "      <td>...</td>\n",
       "      <td>...</td>\n",
       "      <td>...</td>\n",
       "      <td>...</td>\n",
       "      <td>...</td>\n",
       "      <td>...</td>\n",
       "      <td>...</td>\n",
       "      <td>...</td>\n",
       "      <td>...</td>\n",
       "      <td>...</td>\n",
       "      <td>...</td>\n",
       "    </tr>\n",
       "    <tr>\n",
       "      <th>14989</th>\n",
       "      <td>55</td>\n",
       "      <td>31</td>\n",
       "      <td>8.7</td>\n",
       "      <td>1.58</td>\n",
       "      <td>14</td>\n",
       "      <td>813</td>\n",
       "      <td>Poor</td>\n",
       "      <td>Twilight</td>\n",
       "      <td>Slippery</td>\n",
       "      <td>Blizzard</td>\n",
       "      <td>Highway</td>\n",
       "      <td>Forest</td>\n",
       "      <td>High</td>\n",
       "      <td>Potholes</td>\n",
       "      <td>Night</td>\n",
       "      <td>0</td>\n",
       "      <td>High</td>\n",
       "      <td>Asthma</td>\n",
       "      <td>Yes</td>\n",
       "      <td>83.8</td>\n",
       "    </tr>\n",
       "    <tr>\n",
       "      <th>14995</th>\n",
       "      <td>57</td>\n",
       "      <td>33</td>\n",
       "      <td>9.1</td>\n",
       "      <td>1.70</td>\n",
       "      <td>14</td>\n",
       "      <td>874</td>\n",
       "      <td>Moderate</td>\n",
       "      <td>Dawn</td>\n",
       "      <td>Wet</td>\n",
       "      <td>Foggy</td>\n",
       "      <td>Rural Road</td>\n",
       "      <td>Desert</td>\n",
       "      <td>Medium</td>\n",
       "      <td>Potholes</td>\n",
       "      <td>Day</td>\n",
       "      <td>20</td>\n",
       "      <td>Moderate</td>\n",
       "      <td>Diabetes</td>\n",
       "      <td>Yes</td>\n",
       "      <td>77.6</td>\n",
       "    </tr>\n",
       "    <tr>\n",
       "      <th>14996</th>\n",
       "      <td>42</td>\n",
       "      <td>13</td>\n",
       "      <td>8.5</td>\n",
       "      <td>1.41</td>\n",
       "      <td>9</td>\n",
       "      <td>567</td>\n",
       "      <td>Poor</td>\n",
       "      <td>Twilight</td>\n",
       "      <td>Wet</td>\n",
       "      <td>Rainy</td>\n",
       "      <td>Highway</td>\n",
       "      <td>Forest</td>\n",
       "      <td>High</td>\n",
       "      <td>Potholes</td>\n",
       "      <td>Evening</td>\n",
       "      <td>12</td>\n",
       "      <td>High</td>\n",
       "      <td>Heart Disease</td>\n",
       "      <td>Yes</td>\n",
       "      <td>64.2</td>\n",
       "    </tr>\n",
       "    <tr>\n",
       "      <th>14998</th>\n",
       "      <td>71</td>\n",
       "      <td>47</td>\n",
       "      <td>11.9</td>\n",
       "      <td>2.04</td>\n",
       "      <td>18</td>\n",
       "      <td>1184</td>\n",
       "      <td>Poor</td>\n",
       "      <td>Twilight</td>\n",
       "      <td>Slippery</td>\n",
       "      <td>Blizzard</td>\n",
       "      <td>Highway</td>\n",
       "      <td>Forest</td>\n",
       "      <td>High</td>\n",
       "      <td>Animals</td>\n",
       "      <td>Night</td>\n",
       "      <td>-10</td>\n",
       "      <td>High</td>\n",
       "      <td>Heart Disease</td>\n",
       "      <td>Yes</td>\n",
       "      <td>99.3</td>\n",
       "    </tr>\n",
       "    <tr>\n",
       "      <th>14999</th>\n",
       "      <td>63</td>\n",
       "      <td>39</td>\n",
       "      <td>10.2</td>\n",
       "      <td>1.82</td>\n",
       "      <td>16</td>\n",
       "      <td>968</td>\n",
       "      <td>Poor</td>\n",
       "      <td>Twilight</td>\n",
       "      <td>Slippery</td>\n",
       "      <td>Blizzard</td>\n",
       "      <td>Highway</td>\n",
       "      <td>Desert</td>\n",
       "      <td>High</td>\n",
       "      <td>Obstacles</td>\n",
       "      <td>Night</td>\n",
       "      <td>-5</td>\n",
       "      <td>High</td>\n",
       "      <td>Heart Disease</td>\n",
       "      <td>Yes</td>\n",
       "      <td>94.1</td>\n",
       "    </tr>\n",
       "  </tbody>\n",
       "</table>\n",
       "<p>6054 rows × 20 columns</p>\n",
       "</div>"
      ],
      "text/plain": [
       "       Driver_Age  Driver_Experience  Driver_Awake_Time  Vehicle_Speed_Ratio  \\\n",
       "33             58                 29               11.7                 1.67   \n",
       "34             58                 29               11.7                 1.67   \n",
       "36             47                 18                9.1                 1.48   \n",
       "37             59                 35                9.8                 1.76   \n",
       "39             42                 13                8.5                 1.41   \n",
       "...           ...                ...                ...                  ...   \n",
       "14989          55                 31                8.7                 1.58   \n",
       "14995          57                 33                9.1                 1.70   \n",
       "14996          42                 13                8.5                 1.41   \n",
       "14998          71                 47               11.9                 2.04   \n",
       "14999          63                 39               10.2                 1.82   \n",
       "\n",
       "       Last_Service_Months_Ago  Cargo_Load Visibility Light_Conditions  \\\n",
       "33                          15         952       Poor             Dark   \n",
       "34                          15         952       Poor             Dark   \n",
       "36                          11         687       Poor         Twilight   \n",
       "37                          15         934       Poor         Twilight   \n",
       "39                           9         567       Poor         Twilight   \n",
       "...                        ...         ...        ...              ...   \n",
       "14989                       14         813       Poor         Twilight   \n",
       "14995                       14         874   Moderate             Dawn   \n",
       "14996                        9         567       Poor         Twilight   \n",
       "14998                       18        1184       Poor         Twilight   \n",
       "14999                       16         968       Poor         Twilight   \n",
       "\n",
       "      Road_Surface_Conditions   Weather   Road_Type  Landscape  \\\n",
       "33                        Icy  Blizzard     Highway  Mountains   \n",
       "34                        Icy  Blizzard     Highway  Mountains   \n",
       "36                        Wet     Rainy     Highway      Hilly   \n",
       "37                        Wet     Rainy     Highway      Hilly   \n",
       "39                        Wet     Rainy     Highway     Desert   \n",
       "...                       ...       ...         ...        ...   \n",
       "14989                Slippery  Blizzard     Highway     Forest   \n",
       "14995                     Wet     Foggy  Rural Road     Desert   \n",
       "14996                     Wet     Rainy     Highway     Forest   \n",
       "14998                Slippery  Blizzard     Highway     Forest   \n",
       "14999                Slippery  Blizzard     Highway     Desert   \n",
       "\n",
       "      Traffic_Density Road_Hazards Time_of_Day  Temperature Fatigue_Level  \\\n",
       "33               High       Debris       Night           -5          High   \n",
       "34               High       Debris       Night           -5          High   \n",
       "36               High     Potholes     Evening           10          High   \n",
       "37               High      Animals     Morning           12          High   \n",
       "39               High     Potholes     Evening           12          High   \n",
       "...               ...          ...         ...          ...           ...   \n",
       "14989            High     Potholes       Night            0          High   \n",
       "14995          Medium     Potholes         Day           20      Moderate   \n",
       "14996            High     Potholes     Evening           12          High   \n",
       "14998            High      Animals       Night          -10          High   \n",
       "14999            High    Obstacles       Night           -5          High   \n",
       "\n",
       "      Medical_Condition Speeding  Risk_Score  \n",
       "33               Asthma      Yes        82.6  \n",
       "34               Asthma      Yes        82.6  \n",
       "36               Asthma      Yes        67.4  \n",
       "37             Diabetes      Yes        86.7  \n",
       "39            Arthritis      Yes        64.2  \n",
       "...                 ...      ...         ...  \n",
       "14989            Asthma      Yes        83.8  \n",
       "14995          Diabetes      Yes        77.6  \n",
       "14996     Heart Disease      Yes        64.2  \n",
       "14998     Heart Disease      Yes        99.3  \n",
       "14999     Heart Disease      Yes        94.1  \n",
       "\n",
       "[6054 rows x 20 columns]"
      ]
     },
     "execution_count": 8,
     "metadata": {},
     "output_type": "execute_result"
    }
   ],
   "source": [
    "df.dropna()"
   ]
  },
  {
   "cell_type": "code",
   "execution_count": null,
   "id": "6aa10855",
   "metadata": {
    "ExecuteTime": {
     "end_time": "2024-11-07T19:54:26.286045Z",
     "start_time": "2024-11-07T19:54:26.168899Z"
    }
   },
   "outputs": [
    {
     "data": {
      "text/html": [
       "<div>\n",
       "<style scoped>\n",
       "    .dataframe tbody tr th:only-of-type {\n",
       "        vertical-align: middle;\n",
       "    }\n",
       "\n",
       "    .dataframe tbody tr th {\n",
       "        vertical-align: top;\n",
       "    }\n",
       "\n",
       "    .dataframe thead th {\n",
       "        text-align: right;\n",
       "    }\n",
       "</style>\n",
       "<table border=\"1\" class=\"dataframe\">\n",
       "  <thead>\n",
       "    <tr style=\"text-align: right;\">\n",
       "      <th></th>\n",
       "      <th>Driver_Age</th>\n",
       "      <th>Driver_Experience</th>\n",
       "      <th>Driver_Awake_Time</th>\n",
       "      <th>Vehicle_Speed_Ratio</th>\n",
       "      <th>Last_Service_Months_Ago</th>\n",
       "      <th>Cargo_Load</th>\n",
       "      <th>Temperature</th>\n",
       "      <th>Risk_Score</th>\n",
       "    </tr>\n",
       "  </thead>\n",
       "  <tbody>\n",
       "    <tr>\n",
       "      <th>count</th>\n",
       "      <td>15000.000000</td>\n",
       "      <td>15000.000000</td>\n",
       "      <td>15000.000000</td>\n",
       "      <td>15000.000000</td>\n",
       "      <td>15000.000000</td>\n",
       "      <td>15000.000000</td>\n",
       "      <td>15000.000000</td>\n",
       "      <td>15000.000000</td>\n",
       "    </tr>\n",
       "    <tr>\n",
       "      <th>mean</th>\n",
       "      <td>48.389067</td>\n",
       "      <td>23.772267</td>\n",
       "      <td>8.986387</td>\n",
       "      <td>1.547168</td>\n",
       "      <td>10.817200</td>\n",
       "      <td>674.449800</td>\n",
       "      <td>10.595600</td>\n",
       "      <td>60.273887</td>\n",
       "    </tr>\n",
       "    <tr>\n",
       "      <th>std</th>\n",
       "      <td>16.997746</td>\n",
       "      <td>16.398957</td>\n",
       "      <td>2.124968</td>\n",
       "      <td>0.341718</td>\n",
       "      <td>5.894537</td>\n",
       "      <td>376.398217</td>\n",
       "      <td>11.586478</td>\n",
       "      <td>32.300970</td>\n",
       "    </tr>\n",
       "    <tr>\n",
       "      <th>min</th>\n",
       "      <td>19.000000</td>\n",
       "      <td>1.000000</td>\n",
       "      <td>5.100000</td>\n",
       "      <td>1.010000</td>\n",
       "      <td>1.000000</td>\n",
       "      <td>78.000000</td>\n",
       "      <td>-15.000000</td>\n",
       "      <td>10.400000</td>\n",
       "    </tr>\n",
       "    <tr>\n",
       "      <th>25%</th>\n",
       "      <td>32.000000</td>\n",
       "      <td>7.000000</td>\n",
       "      <td>7.100000</td>\n",
       "      <td>1.220000</td>\n",
       "      <td>5.000000</td>\n",
       "      <td>283.000000</td>\n",
       "      <td>0.000000</td>\n",
       "      <td>22.600000</td>\n",
       "    </tr>\n",
       "    <tr>\n",
       "      <th>50%</th>\n",
       "      <td>54.000000</td>\n",
       "      <td>27.000000</td>\n",
       "      <td>9.100000</td>\n",
       "      <td>1.620000</td>\n",
       "      <td>13.000000</td>\n",
       "      <td>842.000000</td>\n",
       "      <td>15.000000</td>\n",
       "      <td>75.200000</td>\n",
       "    </tr>\n",
       "    <tr>\n",
       "      <th>75%</th>\n",
       "      <td>62.000000</td>\n",
       "      <td>38.000000</td>\n",
       "      <td>10.800000</td>\n",
       "      <td>1.820000</td>\n",
       "      <td>16.000000</td>\n",
       "      <td>973.000000</td>\n",
       "      <td>18.000000</td>\n",
       "      <td>90.100000</td>\n",
       "    </tr>\n",
       "    <tr>\n",
       "      <th>max</th>\n",
       "      <td>76.000000</td>\n",
       "      <td>52.000000</td>\n",
       "      <td>12.900000</td>\n",
       "      <td>2.170000</td>\n",
       "      <td>19.000000</td>\n",
       "      <td>1260.000000</td>\n",
       "      <td>27.000000</td>\n",
       "      <td>103.100000</td>\n",
       "    </tr>\n",
       "  </tbody>\n",
       "</table>\n",
       "</div>"
      ],
      "text/plain": [
       "         Driver_Age  Driver_Experience  Driver_Awake_Time  \\\n",
       "count  15000.000000       15000.000000       15000.000000   \n",
       "mean      48.389067          23.772267           8.986387   \n",
       "std       16.997746          16.398957           2.124968   \n",
       "min       19.000000           1.000000           5.100000   \n",
       "25%       32.000000           7.000000           7.100000   \n",
       "50%       54.000000          27.000000           9.100000   \n",
       "75%       62.000000          38.000000          10.800000   \n",
       "max       76.000000          52.000000          12.900000   \n",
       "\n",
       "       Vehicle_Speed_Ratio  Last_Service_Months_Ago    Cargo_Load  \\\n",
       "count         15000.000000             15000.000000  15000.000000   \n",
       "mean              1.547168                10.817200    674.449800   \n",
       "std               0.341718                 5.894537    376.398217   \n",
       "min               1.010000                 1.000000     78.000000   \n",
       "25%               1.220000                 5.000000    283.000000   \n",
       "50%               1.620000                13.000000    842.000000   \n",
       "75%               1.820000                16.000000    973.000000   \n",
       "max               2.170000                19.000000   1260.000000   \n",
       "\n",
       "        Temperature    Risk_Score  \n",
       "count  15000.000000  15000.000000  \n",
       "mean      10.595600     60.273887  \n",
       "std       11.586478     32.300970  \n",
       "min      -15.000000     10.400000  \n",
       "25%        0.000000     22.600000  \n",
       "50%       15.000000     75.200000  \n",
       "75%       18.000000     90.100000  \n",
       "max       27.000000    103.100000  "
      ]
     },
     "execution_count": 9,
     "metadata": {},
     "output_type": "execute_result"
    }
   ],
   "source": [
    "df.describe()"
   ]
  },
  {
   "cell_type": "code",
   "execution_count": null,
   "id": "82d3a8bc",
   "metadata": {
    "ExecuteTime": {
     "end_time": "2024-11-07T19:54:37.022105Z",
     "start_time": "2024-11-07T19:54:26.290083Z"
    }
   },
   "outputs": [
    {
     "data": {
      "image/png": "[encoded data removed]",
      "text/plain": [
       "<Figure size 800x600 with 1 Axes>"
      ]
     },
     "metadata": {},
     "output_type": "display_data"
    },
    {
     "data": {
      "image/png": "[encoded data removed]",
      "text/plain": [
       "<Figure size 800x600 with 1 Axes>"
      ]
     },
     "metadata": {},
     "output_type": "display_data"
    },
    {
     "data": {
      "image/png": "[encoded data removed]",
      "text/plain": [
       "<Figure size 800x600 with 1 Axes>"
      ]
     },
     "metadata": {},
     "output_type": "display_data"
    },
    {
     "data": {
      "image/png": "[encoded data removed]",
      "text/plain": [
       "<Figure size 800x600 with 1 Axes>"
      ]
     },
     "metadata": {},
     "output_type": "display_data"
    },
    {
     "data": {
      "image/png": "[encoded data removed]",
      "text/plain": [
       "<Figure size 800x600 with 1 Axes>"
      ]
     },
     "metadata": {},
     "output_type": "display_data"
    },
    {
     "data": {
      "image/png": "[encoded data removed]",
      "text/plain": [
       "<Figure size 800x600 with 1 Axes>"
      ]
     },
     "metadata": {},
     "output_type": "display_data"
    },
    {
     "data": {
      "image/png": "[encoded data removed]",
      "text/plain": [
       "<Figure size 800x600 with 1 Axes>"
      ]
     },
     "metadata": {},
     "output_type": "display_data"
    },
    {
     "data": {
      "image/png": "[encoded data removed]",
      "text/plain": [
       "<Figure size 800x600 with 1 Axes>"
      ]
     },
     "metadata": {},
     "output_type": "display_data"
    },
    {
     "data": {
      "image/png": "[encoded data removed]",
      "text/plain": [
       "<Figure size 800x600 with 1 Axes>"
      ]
     },
     "metadata": {},
     "output_type": "display_data"
    },
    {
     "data": {
      "image/png": "[encoded data removed]",
      "text/plain": [
       "<Figure size 800x600 with 1 Axes>"
      ]
     },
     "metadata": {},
     "output_type": "display_data"
    },
    {
     "data": {
      "image/png": "[encoded data removed]",
      "text/plain": [
       "<Figure size 800x600 with 1 Axes>"
      ]
     },
     "metadata": {},
     "output_type": "display_data"
    },
    {
     "data": {
      "image/png": "[encoded data removed]",
      "text/plain": [
       "<Figure size 800x600 with 1 Axes>"
      ]
     },
     "metadata": {},
     "output_type": "display_data"
    }
   ],
   "source": [
    "categorical_features = df.select_dtypes(include=[object, 'category']).columns.tolist()\n",
    "for feature in categorical_features:\n",
    "    plt.figure(figsize=(8, 6))\n",
    "    sns.countplot(x=df[feature])\n",
    "    plt.title(f'Distribution of {feature}')\n",
    "    plt.show()"
   ]
  },
  {
   "cell_type": "code",
   "execution_count": null,
   "id": "0631b1fb",
   "metadata": {
    "ExecuteTime": {
     "end_time": "2024-11-07T19:54:40.533673Z",
     "start_time": "2024-11-07T19:54:37.027487Z"
    }
   },
   "outputs": [
    {
     "data": {
      "image/png": "[encoded data removed]",
      "text/plain": [
       "<Figure size 640x480 with 1 Axes>"
      ]
     },
     "metadata": {},
     "output_type": "display_data"
    }
   ],
   "source": [
    "sns.countplot(x='Risk_Score', data=df,width=1.5)\n",
    "plt.xticks(rotation=90, ha='right')\n",
    "plt.title('Distribution of Values in Risk Score')\n",
    "plt.xlabel('Unique Values')\n",
    "plt.ylabel('Count')\n",
    "plt.show()"
   ]
  },
  {
   "cell_type": "code",
   "execution_count": null,
   "id": "1baef7e4",
   "metadata": {
    "ExecuteTime": {
     "end_time": "2024-11-07T19:54:41.878875Z",
     "start_time": "2024-11-07T19:54:40.553779Z"
    }
   },
   "outputs": [
    {
     "data": {
      "image/png": "[encoded data removed]",
      "text/plain": [
       "<Figure size 640x480 with 1 Axes>"
      ]
     },
     "metadata": {},
     "output_type": "display_data"
    }
   ],
   "source": [
    "value_counts = df['Risk_Score'].value_counts().sort_index()\n",
    "sns.lineplot(x=value_counts.index, y=value_counts.values, marker='o', linestyle='--')\n",
    "plt.title('Distribution of Values in Risk Score')\n",
    "plt.xlabel('Unique Values')\n",
    "plt.ylabel('Count')\n",
    "plt.show()"
   ]
  },
  {
   "cell_type": "code",
   "execution_count": null,
   "id": "fe01b183",
   "metadata": {
    "ExecuteTime": {
     "end_time": "2024-11-07T19:54:43.091335Z",
     "start_time": "2024-11-07T19:54:41.887037Z"
    }
   },
   "outputs": [
    {
     "data": {
      "image/png": "[encoded data removed]",
      "text/plain": [
       "<Figure size 640x480 with 1 Axes>"
      ]
     },
     "metadata": {},
     "output_type": "display_data"
    }
   ],
   "source": [
    "value_counts = df['Risk_Score'].value_counts().sort_index()\n",
    "sns.scatterplot(x=value_counts.index, y=value_counts.values)\n",
    "plt.title('Distribution of Values in Risk Score')\n",
    "plt.xlabel('Unique Values')\n",
    "plt.ylabel('Count')\n",
    "plt.show()"
   ]
  },
  {
   "cell_type": "code",
   "execution_count": null,
   "id": "ed67c367",
   "metadata": {
    "ExecuteTime": {
     "end_time": "2024-11-07T19:54:43.230198Z",
     "start_time": "2024-11-07T19:54:43.098794Z"
    }
   },
   "outputs": [],
   "source": [
    "label_encoders = {}\n",
    "for feature in categorical_features:\n",
    "    le = LabelEncoder()\n",
    "    df[feature] = le.fit_transform(df[feature])\n",
    "    label_encoders[feature] = le\n"
   ]
  },
  {
   "cell_type": "code",
   "execution_count": null,
   "id": "2547a01d",
   "metadata": {
    "ExecuteTime": {
     "end_time": "2024-11-07T19:54:43.306193Z",
     "start_time": "2024-11-07T19:54:43.233348Z"
    }
   },
   "outputs": [],
   "source": [
    "numerical_features = df.select_dtypes(include=[np.number]).columns.tolist()\n",
    "scaler = StandardScaler()\n",
    "df[numerical_features] = scaler.fit_transform(df[numerical_features])"
   ]
  },
  {
   "cell_type": "code",
   "execution_count": null,
   "id": "46bbab2a",
   "metadata": {
    "ExecuteTime": {
     "end_time": "2024-11-07T19:54:43.385175Z",
     "start_time": "2024-11-07T19:54:43.306193Z"
    }
   },
   "outputs": [
    {
     "data": {
      "text/html": [
       "<div>\n",
       "<style scoped>\n",
       "    .dataframe tbody tr th:only-of-type {\n",
       "        vertical-align: middle;\n",
       "    }\n",
       "\n",
       "    .dataframe tbody tr th {\n",
       "        vertical-align: top;\n",
       "    }\n",
       "\n",
       "    .dataframe thead th {\n",
       "        text-align: right;\n",
       "    }\n",
       "</style>\n",
       "<table border=\"1\" class=\"dataframe\">\n",
       "  <thead>\n",
       "    <tr style=\"text-align: right;\">\n",
       "      <th></th>\n",
       "      <th>Driver_Age</th>\n",
       "      <th>Driver_Experience</th>\n",
       "      <th>Driver_Awake_Time</th>\n",
       "      <th>Last_Service_Months_Ago</th>\n",
       "      <th>Cargo_Load</th>\n",
       "      <th>Visibility</th>\n",
       "      <th>Weather</th>\n",
       "      <th>Road_Type</th>\n",
       "      <th>Traffic_Density</th>\n",
       "      <th>Road_Hazards</th>\n",
       "      <th>Time_of_Day</th>\n",
       "      <th>Temperature</th>\n",
       "      <th>Fatigue_Level</th>\n",
       "      <th>Speeding</th>\n",
       "      <th>Risk_Score</th>\n",
       "    </tr>\n",
       "  </thead>\n",
       "  <tbody>\n",
       "    <tr>\n",
       "      <th>0</th>\n",
       "      <td>-1.729056</td>\n",
       "      <td>-1.388687</td>\n",
       "      <td>-1.640732</td>\n",
       "      <td>-1.665530</td>\n",
       "      <td>-1.558109</td>\n",
       "      <td>-1.702445</td>\n",
       "      <td>-0.756686</td>\n",
       "      <td>-0.100430</td>\n",
       "      <td>0.15526</td>\n",
       "      <td>0.897038</td>\n",
       "      <td>0.409597</td>\n",
       "      <td>0.984318</td>\n",
       "      <td>0.276529</td>\n",
       "      <td>-1.130444</td>\n",
       "      <td>-1.544088</td>\n",
       "    </tr>\n",
       "    <tr>\n",
       "      <th>1</th>\n",
       "      <td>-1.729056</td>\n",
       "      <td>-1.388687</td>\n",
       "      <td>-1.640732</td>\n",
       "      <td>-1.665530</td>\n",
       "      <td>-1.558109</td>\n",
       "      <td>-1.702445</td>\n",
       "      <td>-0.756686</td>\n",
       "      <td>-0.100430</td>\n",
       "      <td>0.15526</td>\n",
       "      <td>0.897038</td>\n",
       "      <td>0.409597</td>\n",
       "      <td>0.984318</td>\n",
       "      <td>0.276529</td>\n",
       "      <td>-1.130444</td>\n",
       "      <td>-1.544088</td>\n",
       "    </tr>\n",
       "    <tr>\n",
       "      <th>2</th>\n",
       "      <td>-1.729056</td>\n",
       "      <td>-1.388687</td>\n",
       "      <td>-1.640732</td>\n",
       "      <td>-1.665530</td>\n",
       "      <td>-1.558109</td>\n",
       "      <td>-1.702445</td>\n",
       "      <td>-0.756686</td>\n",
       "      <td>-0.100430</td>\n",
       "      <td>0.15526</td>\n",
       "      <td>0.897038</td>\n",
       "      <td>0.409597</td>\n",
       "      <td>0.984318</td>\n",
       "      <td>0.276529</td>\n",
       "      <td>-1.130444</td>\n",
       "      <td>-1.544088</td>\n",
       "    </tr>\n",
       "    <tr>\n",
       "      <th>3</th>\n",
       "      <td>-0.964223</td>\n",
       "      <td>-1.266724</td>\n",
       "      <td>-1.452488</td>\n",
       "      <td>-0.817259</td>\n",
       "      <td>-1.348218</td>\n",
       "      <td>-1.702445</td>\n",
       "      <td>-0.756686</td>\n",
       "      <td>2.103049</td>\n",
       "      <td>0.15526</td>\n",
       "      <td>0.897038</td>\n",
       "      <td>-1.791487</td>\n",
       "      <td>1.243249</td>\n",
       "      <td>0.276529</td>\n",
       "      <td>-1.130444</td>\n",
       "      <td>-1.410961</td>\n",
       "    </tr>\n",
       "    <tr>\n",
       "      <th>4</th>\n",
       "      <td>-0.964223</td>\n",
       "      <td>-1.266724</td>\n",
       "      <td>-1.452488</td>\n",
       "      <td>-0.817259</td>\n",
       "      <td>-1.348218</td>\n",
       "      <td>-1.702445</td>\n",
       "      <td>-0.756686</td>\n",
       "      <td>2.103049</td>\n",
       "      <td>0.15526</td>\n",
       "      <td>0.897038</td>\n",
       "      <td>-1.791487</td>\n",
       "      <td>1.243249</td>\n",
       "      <td>0.276529</td>\n",
       "      <td>-1.130444</td>\n",
       "      <td>-1.410961</td>\n",
       "    </tr>\n",
       "  </tbody>\n",
       "</table>\n",
       "</div>"
      ],
      "text/plain": [
       "   Driver_Age  Driver_Experience  Driver_Awake_Time  Last_Service_Months_Ago  \\\n",
       "0   -1.729056          -1.388687          -1.640732                -1.665530   \n",
       "1   -1.729056          -1.388687          -1.640732                -1.665530   \n",
       "2   -1.729056          -1.388687          -1.640732                -1.665530   \n",
       "3   -0.964223          -1.266724          -1.452488                -0.817259   \n",
       "4   -0.964223          -1.266724          -1.452488                -0.817259   \n",
       "\n",
       "   Cargo_Load  Visibility   Weather  Road_Type  Traffic_Density  Road_Hazards  \\\n",
       "0   -1.558109   -1.702445 -0.756686  -0.100430          0.15526      0.897038   \n",
       "1   -1.558109   -1.702445 -0.756686  -0.100430          0.15526      0.897038   \n",
       "2   -1.558109   -1.702445 -0.756686  -0.100430          0.15526      0.897038   \n",
       "3   -1.348218   -1.702445 -0.756686   2.103049          0.15526      0.897038   \n",
       "4   -1.348218   -1.702445 -0.756686   2.103049          0.15526      0.897038   \n",
       "\n",
       "   Time_of_Day  Temperature  Fatigue_Level  Speeding  Risk_Score  \n",
       "0     0.409597     0.984318       0.276529 -1.130444   -1.544088  \n",
       "1     0.409597     0.984318       0.276529 -1.130444   -1.544088  \n",
       "2     0.409597     0.984318       0.276529 -1.130444   -1.544088  \n",
       "3    -1.791487     1.243249       0.276529 -1.130444   -1.410961  \n",
       "4    -1.791487     1.243249       0.276529 -1.130444   -1.410961  "
      ]
     },
     "execution_count": 16,
     "metadata": {},
     "output_type": "execute_result"
    }
   ],
   "source": [
    "df.drop(['Vehicle_Speed_Ratio','Light_Conditions','Medical_Condition','Landscape','Road_Surface_Conditions'], axis=1, inplace=True)\n",
    "df.head()"
   ]
  },
  {
   "cell_type": "code",
   "execution_count": null,
   "id": "2a41e53e",
   "metadata": {
    "ExecuteTime": {
     "end_time": "2024-11-07T19:54:43.414351Z",
     "start_time": "2024-11-07T19:54:43.385175Z"
    }
   },
   "outputs": [],
   "source": [
    "X = df.drop(['Risk_Score'], axis=1)\n",
    "y = df['Risk_Score']"
   ]
  },
  {
   "cell_type": "code",
   "execution_count": null,
   "id": "950712cc",
   "metadata": {
    "ExecuteTime": {
     "end_time": "2024-11-07T19:54:43.480789Z",
     "start_time": "2024-11-07T19:54:43.417472Z"
    }
   },
   "outputs": [
    {
     "data": {
      "text/html": [
       "<div>\n",
       "<style scoped>\n",
       "    .dataframe tbody tr th:only-of-type {\n",
       "        vertical-align: middle;\n",
       "    }\n",
       "\n",
       "    .dataframe tbody tr th {\n",
       "        vertical-align: top;\n",
       "    }\n",
       "\n",
       "    .dataframe thead th {\n",
       "        text-align: right;\n",
       "    }\n",
       "</style>\n",
       "<table border=\"1\" class=\"dataframe\">\n",
       "  <thead>\n",
       "    <tr style=\"text-align: right;\">\n",
       "      <th></th>\n",
       "      <th>Driver_Age</th>\n",
       "      <th>Driver_Experience</th>\n",
       "      <th>Driver_Awake_Time</th>\n",
       "      <th>Last_Service_Months_Ago</th>\n",
       "      <th>Cargo_Load</th>\n",
       "      <th>Visibility</th>\n",
       "      <th>Weather</th>\n",
       "      <th>Road_Type</th>\n",
       "      <th>Traffic_Density</th>\n",
       "      <th>Road_Hazards</th>\n",
       "      <th>Time_of_Day</th>\n",
       "      <th>Temperature</th>\n",
       "      <th>Fatigue_Level</th>\n",
       "      <th>Speeding</th>\n",
       "    </tr>\n",
       "  </thead>\n",
       "  <tbody>\n",
       "    <tr>\n",
       "      <th>0</th>\n",
       "      <td>-1.729056</td>\n",
       "      <td>-1.388687</td>\n",
       "      <td>-1.640732</td>\n",
       "      <td>-1.665530</td>\n",
       "      <td>-1.558109</td>\n",
       "      <td>-1.702445</td>\n",
       "      <td>-0.756686</td>\n",
       "      <td>-0.100430</td>\n",
       "      <td>0.15526</td>\n",
       "      <td>0.897038</td>\n",
       "      <td>0.409597</td>\n",
       "      <td>0.984318</td>\n",
       "      <td>0.276529</td>\n",
       "      <td>-1.130444</td>\n",
       "    </tr>\n",
       "    <tr>\n",
       "      <th>1</th>\n",
       "      <td>-1.729056</td>\n",
       "      <td>-1.388687</td>\n",
       "      <td>-1.640732</td>\n",
       "      <td>-1.665530</td>\n",
       "      <td>-1.558109</td>\n",
       "      <td>-1.702445</td>\n",
       "      <td>-0.756686</td>\n",
       "      <td>-0.100430</td>\n",
       "      <td>0.15526</td>\n",
       "      <td>0.897038</td>\n",
       "      <td>0.409597</td>\n",
       "      <td>0.984318</td>\n",
       "      <td>0.276529</td>\n",
       "      <td>-1.130444</td>\n",
       "    </tr>\n",
       "    <tr>\n",
       "      <th>2</th>\n",
       "      <td>-1.729056</td>\n",
       "      <td>-1.388687</td>\n",
       "      <td>-1.640732</td>\n",
       "      <td>-1.665530</td>\n",
       "      <td>-1.558109</td>\n",
       "      <td>-1.702445</td>\n",
       "      <td>-0.756686</td>\n",
       "      <td>-0.100430</td>\n",
       "      <td>0.15526</td>\n",
       "      <td>0.897038</td>\n",
       "      <td>0.409597</td>\n",
       "      <td>0.984318</td>\n",
       "      <td>0.276529</td>\n",
       "      <td>-1.130444</td>\n",
       "    </tr>\n",
       "    <tr>\n",
       "      <th>3</th>\n",
       "      <td>-0.964223</td>\n",
       "      <td>-1.266724</td>\n",
       "      <td>-1.452488</td>\n",
       "      <td>-0.817259</td>\n",
       "      <td>-1.348218</td>\n",
       "      <td>-1.702445</td>\n",
       "      <td>-0.756686</td>\n",
       "      <td>2.103049</td>\n",
       "      <td>0.15526</td>\n",
       "      <td>0.897038</td>\n",
       "      <td>-1.791487</td>\n",
       "      <td>1.243249</td>\n",
       "      <td>0.276529</td>\n",
       "      <td>-1.130444</td>\n",
       "    </tr>\n",
       "    <tr>\n",
       "      <th>4</th>\n",
       "      <td>-0.964223</td>\n",
       "      <td>-1.266724</td>\n",
       "      <td>-1.452488</td>\n",
       "      <td>-0.817259</td>\n",
       "      <td>-1.348218</td>\n",
       "      <td>-1.702445</td>\n",
       "      <td>-0.756686</td>\n",
       "      <td>2.103049</td>\n",
       "      <td>0.15526</td>\n",
       "      <td>0.897038</td>\n",
       "      <td>-1.791487</td>\n",
       "      <td>1.243249</td>\n",
       "      <td>0.276529</td>\n",
       "      <td>-1.130444</td>\n",
       "    </tr>\n",
       "  </tbody>\n",
       "</table>\n",
       "</div>"
      ],
      "text/plain": [
       "   Driver_Age  Driver_Experience  Driver_Awake_Time  Last_Service_Months_Ago  \\\n",
       "0   -1.729056          -1.388687          -1.640732                -1.665530   \n",
       "1   -1.729056          -1.388687          -1.640732                -1.665530   \n",
       "2   -1.729056          -1.388687          -1.640732                -1.665530   \n",
       "3   -0.964223          -1.266724          -1.452488                -0.817259   \n",
       "4   -0.964223          -1.266724          -1.452488                -0.817259   \n",
       "\n",
       "   Cargo_Load  Visibility   Weather  Road_Type  Traffic_Density  Road_Hazards  \\\n",
       "0   -1.558109   -1.702445 -0.756686  -0.100430          0.15526      0.897038   \n",
       "1   -1.558109   -1.702445 -0.756686  -0.100430          0.15526      0.897038   \n",
       "2   -1.558109   -1.702445 -0.756686  -0.100430          0.15526      0.897038   \n",
       "3   -1.348218   -1.702445 -0.756686   2.103049          0.15526      0.897038   \n",
       "4   -1.348218   -1.702445 -0.756686   2.103049          0.15526      0.897038   \n",
       "\n",
       "   Time_of_Day  Temperature  Fatigue_Level  Speeding  \n",
       "0     0.409597     0.984318       0.276529 -1.130444  \n",
       "1     0.409597     0.984318       0.276529 -1.130444  \n",
       "2     0.409597     0.984318       0.276529 -1.130444  \n",
       "3    -1.791487     1.243249       0.276529 -1.130444  \n",
       "4    -1.791487     1.243249       0.276529 -1.130444  "
      ]
     },
     "execution_count": 18,
     "metadata": {},
     "output_type": "execute_result"
    }
   ],
   "source": [
    "X.head()"
   ]
  },
  {
   "cell_type": "code",
   "execution_count": null,
   "id": "3f4e25f7",
   "metadata": {
    "ExecuteTime": {
     "end_time": "2024-11-07T19:54:43.528899Z",
     "start_time": "2024-11-07T19:54:43.484853Z"
    }
   },
   "outputs": [],
   "source": [
    "X_train, X_test, y_train, y_test = train_test_split(X, y, test_size=0.2, random_state=42)"
   ]
  },
  {
   "cell_type": "code",
   "execution_count": null,
   "id": "5e2364f042061897",
   "metadata": {
    "ExecuteTime": {
     "end_time": "2024-11-07T19:54:43.540504Z",
     "start_time": "2024-11-07T19:54:43.534601Z"
    }
   },
   "outputs": [],
   "source": []
  },
  {
   "cell_type": "code",
   "execution_count": null,
   "id": "5aa59137",
   "metadata": {
    "ExecuteTime": {
     "end_time": "2024-11-07T19:54:45.872666Z",
     "start_time": "2024-11-07T19:54:43.544830Z"
    }
   },
   "outputs": [],
   "source": [
    "train_data = xgb.DMatrix(X_train, label=y_train)\n",
    "test_data = xgb.DMatrix(X_test, label=y_test)\n",
    "\n",
    "# Parameters for XGBoost\n",
    "params = {\n",
    "    'objective': 'reg:squarederror',\n",
    "    'learning_rate': 0.05,\n",
    "    'max_depth': 4,\n",
    "    'subsample': 0.8,\n",
    "    'colsample_bytree': 0.8,\n",
    "    'alpha': 0.5,\n",
    "    'lambda': 0.5,\n",
    "    'seed': 42\n",
    "}\n",
    "\n",
    "# Train the model using xgb.train with early stopping\n",
    "xgb_regressor = xgb.train(\n",
    "    params,\n",
    "    train_data,\n",
    "    num_boost_round=200,             # Number of boosting rounds (trees)\n",
    "    evals=[(test_data, 'validation')],  # Validation set for early stopping\n",
    "    early_stopping_rounds=10,        # Stop if no improvement after 10 rounds\n",
    "    verbose_eval=False\n",
    ")\n"
   ]
  },
  {
   "cell_type": "code",
   "execution_count": null,
   "id": "a1017daf8b7457fb",
   "metadata": {
    "ExecuteTime": {
     "end_time": "2024-11-07T19:54:46.009200Z",
     "start_time": "2024-11-07T19:54:45.880251Z"
    }
   },
   "outputs": [],
   "source": [
    "# Predict on training and test data\n",
    "y_train_pred = xgb_regressor.predict(train_data)\n",
    "y_test_pred = xgb_regressor.predict(test_data)\n",
    "\n",
    "# Evaluate the model performance on training and test sets\n",
    "mse_train = mean_squared_error(y_train, y_train_pred)\n",
    "r2_train = r2_score(y_train, y_train_pred)\n",
    "\n",
    "mse_test = mean_squared_error(y_test, y_test_pred)\n",
    "r2_test = r2_score(y_test, y_test_pred)"
   ]
  },
  {
   "cell_type": "code",
   "execution_count": null,
   "id": "b01171ade91e66f1",
   "metadata": {
    "ExecuteTime": {
     "end_time": "2024-11-07T19:54:46.026053Z",
     "start_time": "2024-11-07T19:54:46.013820Z"
    }
   },
   "outputs": [
    {
     "name": "stdout",
     "output_type": "stream",
     "text": [
      "Training Mean Squared Error: 9.921759895052388e-05\n",
      "Training R-squared: 0.9999011511882827\n",
      "Test Mean Squared Error: 0.0005903464149360807\n",
      "Test R-squared: 0.9994005672944964\n"
     ]
    }
   ],
   "source": [
    "# Print results for comparison\n",
    "print(f\"Training Mean Squared Error: {mse_train}\")\n",
    "print(f\"Training R-squared: {r2_train}\")\n",
    "print(f\"Test Mean Squared Error: {mse_test}\")\n",
    "print(f\"Test R-squared: {r2_test}\")"
   ]
  },
  {
   "cell_type": "code",
   "execution_count": null,
   "id": "d3d81a05",
   "metadata": {
    "ExecuteTime": {
     "end_time": "2024-11-07T19:54:58.627094Z",
     "start_time": "2024-11-07T19:54:46.033701Z"
    }
   },
   "outputs": [
    {
     "name": "stdout",
     "output_type": "stream",
     "text": [
      "Linear Regression - MSE: 0.002641470201118453, R²: 0.9973178737278605\n",
      "Decision Tree Regressor - MSE: 0.00075259299546788, R²: 0.9992358235029425\n",
      "Random Forest Regressor - MSE: 0.0006077903937695752, R²: 0.9993828548274393\n",
      "Gradient Boosting Regressor - MSE: 0.0006211177432491663, R²: 0.9993693223506533\n",
      "XGB Regressor - MSE: 0.0004611455758997699, R²: 0.9995317567224957\n",
      "Lasso Regression - MSE: 0.020373607518003423, R²: 0.9793128130087717\n",
      "Ridge Regression - MSE: 0.002635400526137484, R²: 0.9973240368239739\n",
      "ElasticNet Regression - MSE: 0.013954355367762964, R²: 0.985830866792743\n",
      "KNN Regressor - MSE: 0.0011999542428014877, R²: 0.9987815767148839\n"
     ]
    }
   ],
   "source": [
    "from sklearn.linear_model import LinearRegression\n",
    "from sklearn.tree import DecisionTreeRegressor\n",
    "from sklearn.ensemble import RandomForestRegressor\n",
    "from sklearn.ensemble import GradientBoostingRegressor\n",
    "import xgboost as xgb\n",
    "from sklearn.linear_model import Lasso\n",
    "from sklearn.linear_model import Ridge\n",
    "from sklearn.linear_model import ElasticNet\n",
    "from sklearn.neighbors import KNeighborsRegressor\n",
    "from sklearn.metrics import mean_squared_error, r2_score\n",
    "import pandas as pd\n",
    "\n",
    "# Assuming X_train, X_test, y_train, and y_test are already defined\n",
    "# Example of loading the dataset\n",
    "# data = pd.read_csv('/mnt/data/Vehicle Risk Prediction Dataset.csv')\n",
    "# X = data.drop('target_column', axis=1)\n",
    "# y = data['target_column']\n",
    "# X_train, X_test, y_train, y_test = train_test_split(X, y, test_size=0.2, random_state=42)\n",
    "\n",
    "# 1. Linear Regression\n",
    "modell = LinearRegression()\n",
    "modell.fit(X_train, y_train)\n",
    "predictions = modell.predict(X_test)\n",
    "mse = mean_squared_error(y_test, predictions)\n",
    "r2 = r2_score(y_test, predictions)\n",
    "print(f'Linear Regression - MSE: {mse}, R²: {r2}')\n",
    "\n",
    "# 2. Decision Tree Regressor\n",
    "modell = DecisionTreeRegressor()\n",
    "modell.fit(X_train, y_train)\n",
    "predictions = modell.predict(X_test)\n",
    "mse = mean_squared_error(y_test, predictions)\n",
    "r2 = r2_score(y_test, predictions)\n",
    "print(f'Decision Tree Regressor - MSE: {mse}, R²: {r2}')\n",
    "\n",
    "# 3. Random Forest Regressor\n",
    "modell = RandomForestRegressor(n_estimators=100, random_state=42)\n",
    "modell.fit(X_train, y_train)\n",
    "predictions = modell.predict(X_test)\n",
    "mse = mean_squared_error(y_test, predictions)\n",
    "r2 = r2_score(y_test, predictions)\n",
    "print(f'Random Forest Regressor - MSE: {mse}, R²: {r2}')\n",
    "\n",
    "# 4. Gradient Boosting Regressor\n",
    "modell = GradientBoostingRegressor(n_estimators=100, learning_rate=0.1, random_state=42)\n",
    "modell.fit(X_train, y_train)\n",
    "predictions = modell.predict(X_test)\n",
    "mse = mean_squared_error(y_test, predictions)\n",
    "r2 = r2_score(y_test, predictions)\n",
    "print(f'Gradient Boosting Regressor - MSE: {mse}, R²: {r2}')\n",
    "\n",
    "# 5. XGBoost Regressor\n",
    "modell = xgb.XGBRegressor(n_estimators=100, learning_rate=0.1, random_state=42)\n",
    "modell.fit(X_train, y_train)\n",
    "predictions = modell.predict(X_test)\n",
    "mse = mean_squared_error(y_test, predictions)\n",
    "r2 = r2_score(y_test, predictions)\n",
    "print(f'XGB Regressor - MSE: {mse}, R²: {r2}')\n",
    "\n",
    "# 6. Lasso Regression\n",
    "modell = Lasso(alpha=0.1)\n",
    "modell.fit(X_train, y_train)\n",
    "predictions = modell.predict(X_test)\n",
    "mse = mean_squared_error(y_test, predictions)\n",
    "r2 = r2_score(y_test, predictions)\n",
    "print(f'Lasso Regression - MSE: {mse}, R²: {r2}')\n",
    "\n",
    "# 7. Ridge Regression\n",
    "modell = Ridge(alpha=0.5)\n",
    "modell.fit(X_train, y_train)\n",
    "predictions = modell.predict(X_test)\n",
    "mse = mean_squared_error(y_test, predictions)\n",
    "r2 = r2_score(y_test, predictions)\n",
    "print(f'Ridge Regression - MSE: {mse}, R²: {r2}')\n",
    "\n",
    "# 8. ElasticNet Regression\n",
    "modell = ElasticNet(alpha=0.1, l1_ratio=0.7)\n",
    "modell.fit(X_train, y_train)\n",
    "predictions = modell.predict(X_test)\n",
    "mse = mean_squared_error(y_test, predictions)\n",
    "r2 = r2_score(y_test, predictions)\n",
    "print(f'ElasticNet Regression - MSE: {mse}, R²: {r2}')\n",
    "\n",
    "# 9. KNN Regressor\n",
    "modell = KNeighborsRegressor(n_neighbors=5)\n",
    "modell.fit(X_train, y_train)\n",
    "predictions = modell.predict(X_test)\n",
    "mse = mean_squared_error(y_test, predictions)\n",
    "r2 = r2_score(y_test, predictions)\n",
    "print(f'KNN Regressor - MSE: {mse}, R²: {r2}')\n"
   ]
  },
  {
   "cell_type": "code",
   "execution_count": null,
   "id": "2fc571ac",
   "metadata": {
    "ExecuteTime": {
     "end_time": "2024-11-07T19:54:58.946421Z",
     "start_time": "2024-11-07T19:54:58.631861Z"
    }
   },
   "outputs": [
    {
     "data": {
      "application/vnd.plotly.v1+json": {
       "config": {
        "plotlyServerURL": "https://plot.ly"
       },
       "data": [
        {
         "hovertemplate": "<b>%{hovertext}</b><br><br>Algorithms=%{x}<br>Mean Squared Error=%{y}<extra></extra>",
         "hovertext": [
          "Linear Regression",
          "Decision Tree Regressor",
          "Random Forest Regressor",
          "Gradient Boosting Regressor",
          "XGB Regressor",
          "Lasso Regression",
          "Ridge Regression",
          "ElasticNet Regression",
          "KNN Regressor"
         ],
         "legendgroup": "",
         "marker": {
          "color": "blue",
          "size": 12,
          "symbol": "circle"
         },
         "mode": "markers",
         "name": "",
         "orientation": "v",
         "showlegend": false,
         "type": "scatter",
         "x": [
          "Linear Regression",
          "Decision Tree Regressor",
          "Random Forest Regressor",
          "Gradient Boosting Regressor",
          "XGB Regressor",
          "Lasso Regression",
          "Ridge Regression",
          "ElasticNet Regression",
          "KNN Regressor"
         ],
         "xaxis": "x",
         "y": [
          0.002911931774375335,
          0.0008816726908654058,
          0.000729368702225619,
          0.0006718280413980112,
          0.0006252016809322829,
          0.020373617040169118,
          0.0029064517892096625,
          0.014822436703453604,
          0.0011810686053480436
         ],
         "yaxis": "y"
        }
       ],
       "layout": {
        "legend": {
         "tracegroupgap": 0
        },
        "template": {
         "data": {
          "bar": [
           {
            "error_x": {
             "color": "#f2f5fa"
            },
            "error_y": {
             "color": "#f2f5fa"
            },
            "marker": {
             "line": {
              "color": "rgb(17,17,17)",
              "width": 0.5
             },
             "pattern": {
              "fillmode": "overlay",
              "size": 10,
              "solidity": 0.2
             }
            },
            "type": "bar"
           }
          ],
          "barpolar": [
           {
            "marker": {
             "line": {
              "color": "rgb(17,17,17)",
              "width": 0.5
             },
             "pattern": {
              "fillmode": "overlay",
              "size": 10,
              "solidity": 0.2
             }
            },
            "type": "barpolar"
           }
          ],
          "carpet": [
           {
            "aaxis": {
             "endlinecolor": "#A2B1C6",
             "gridcolor": "#506784",
             "linecolor": "#506784",
             "minorgridcolor": "#506784",
             "startlinecolor": "#A2B1C6"
            },
            "baxis": {
             "endlinecolor": "#A2B1C6",
             "gridcolor": "#506784",
             "linecolor": "#506784",
             "minorgridcolor": "#506784",
             "startlinecolor": "#A2B1C6"
            },
            "type": "carpet"
           }
          ],
          "choropleth": [
           {
            "colorbar": {
             "outlinewidth": 0,
             "ticks": ""
            },
            "type": "choropleth"
           }
          ],
          "contour": [
           {
            "colorbar": {
             "outlinewidth": 0,
             "ticks": ""
            },
            "colorscale": [
             [
              0,
              "#0d0887"
             ],
             [
              0.1111111111111111,
              "#46039f"
             ],
             [
              0.2222222222222222,
              "#7201a8"
             ],
             [
              0.3333333333333333,
              "#9c179e"
             ],
             [
              0.4444444444444444,
              "#bd3786"
             ],
             [
              0.5555555555555556,
              "#d8576b"
             ],
             [
              0.6666666666666666,
              "#ed7953"
             ],
             [
              0.7777777777777778,
              "#fb9f3a"
             ],
             [
              0.8888888888888888,
              "#fdca26"
             ],
             [
              1,
              "#f0f921"
             ]
            ],
            "type": "contour"
           }
          ],
          "contourcarpet": [
           {
            "colorbar": {
             "outlinewidth": 0,
             "ticks": ""
            },
            "type": "contourcarpet"
           }
          ],
          "heatmap": [
           {
            "colorbar": {
             "outlinewidth": 0,
             "ticks": ""
            },
            "colorscale": [
             [
              0,
              "#0d0887"
             ],
             [
              0.1111111111111111,
              "#46039f"
             ],
             [
              0.2222222222222222,
              "#7201a8"
             ],
             [
              0.3333333333333333,
              "#9c179e"
             ],
             [
              0.4444444444444444,
              "#bd3786"
             ],
             [
              0.5555555555555556,
              "#d8576b"
             ],
             [
              0.6666666666666666,
              "#ed7953"
             ],
             [
              0.7777777777777778,
              "#fb9f3a"
             ],
             [
              0.8888888888888888,
              "#fdca26"
             ],
             [
              1,
              "#f0f921"
             ]
            ],
            "type": "heatmap"
           }
          ],
          "heatmapgl": [
           {
            "colorbar": {
             "outlinewidth": 0,
             "ticks": ""
            },
            "colorscale": [
             [
              0,
              "#0d0887"
             ],
             [
              0.1111111111111111,
              "#46039f"
             ],
             [
              0.2222222222222222,
              "#7201a8"
             ],
             [
              0.3333333333333333,
              "#9c179e"
             ],
             [
              0.4444444444444444,
              "#bd3786"
             ],
             [
              0.5555555555555556,
              "#d8576b"
             ],
             [
              0.6666666666666666,
              "#ed7953"
             ],
             [
              0.7777777777777778,
              "#fb9f3a"
             ],
             [
              0.8888888888888888,
              "#fdca26"
             ],
             [
              1,
              "#f0f921"
             ]
            ],
            "type": "heatmapgl"
           }
          ],
          "histogram": [
           {
            "marker": {
             "pattern": {
              "fillmode": "overlay",
              "size": 10,
              "solidity": 0.2
             }
            },
            "type": "histogram"
           }
          ],
          "histogram2d": [
           {
            "colorbar": {
             "outlinewidth": 0,
             "ticks": ""
            },
            "colorscale": [
             [
              0,
              "#0d0887"
             ],
             [
              0.1111111111111111,
              "#46039f"
             ],
             [
              0.2222222222222222,
              "#7201a8"
             ],
             [
              0.3333333333333333,
              "#9c179e"
             ],
             [
              0.4444444444444444,
              "#bd3786"
             ],
             [
              0.5555555555555556,
              "#d8576b"
             ],
             [
              0.6666666666666666,
              "#ed7953"
             ],
             [
              0.7777777777777778,
              "#fb9f3a"
             ],
             [
              0.8888888888888888,
              "#fdca26"
             ],
             [
              1,
              "#f0f921"
             ]
            ],
            "type": "histogram2d"
           }
          ],
          "histogram2dcontour": [
           {
            "colorbar": {
             "outlinewidth": 0,
             "ticks": ""
            },
            "colorscale": [
             [
              0,
              "#0d0887"
             ],
             [
              0.1111111111111111,
              "#46039f"
             ],
             [
              0.2222222222222222,
              "#7201a8"
             ],
             [
              0.3333333333333333,
              "#9c179e"
             ],
             [
              0.4444444444444444,
              "#bd3786"
             ],
             [
              0.5555555555555556,
              "#d8576b"
             ],
             [
              0.6666666666666666,
              "#ed7953"
             ],
             [
              0.7777777777777778,
              "#fb9f3a"
             ],
             [
              0.8888888888888888,
              "#fdca26"
             ],
             [
              1,
              "#f0f921"
             ]
            ],
            "type": "histogram2dcontour"
           }
          ],
          "mesh3d": [
           {
            "colorbar": {
             "outlinewidth": 0,
             "ticks": ""
            },
            "type": "mesh3d"
           }
          ],
          "parcoords": [
           {
            "line": {
             "colorbar": {
              "outlinewidth": 0,
              "ticks": ""
             }
            },
            "type": "parcoords"
           }
          ],
          "pie": [
           {
            "automargin": true,
            "type": "pie"
           }
          ],
          "scatter": [
           {
            "marker": {
             "line": {
              "color": "#283442"
             }
            },
            "type": "scatter"
           }
          ],
          "scatter3d": [
           {
            "line": {
             "colorbar": {
              "outlinewidth": 0,
              "ticks": ""
             }
            },
            "marker": {
             "colorbar": {
              "outlinewidth": 0,
              "ticks": ""
             }
            },
            "type": "scatter3d"
           }
          ],
          "scattercarpet": [
           {
            "marker": {
             "colorbar": {
              "outlinewidth": 0,
              "ticks": ""
             }
            },
            "type": "scattercarpet"
           }
          ],
          "scattergeo": [
           {
            "marker": {
             "colorbar": {
              "outlinewidth": 0,
              "ticks": ""
             }
            },
            "type": "scattergeo"
           }
          ],
          "scattergl": [
           {
            "marker": {
             "line": {
              "color": "#283442"
             }
            },
            "type": "scattergl"
           }
          ],
          "scattermapbox": [
           {
            "marker": {
             "colorbar": {
              "outlinewidth": 0,
              "ticks": ""
             }
            },
            "type": "scattermapbox"
           }
          ],
          "scatterpolar": [
           {
            "marker": {
             "colorbar": {
              "outlinewidth": 0,
              "ticks": ""
             }
            },
            "type": "scatterpolar"
           }
          ],
          "scatterpolargl": [
           {
            "marker": {
             "colorbar": {
              "outlinewidth": 0,
              "ticks": ""
             }
            },
            "type": "scatterpolargl"
           }
          ],
          "scatterternary": [
           {
            "marker": {
             "colorbar": {
              "outlinewidth": 0,
              "ticks": ""
             }
            },
            "type": "scatterternary"
           }
          ],
          "surface": [
           {
            "colorbar": {
             "outlinewidth": 0,
             "ticks": ""
            },
            "colorscale": [
             [
              0,
              "#0d0887"
             ],
             [
              0.1111111111111111,
              "#46039f"
             ],
             [
              0.2222222222222222,
              "#7201a8"
             ],
             [
              0.3333333333333333,
              "#9c179e"
             ],
             [
              0.4444444444444444,
              "#bd3786"
             ],
             [
              0.5555555555555556,
              "#d8576b"
             ],
             [
              0.6666666666666666,
              "#ed7953"
             ],
             [
              0.7777777777777778,
              "#fb9f3a"
             ],
             [
              0.8888888888888888,
              "#fdca26"
             ],
             [
              1,
              "#f0f921"
             ]
            ],
            "type": "surface"
           }
          ],
          "table": [
           {
            "cells": {
             "fill": {
              "color": "#506784"
             },
             "line": {
              "color": "rgb(17,17,17)"
             }
            },
            "header": {
             "fill": {
              "color": "#2a3f5f"
             },
             "line": {
              "color": "rgb(17,17,17)"
             }
            },
            "type": "table"
           }
          ]
         },
         "layout": {
          "annotationdefaults": {
           "arrowcolor": "#f2f5fa",
           "arrowhead": 0,
           "arrowwidth": 1
          },
          "autotypenumbers": "strict",
          "coloraxis": {
           "colorbar": {
            "outlinewidth": 0,
            "ticks": ""
           }
          },
          "colorscale": {
           "diverging": [
            [
             0,
             "#8e0152"
            ],
            [
             0.1,
             "#c51b7d"
            ],
            [
             0.2,
             "#de77ae"
            ],
            [
             0.3,
             "#f1b6da"
            ],
            [
             0.4,
             "#fde0ef"
            ],
            [
             0.5,
             "#f7f7f7"
            ],
            [
             0.6,
             "#e6f5d0"
            ],
            [
             0.7,
             "#b8e186"
            ],
            [
             0.8,
             "#7fbc41"
            ],
            [
             0.9,
             "#4d9221"
            ],
            [
             1,
             "#276419"
            ]
           ],
           "sequential": [
            [
             0,
             "#0d0887"
            ],
            [
             0.1111111111111111,
             "#46039f"
            ],
            [
             0.2222222222222222,
             "#7201a8"
            ],
            [
             0.3333333333333333,
             "#9c179e"
            ],
            [
             0.4444444444444444,
             "#bd3786"
            ],
            [
             0.5555555555555556,
             "#d8576b"
            ],
            [
             0.6666666666666666,
             "#ed7953"
            ],
            [
             0.7777777777777778,
             "#fb9f3a"
            ],
            [
             0.8888888888888888,
             "#fdca26"
            ],
            [
             1,
             "#f0f921"
            ]
           ],
           "sequentialminus": [
            [
             0,
             "#0d0887"
            ],
            [
             0.1111111111111111,
             "#46039f"
            ],
            [
             0.2222222222222222,
             "#7201a8"
            ],
            [
             0.3333333333333333,
             "#9c179e"
            ],
            [
             0.4444444444444444,
             "#bd3786"
            ],
            [
             0.5555555555555556,
             "#d8576b"
            ],
            [
             0.6666666666666666,
             "#ed7953"
            ],
            [
             0.7777777777777778,
             "#fb9f3a"
            ],
            [
             0.8888888888888888,
             "#fdca26"
            ],
            [
             1,
             "#f0f921"
            ]
           ]
          },
          "colorway": [
           "#636efa",
           "#EF553B",
           "#00cc96",
           "#ab63fa",
           "#FFA15A",
           "#19d3f3",
           "#FF6692",
           "#B6E880",
           "#FF97FF",
           "#FECB52"
          ],
          "font": {
           "color": "#f2f5fa"
          },
          "geo": {
           "bgcolor": "rgb(17,17,17)",
           "lakecolor": "rgb(17,17,17)",
           "landcolor": "rgb(17,17,17)",
           "showlakes": true,
           "showland": true,
           "subunitcolor": "#506784"
          },
          "hoverlabel": {
           "align": "left"
          },
          "hovermode": "closest",
          "mapbox": {
           "style": "dark"
          },
          "paper_bgcolor": "rgb(17,17,17)",
          "plot_bgcolor": "rgb(17,17,17)",
          "polar": {
           "angularaxis": {
            "gridcolor": "#506784",
            "linecolor": "#506784",
            "ticks": ""
           },
           "bgcolor": "rgb(17,17,17)",
           "radialaxis": {
            "gridcolor": "#506784",
            "linecolor": "#506784",
            "ticks": ""
           }
          },
          "scene": {
           "xaxis": {
            "backgroundcolor": "rgb(17,17,17)",
            "gridcolor": "#506784",
            "gridwidth": 2,
            "linecolor": "#506784",
            "showbackground": true,
            "ticks": "",
            "zerolinecolor": "#C8D4E3"
           },
           "yaxis": {
            "backgroundcolor": "rgb(17,17,17)",
            "gridcolor": "#506784",
            "gridwidth": 2,
            "linecolor": "#506784",
            "showbackground": true,
            "ticks": "",
            "zerolinecolor": "#C8D4E3"
           },
           "zaxis": {
            "backgroundcolor": "rgb(17,17,17)",
            "gridcolor": "#506784",
            "gridwidth": 2,
            "linecolor": "#506784",
            "showbackground": true,
            "ticks": "",
            "zerolinecolor": "#C8D4E3"
           }
          },
          "shapedefaults": {
           "line": {
            "color": "#f2f5fa"
           }
          },
          "sliderdefaults": {
           "bgcolor": "#C8D4E3",
           "bordercolor": "rgb(17,17,17)",
           "borderwidth": 1,
           "tickwidth": 0
          },
          "ternary": {
           "aaxis": {
            "gridcolor": "#506784",
            "linecolor": "#506784",
            "ticks": ""
           },
           "baxis": {
            "gridcolor": "#506784",
            "linecolor": "#506784",
            "ticks": ""
           },
           "bgcolor": "rgb(17,17,17)",
           "caxis": {
            "gridcolor": "#506784",
            "linecolor": "#506784",
            "ticks": ""
           }
          },
          "title": {
           "x": 0.05
          },
          "updatemenudefaults": {
           "bgcolor": "#506784",
           "borderwidth": 0
          },
          "xaxis": {
           "automargin": true,
           "gridcolor": "#283442",
           "linecolor": "#506784",
           "ticks": "",
           "title": {
            "standoff": 15
           },
           "zerolinecolor": "#283442",
           "zerolinewidth": 2
          },
          "yaxis": {
           "automargin": true,
           "gridcolor": "#283442",
           "linecolor": "#506784",
           "ticks": "",
           "title": {
            "standoff": 15
           },
           "zerolinecolor": "#283442",
           "zerolinewidth": 2
          }
         }
        },
        "title": {
         "text": "MSE Scores for Regression Algorithms"
        },
        "xaxis": {
         "anchor": "y",
         "domain": [
          0,
          1
         ],
         "title": {
          "text": "Algorithms"
         }
        },
        "yaxis": {
         "anchor": "x",
         "domain": [
          0,
          1
         ],
         "title": {
          "text": "Mean Squared Error"
         }
        }
       }
      },
      "text/html": [
       "<div>                            <div id=\"1e1fcbdc-4538-4786-a750-7e1ecb081ff4\" class=\"plotly-graph-div\" style=\"height:525px; width:100%;\"></div>            <script type=\"text/javascript\">                require([\"plotly\"], function(Plotly) {                    window.PLOTLYENV=window.PLOTLYENV || {};                                    if (document.getElementById(\"1e1fcbdc-4538-4786-a750-7e1ecb081ff4\")) {                    Plotly.newPlot(                        \"1e1fcbdc-4538-4786-a750-7e1ecb081ff4\",                        [{\"hovertemplate\":\"\\u003cb\\u003e%{hovertext}\\u003c\\u002fb\\u003e\\u003cbr\\u003e\\u003cbr\\u003eAlgorithms=%{x}\\u003cbr\\u003eMean Squared Error=%{y}\\u003cextra\\u003e\\u003c\\u002fextra\\u003e\",\"hovertext\":[\"Linear Regression\",\"Decision Tree Regressor\",\"Random Forest Regressor\",\"Gradient Boosting Regressor\",\"XGB Regressor\",\"Lasso Regression\",\"Ridge Regression\",\"ElasticNet Regression\",\"KNN Regressor\"],\"legendgroup\":\"\",\"marker\":{\"color\":\"blue\",\"symbol\":\"circle\",\"size\":12},\"mode\":\"markers\",\"name\":\"\",\"orientation\":\"v\",\"showlegend\":false,\"x\":[\"Linear Regression\",\"Decision Tree Regressor\",\"Random Forest Regressor\",\"Gradient Boosting Regressor\",\"XGB Regressor\",\"Lasso Regression\",\"Ridge Regression\",\"ElasticNet Regression\",\"KNN Regressor\"],\"xaxis\":\"x\",\"y\":[0.002911931774375335,0.0008816726908654058,0.000729368702225619,0.0006718280413980112,0.0006252016809322829,0.020373617040169118,0.0029064517892096625,0.014822436703453604,0.0011810686053480436],\"yaxis\":\"y\",\"type\":\"scatter\"}],                        {\"template\":{\"data\":{\"histogram2dcontour\":[{\"type\":\"histogram2dcontour\",\"colorbar\":{\"outlinewidth\":0,\"ticks\":\"\"},\"colorscale\":[[0.0,\"#0d0887\"],[0.1111111111111111,\"#46039f\"],[0.2222222222222222,\"#7201a8\"],[0.3333333333333333,\"#9c179e\"],[0.4444444444444444,\"#bd3786\"],[0.5555555555555556,\"#d8576b\"],[0.6666666666666666,\"#ed7953\"],[0.7777777777777778,\"#fb9f3a\"],[0.8888888888888888,\"#fdca26\"],[1.0,\"#f0f921\"]]}],\"choropleth\":[{\"type\":\"choropleth\",\"colorbar\":{\"outlinewidth\":0,\"ticks\":\"\"}}],\"histogram2d\":[{\"type\":\"histogram2d\",\"colorbar\":{\"outlinewidth\":0,\"ticks\":\"\"},\"colorscale\":[[0.0,\"#0d0887\"],[0.1111111111111111,\"#46039f\"],[0.2222222222222222,\"#7201a8\"],[0.3333333333333333,\"#9c179e\"],[0.4444444444444444,\"#bd3786\"],[0.5555555555555556,\"#d8576b\"],[0.6666666666666666,\"#ed7953\"],[0.7777777777777778,\"#fb9f3a\"],[0.8888888888888888,\"#fdca26\"],[1.0,\"#f0f921\"]]}],\"heatmap\":[{\"type\":\"heatmap\",\"colorbar\":{\"outlinewidth\":0,\"ticks\":\"\"},\"colorscale\":[[0.0,\"#0d0887\"],[0.1111111111111111,\"#46039f\"],[0.2222222222222222,\"#7201a8\"],[0.3333333333333333,\"#9c179e\"],[0.4444444444444444,\"#bd3786\"],[0.5555555555555556,\"#d8576b\"],[0.6666666666666666,\"#ed7953\"],[0.7777777777777778,\"#fb9f3a\"],[0.8888888888888888,\"#fdca26\"],[1.0,\"#f0f921\"]]}],\"heatmapgl\":[{\"type\":\"heatmapgl\",\"colorbar\":{\"outlinewidth\":0,\"ticks\":\"\"},\"colorscale\":[[0.0,\"#0d0887\"],[0.1111111111111111,\"#46039f\"],[0.2222222222222222,\"#7201a8\"],[0.3333333333333333,\"#9c179e\"],[0.4444444444444444,\"#bd3786\"],[0.5555555555555556,\"#d8576b\"],[0.6666666666666666,\"#ed7953\"],[0.7777777777777778,\"#fb9f3a\"],[0.8888888888888888,\"#fdca26\"],[1.0,\"#f0f921\"]]}],\"contourcarpet\":[{\"type\":\"contourcarpet\",\"colorbar\":{\"outlinewidth\":0,\"ticks\":\"\"}}],\"contour\":[{\"type\":\"contour\",\"colorbar\":{\"outlinewidth\":0,\"ticks\":\"\"},\"colorscale\":[[0.0,\"#0d0887\"],[0.1111111111111111,\"#46039f\"],[0.2222222222222222,\"#7201a8\"],[0.3333333333333333,\"#9c179e\"],[0.4444444444444444,\"#bd3786\"],[0.5555555555555556,\"#d8576b\"],[0.6666666666666666,\"#ed7953\"],[0.7777777777777778,\"#fb9f3a\"],[0.8888888888888888,\"#fdca26\"],[1.0,\"#f0f921\"]]}],\"surface\":[{\"type\":\"surface\",\"colorbar\":{\"outlinewidth\":0,\"ticks\":\"\"},\"colorscale\":[[0.0,\"#0d0887\"],[0.1111111111111111,\"#46039f\"],[0.2222222222222222,\"#7201a8\"],[0.3333333333333333,\"#9c179e\"],[0.4444444444444444,\"#bd3786\"],[0.5555555555555556,\"#d8576b\"],[0.6666666666666666,\"#ed7953\"],[0.7777777777777778,\"#fb9f3a\"],[0.8888888888888888,\"#fdca26\"],[1.0,\"#f0f921\"]]}],\"mesh3d\":[{\"type\":\"mesh3d\",\"colorbar\":{\"outlinewidth\":0,\"ticks\":\"\"}}],\"scatter\":[{\"marker\":{\"line\":{\"color\":\"#283442\"}},\"type\":\"scatter\"}],\"parcoords\":[{\"type\":\"parcoords\",\"line\":{\"colorbar\":{\"outlinewidth\":0,\"ticks\":\"\"}}}],\"scatterpolargl\":[{\"type\":\"scatterpolargl\",\"marker\":{\"colorbar\":{\"outlinewidth\":0,\"ticks\":\"\"}}}],\"bar\":[{\"error_x\":{\"color\":\"#f2f5fa\"},\"error_y\":{\"color\":\"#f2f5fa\"},\"marker\":{\"line\":{\"color\":\"rgb(17,17,17)\",\"width\":0.5},\"pattern\":{\"fillmode\":\"overlay\",\"size\":10,\"solidity\":0.2}},\"type\":\"bar\"}],\"scattergeo\":[{\"type\":\"scattergeo\",\"marker\":{\"colorbar\":{\"outlinewidth\":0,\"ticks\":\"\"}}}],\"scatterpolar\":[{\"type\":\"scatterpolar\",\"marker\":{\"colorbar\":{\"outlinewidth\":0,\"ticks\":\"\"}}}],\"histogram\":[{\"marker\":{\"pattern\":{\"fillmode\":\"overlay\",\"size\":10,\"solidity\":0.2}},\"type\":\"histogram\"}],\"scattergl\":[{\"marker\":{\"line\":{\"color\":\"#283442\"}},\"type\":\"scattergl\"}],\"scatter3d\":[{\"type\":\"scatter3d\",\"line\":{\"colorbar\":{\"outlinewidth\":0,\"ticks\":\"\"}},\"marker\":{\"colorbar\":{\"outlinewidth\":0,\"ticks\":\"\"}}}],\"scattermapbox\":[{\"type\":\"scattermapbox\",\"marker\":{\"colorbar\":{\"outlinewidth\":0,\"ticks\":\"\"}}}],\"scatterternary\":[{\"type\":\"scatterternary\",\"marker\":{\"colorbar\":{\"outlinewidth\":0,\"ticks\":\"\"}}}],\"scattercarpet\":[{\"type\":\"scattercarpet\",\"marker\":{\"colorbar\":{\"outlinewidth\":0,\"ticks\":\"\"}}}],\"carpet\":[{\"aaxis\":{\"endlinecolor\":\"#A2B1C6\",\"gridcolor\":\"#506784\",\"linecolor\":\"#506784\",\"minorgridcolor\":\"#506784\",\"startlinecolor\":\"#A2B1C6\"},\"baxis\":{\"endlinecolor\":\"#A2B1C6\",\"gridcolor\":\"#506784\",\"linecolor\":\"#506784\",\"minorgridcolor\":\"#506784\",\"startlinecolor\":\"#A2B1C6\"},\"type\":\"carpet\"}],\"table\":[{\"cells\":{\"fill\":{\"color\":\"#506784\"},\"line\":{\"color\":\"rgb(17,17,17)\"}},\"header\":{\"fill\":{\"color\":\"#2a3f5f\"},\"line\":{\"color\":\"rgb(17,17,17)\"}},\"type\":\"table\"}],\"barpolar\":[{\"marker\":{\"line\":{\"color\":\"rgb(17,17,17)\",\"width\":0.5},\"pattern\":{\"fillmode\":\"overlay\",\"size\":10,\"solidity\":0.2}},\"type\":\"barpolar\"}],\"pie\":[{\"automargin\":true,\"type\":\"pie\"}]},\"layout\":{\"autotypenumbers\":\"strict\",\"colorway\":[\"#636efa\",\"#EF553B\",\"#00cc96\",\"#ab63fa\",\"#FFA15A\",\"#19d3f3\",\"#FF6692\",\"#B6E880\",\"#FF97FF\",\"#FECB52\"],\"font\":{\"color\":\"#f2f5fa\"},\"hovermode\":\"closest\",\"hoverlabel\":{\"align\":\"left\"},\"paper_bgcolor\":\"rgb(17,17,17)\",\"plot_bgcolor\":\"rgb(17,17,17)\",\"polar\":{\"bgcolor\":\"rgb(17,17,17)\",\"angularaxis\":{\"gridcolor\":\"#506784\",\"linecolor\":\"#506784\",\"ticks\":\"\"},\"radialaxis\":{\"gridcolor\":\"#506784\",\"linecolor\":\"#506784\",\"ticks\":\"\"}},\"ternary\":{\"bgcolor\":\"rgb(17,17,17)\",\"aaxis\":{\"gridcolor\":\"#506784\",\"linecolor\":\"#506784\",\"ticks\":\"\"},\"baxis\":{\"gridcolor\":\"#506784\",\"linecolor\":\"#506784\",\"ticks\":\"\"},\"caxis\":{\"gridcolor\":\"#506784\",\"linecolor\":\"#506784\",\"ticks\":\"\"}},\"coloraxis\":{\"colorbar\":{\"outlinewidth\":0,\"ticks\":\"\"}},\"colorscale\":{\"sequential\":[[0.0,\"#0d0887\"],[0.1111111111111111,\"#46039f\"],[0.2222222222222222,\"#7201a8\"],[0.3333333333333333,\"#9c179e\"],[0.4444444444444444,\"#bd3786\"],[0.5555555555555556,\"#d8576b\"],[0.6666666666666666,\"#ed7953\"],[0.7777777777777778,\"#fb9f3a\"],[0.8888888888888888,\"#fdca26\"],[1.0,\"#f0f921\"]],\"sequentialminus\":[[0.0,\"#0d0887\"],[0.1111111111111111,\"#46039f\"],[0.2222222222222222,\"#7201a8\"],[0.3333333333333333,\"#9c179e\"],[0.4444444444444444,\"#bd3786\"],[0.5555555555555556,\"#d8576b\"],[0.6666666666666666,\"#ed7953\"],[0.7777777777777778,\"#fb9f3a\"],[0.8888888888888888,\"#fdca26\"],[1.0,\"#f0f921\"]],\"diverging\":[[0,\"#8e0152\"],[0.1,\"#c51b7d\"],[0.2,\"#de77ae\"],[0.3,\"#f1b6da\"],[0.4,\"#fde0ef\"],[0.5,\"#f7f7f7\"],[0.6,\"#e6f5d0\"],[0.7,\"#b8e186\"],[0.8,\"#7fbc41\"],[0.9,\"#4d9221\"],[1,\"#276419\"]]},\"xaxis\":{\"gridcolor\":\"#283442\",\"linecolor\":\"#506784\",\"ticks\":\"\",\"title\":{\"standoff\":15},\"zerolinecolor\":\"#283442\",\"automargin\":true,\"zerolinewidth\":2},\"yaxis\":{\"gridcolor\":\"#283442\",\"linecolor\":\"#506784\",\"ticks\":\"\",\"title\":{\"standoff\":15},\"zerolinecolor\":\"#283442\",\"automargin\":true,\"zerolinewidth\":2},\"scene\":{\"xaxis\":{\"backgroundcolor\":\"rgb(17,17,17)\",\"gridcolor\":\"#506784\",\"linecolor\":\"#506784\",\"showbackground\":true,\"ticks\":\"\",\"zerolinecolor\":\"#C8D4E3\",\"gridwidth\":2},\"yaxis\":{\"backgroundcolor\":\"rgb(17,17,17)\",\"gridcolor\":\"#506784\",\"linecolor\":\"#506784\",\"showbackground\":true,\"ticks\":\"\",\"zerolinecolor\":\"#C8D4E3\",\"gridwidth\":2},\"zaxis\":{\"backgroundcolor\":\"rgb(17,17,17)\",\"gridcolor\":\"#506784\",\"linecolor\":\"#506784\",\"showbackground\":true,\"ticks\":\"\",\"zerolinecolor\":\"#C8D4E3\",\"gridwidth\":2}},\"shapedefaults\":{\"line\":{\"color\":\"#f2f5fa\"}},\"annotationdefaults\":{\"arrowcolor\":\"#f2f5fa\",\"arrowhead\":0,\"arrowwidth\":1},\"geo\":{\"bgcolor\":\"rgb(17,17,17)\",\"landcolor\":\"rgb(17,17,17)\",\"subunitcolor\":\"#506784\",\"showland\":true,\"showlakes\":true,\"lakecolor\":\"rgb(17,17,17)\"},\"title\":{\"x\":0.05},\"updatemenudefaults\":{\"bgcolor\":\"#506784\",\"borderwidth\":0},\"sliderdefaults\":{\"bgcolor\":\"#C8D4E3\",\"borderwidth\":1,\"bordercolor\":\"rgb(17,17,17)\",\"tickwidth\":0},\"mapbox\":{\"style\":\"dark\"}}},\"xaxis\":{\"anchor\":\"y\",\"domain\":[0.0,1.0],\"title\":{\"text\":\"Algorithms\"}},\"yaxis\":{\"anchor\":\"x\",\"domain\":[0.0,1.0],\"title\":{\"text\":\"Mean Squared Error\"}},\"legend\":{\"tracegroupgap\":0},\"title\":{\"text\":\"MSE Scores for Regression Algorithms\"}},                        {\"responsive\": true}                    ).then(function(){\n",
       "                            \n",
       "var gd = document.getElementById('1e1fcbdc-4538-4786-a750-7e1ecb081ff4');\n",
       "var x = new MutationObserver(function (mutations, observer) {{\n",
       "        var display = window.getComputedStyle(gd).display;\n",
       "        if (!display || display === 'none') {{\n",
       "            console.log([gd, 'removed!']);\n",
       "            Plotly.purge(gd);\n",
       "            observer.disconnect();\n",
       "        }}\n",
       "}});\n",
       "\n",
       "// Listen for the removal of the full notebook cells\n",
       "var notebookContainer = gd.closest('#notebook-container');\n",
       "if (notebookContainer) {{\n",
       "    x.observe(notebookContainer, {childList: true});\n",
       "}}\n",
       "\n",
       "// Listen for the clearing of the current output cell\n",
       "var outputEl = gd.closest('.output');\n",
       "if (outputEl) {{\n",
       "    x.observe(outputEl, {childList: true});\n",
       "}}\n",
       "\n",
       "                        })                };                });            </script>        </div>"
      ]
     },
     "metadata": {},
     "output_type": "display_data"
    },
    {
     "data": {
      "application/vnd.plotly.v1+json": {
       "config": {
        "plotlyServerURL": "https://plot.ly"
       },
       "data": [
        {
         "hovertemplate": "<b>%{hovertext}</b><br><br>Algorithms=%{x}<br>R² Score=%{y}<extra></extra>",
         "hovertext": [
          "Linear Regression",
          "Decision Tree Regressor",
          "Random Forest Regressor",
          "Gradient Boosting Regressor",
          "XGB Regressor",
          "Lasso Regression",
          "Ridge Regression",
          "ElasticNet Regression",
          "KNN Regressor"
         ],
         "legendgroup": "",
         "marker": {
          "color": "green",
          "size": 12,
          "symbol": "circle"
         },
         "mode": "markers",
         "name": "",
         "orientation": "v",
         "showlegend": false,
         "type": "scatter",
         "x": [
          "Linear Regression",
          "Decision Tree Regressor",
          "Random Forest Regressor",
          "Gradient Boosting Regressor",
          "XGB Regressor",
          "Lasso Regression",
          "Ridge Regression",
          "ElasticNet Regression",
          "KNN Regressor"
         ],
         "xaxis": "x",
         "y": [
          0.9970432493573379,
          0.9991047570831589,
          0.9992594052518604,
          0.9993178315472079,
          0.9993651755552252,
          0.979312803340046,
          0.9970488136874514,
          0.9849494244218149,
          0.9988007530297855
         ],
         "yaxis": "y"
        }
       ],
       "layout": {
        "legend": {
         "tracegroupgap": 0
        },
        "template": {
         "data": {
          "bar": [
           {
            "error_x": {
             "color": "#f2f5fa"
            },
            "error_y": {
             "color": "#f2f5fa"
            },
            "marker": {
             "line": {
              "color": "rgb(17,17,17)",
              "width": 0.5
             },
             "pattern": {
              "fillmode": "overlay",
              "size": 10,
              "solidity": 0.2
             }
            },
            "type": "bar"
           }
          ],
          "barpolar": [
           {
            "marker": {
             "line": {
              "color": "rgb(17,17,17)",
              "width": 0.5
             },
             "pattern": {
              "fillmode": "overlay",
              "size": 10,
              "solidity": 0.2
             }
            },
            "type": "barpolar"
           }
          ],
          "carpet": [
           {
            "aaxis": {
             "endlinecolor": "#A2B1C6",
             "gridcolor": "#506784",
             "linecolor": "#506784",
             "minorgridcolor": "#506784",
             "startlinecolor": "#A2B1C6"
            },
            "baxis": {
             "endlinecolor": "#A2B1C6",
             "gridcolor": "#506784",
             "linecolor": "#506784",
             "minorgridcolor": "#506784",
             "startlinecolor": "#A2B1C6"
            },
            "type": "carpet"
           }
          ],
          "choropleth": [
           {
            "colorbar": {
             "outlinewidth": 0,
             "ticks": ""
            },
            "type": "choropleth"
           }
          ],
          "contour": [
           {
            "colorbar": {
             "outlinewidth": 0,
             "ticks": ""
            },
            "colorscale": [
             [
              0,
              "#0d0887"
             ],
             [
              0.1111111111111111,
              "#46039f"
             ],
             [
              0.2222222222222222,
              "#7201a8"
             ],
             [
              0.3333333333333333,
              "#9c179e"
             ],
             [
              0.4444444444444444,
              "#bd3786"
             ],
             [
              0.5555555555555556,
              "#d8576b"
             ],
             [
              0.6666666666666666,
              "#ed7953"
             ],
             [
              0.7777777777777778,
              "#fb9f3a"
             ],
             [
              0.8888888888888888,
              "#fdca26"
             ],
             [
              1,
              "#f0f921"
             ]
            ],
            "type": "contour"
           }
          ],
          "contourcarpet": [
           {
            "colorbar": {
             "outlinewidth": 0,
             "ticks": ""
            },
            "type": "contourcarpet"
           }
          ],
          "heatmap": [
           {
            "colorbar": {
             "outlinewidth": 0,
             "ticks": ""
            },
            "colorscale": [
             [
              0,
              "#0d0887"
             ],
             [
              0.1111111111111111,
              "#46039f"
             ],
             [
              0.2222222222222222,
              "#7201a8"
             ],
             [
              0.3333333333333333,
              "#9c179e"
             ],
             [
              0.4444444444444444,
              "#bd3786"
             ],
             [
              0.5555555555555556,
              "#d8576b"
             ],
             [
              0.6666666666666666,
              "#ed7953"
             ],
             [
              0.7777777777777778,
              "#fb9f3a"
             ],
             [
              0.8888888888888888,
              "#fdca26"
             ],
             [
              1,
              "#f0f921"
             ]
            ],
            "type": "heatmap"
           }
          ],
          "heatmapgl": [
           {
            "colorbar": {
             "outlinewidth": 0,
             "ticks": ""
            },
            "colorscale": [
             [
              0,
              "#0d0887"
             ],
             [
              0.1111111111111111,
              "#46039f"
             ],
             [
              0.2222222222222222,
              "#7201a8"
             ],
             [
              0.3333333333333333,
              "#9c179e"
             ],
             [
              0.4444444444444444,
              "#bd3786"
             ],
             [
              0.5555555555555556,
              "#d8576b"
             ],
             [
              0.6666666666666666,
              "#ed7953"
             ],
             [
              0.7777777777777778,
              "#fb9f3a"
             ],
             [
              0.8888888888888888,
              "#fdca26"
             ],
             [
              1,
              "#f0f921"
             ]
            ],
            "type": "heatmapgl"
           }
          ],
          "histogram": [
           {
            "marker": {
             "pattern": {
              "fillmode": "overlay",
              "size": 10,
              "solidity": 0.2
             }
            },
            "type": "histogram"
           }
          ],
          "histogram2d": [
           {
            "colorbar": {
             "outlinewidth": 0,
             "ticks": ""
            },
            "colorscale": [
             [
              0,
              "#0d0887"
             ],
             [
              0.1111111111111111,
              "#46039f"
             ],
             [
              0.2222222222222222,
              "#7201a8"
             ],
             [
              0.3333333333333333,
              "#9c179e"
             ],
             [
              0.4444444444444444,
              "#bd3786"
             ],
             [
              0.5555555555555556,
              "#d8576b"
             ],
             [
              0.6666666666666666,
              "#ed7953"
             ],
             [
              0.7777777777777778,
              "#fb9f3a"
             ],
             [
              0.8888888888888888,
              "#fdca26"
             ],
             [
              1,
              "#f0f921"
             ]
            ],
            "type": "histogram2d"
           }
          ],
          "histogram2dcontour": [
           {
            "colorbar": {
             "outlinewidth": 0,
             "ticks": ""
            },
            "colorscale": [
             [
              0,
              "#0d0887"
             ],
             [
              0.1111111111111111,
              "#46039f"
             ],
             [
              0.2222222222222222,
              "#7201a8"
             ],
             [
              0.3333333333333333,
              "#9c179e"
             ],
             [
              0.4444444444444444,
              "#bd3786"
             ],
             [
              0.5555555555555556,
              "#d8576b"
             ],
             [
              0.6666666666666666,
              "#ed7953"
             ],
             [
              0.7777777777777778,
              "#fb9f3a"
             ],
             [
              0.8888888888888888,
              "#fdca26"
             ],
             [
              1,
              "#f0f921"
             ]
            ],
            "type": "histogram2dcontour"
           }
          ],
          "mesh3d": [
           {
            "colorbar": {
             "outlinewidth": 0,
             "ticks": ""
            },
            "type": "mesh3d"
           }
          ],
          "parcoords": [
           {
            "line": {
             "colorbar": {
              "outlinewidth": 0,
              "ticks": ""
             }
            },
            "type": "parcoords"
           }
          ],
          "pie": [
           {
            "automargin": true,
            "type": "pie"
           }
          ],
          "scatter": [
           {
            "marker": {
             "line": {
              "color": "#283442"
             }
            },
            "type": "scatter"
           }
          ],
          "scatter3d": [
           {
            "line": {
             "colorbar": {
              "outlinewidth": 0,
              "ticks": ""
             }
            },
            "marker": {
             "colorbar": {
              "outlinewidth": 0,
              "ticks": ""
             }
            },
            "type": "scatter3d"
           }
          ],
          "scattercarpet": [
           {
            "marker": {
             "colorbar": {
              "outlinewidth": 0,
              "ticks": ""
             }
            },
            "type": "scattercarpet"
           }
          ],
          "scattergeo": [
           {
            "marker": {
             "colorbar": {
              "outlinewidth": 0,
              "ticks": ""
             }
            },
            "type": "scattergeo"
           }
          ],
          "scattergl": [
           {
            "marker": {
             "line": {
              "color": "#283442"
             }
            },
            "type": "scattergl"
           }
          ],
          "scattermapbox": [
           {
            "marker": {
             "colorbar": {
              "outlinewidth": 0,
              "ticks": ""
             }
            },
            "type": "scattermapbox"
           }
          ],
          "scatterpolar": [
           {
            "marker": {
             "colorbar": {
              "outlinewidth": 0,
              "ticks": ""
             }
            },
            "type": "scatterpolar"
           }
          ],
          "scatterpolargl": [
           {
            "marker": {
             "colorbar": {
              "outlinewidth": 0,
              "ticks": ""
             }
            },
            "type": "scatterpolargl"
           }
          ],
          "scatterternary": [
           {
            "marker": {
             "colorbar": {
              "outlinewidth": 0,
              "ticks": ""
             }
            },
            "type": "scatterternary"
           }
          ],
          "surface": [
           {
            "colorbar": {
             "outlinewidth": 0,
             "ticks": ""
            },
            "colorscale": [
             [
              0,
              "#0d0887"
             ],
             [
              0.1111111111111111,
              "#46039f"
             ],
             [
              0.2222222222222222,
              "#7201a8"
             ],
             [
              0.3333333333333333,
              "#9c179e"
             ],
             [
              0.4444444444444444,
              "#bd3786"
             ],
             [
              0.5555555555555556,
              "#d8576b"
             ],
             [
              0.6666666666666666,
              "#ed7953"
             ],
             [
              0.7777777777777778,
              "#fb9f3a"
             ],
             [
              0.8888888888888888,
              "#fdca26"
             ],
             [
              1,
              "#f0f921"
             ]
            ],
            "type": "surface"
           }
          ],
          "table": [
           {
            "cells": {
             "fill": {
              "color": "#506784"
             },
             "line": {
              "color": "rgb(17,17,17)"
             }
            },
            "header": {
             "fill": {
              "color": "#2a3f5f"
             },
             "line": {
              "color": "rgb(17,17,17)"
             }
            },
            "type": "table"
           }
          ]
         },
         "layout": {
          "annotationdefaults": {
           "arrowcolor": "#f2f5fa",
           "arrowhead": 0,
           "arrowwidth": 1
          },
          "autotypenumbers": "strict",
          "coloraxis": {
           "colorbar": {
            "outlinewidth": 0,
            "ticks": ""
           }
          },
          "colorscale": {
           "diverging": [
            [
             0,
             "#8e0152"
            ],
            [
             0.1,
             "#c51b7d"
            ],
            [
             0.2,
             "#de77ae"
            ],
            [
             0.3,
             "#f1b6da"
            ],
            [
             0.4,
             "#fde0ef"
            ],
            [
             0.5,
             "#f7f7f7"
            ],
            [
             0.6,
             "#e6f5d0"
            ],
            [
             0.7,
             "#b8e186"
            ],
            [
             0.8,
             "#7fbc41"
            ],
            [
             0.9,
             "#4d9221"
            ],
            [
             1,
             "#276419"
            ]
           ],
           "sequential": [
            [
             0,
             "#0d0887"
            ],
            [
             0.1111111111111111,
             "#46039f"
            ],
            [
             0.2222222222222222,
             "#7201a8"
            ],
            [
             0.3333333333333333,
             "#9c179e"
            ],
            [
             0.4444444444444444,
             "#bd3786"
            ],
            [
             0.5555555555555556,
             "#d8576b"
            ],
            [
             0.6666666666666666,
             "#ed7953"
            ],
            [
             0.7777777777777778,
             "#fb9f3a"
            ],
            [
             0.8888888888888888,
             "#fdca26"
            ],
            [
             1,
             "#f0f921"
            ]
           ],
           "sequentialminus": [
            [
             0,
             "#0d0887"
            ],
            [
             0.1111111111111111,
             "#46039f"
            ],
            [
             0.2222222222222222,
             "#7201a8"
            ],
            [
             0.3333333333333333,
             "#9c179e"
            ],
            [
             0.4444444444444444,
             "#bd3786"
            ],
            [
             0.5555555555555556,
             "#d8576b"
            ],
            [
             0.6666666666666666,
             "#ed7953"
            ],
            [
             0.7777777777777778,
             "#fb9f3a"
            ],
            [
             0.8888888888888888,
             "#fdca26"
            ],
            [
             1,
             "#f0f921"
            ]
           ]
          },
          "colorway": [
           "#636efa",
           "#EF553B",
           "#00cc96",
           "#ab63fa",
           "#FFA15A",
           "#19d3f3",
           "#FF6692",
           "#B6E880",
           "#FF97FF",
           "#FECB52"
          ],
          "font": {
           "color": "#f2f5fa"
          },
          "geo": {
           "bgcolor": "rgb(17,17,17)",
           "lakecolor": "rgb(17,17,17)",
           "landcolor": "rgb(17,17,17)",
           "showlakes": true,
           "showland": true,
           "subunitcolor": "#506784"
          },
          "hoverlabel": {
           "align": "left"
          },
          "hovermode": "closest",
          "mapbox": {
           "style": "dark"
          },
          "paper_bgcolor": "rgb(17,17,17)",
          "plot_bgcolor": "rgb(17,17,17)",
          "polar": {
           "angularaxis": {
            "gridcolor": "#506784",
            "linecolor": "#506784",
            "ticks": ""
           },
           "bgcolor": "rgb(17,17,17)",
           "radialaxis": {
            "gridcolor": "#506784",
            "linecolor": "#506784",
            "ticks": ""
           }
          },
          "scene": {
           "xaxis": {
            "backgroundcolor": "rgb(17,17,17)",
            "gridcolor": "#506784",
            "gridwidth": 2,
            "linecolor": "#506784",
            "showbackground": true,
            "ticks": "",
            "zerolinecolor": "#C8D4E3"
           },
           "yaxis": {
            "backgroundcolor": "rgb(17,17,17)",
            "gridcolor": "#506784",
            "gridwidth": 2,
            "linecolor": "#506784",
            "showbackground": true,
            "ticks": "",
            "zerolinecolor": "#C8D4E3"
           },
           "zaxis": {
            "backgroundcolor": "rgb(17,17,17)",
            "gridcolor": "#506784",
            "gridwidth": 2,
            "linecolor": "#506784",
            "showbackground": true,
            "ticks": "",
            "zerolinecolor": "#C8D4E3"
           }
          },
          "shapedefaults": {
           "line": {
            "color": "#f2f5fa"
           }
          },
          "sliderdefaults": {
           "bgcolor": "#C8D4E3",
           "bordercolor": "rgb(17,17,17)",
           "borderwidth": 1,
           "tickwidth": 0
          },
          "ternary": {
           "aaxis": {
            "gridcolor": "#506784",
            "linecolor": "#506784",
            "ticks": ""
           },
           "baxis": {
            "gridcolor": "#506784",
            "linecolor": "#506784",
            "ticks": ""
           },
           "bgcolor": "rgb(17,17,17)",
           "caxis": {
            "gridcolor": "#506784",
            "linecolor": "#506784",
            "ticks": ""
           }
          },
          "title": {
           "x": 0.05
          },
          "updatemenudefaults": {
           "bgcolor": "#506784",
           "borderwidth": 0
          },
          "xaxis": {
           "automargin": true,
           "gridcolor": "#283442",
           "linecolor": "#506784",
           "ticks": "",
           "title": {
            "standoff": 15
           },
           "zerolinecolor": "#283442",
           "zerolinewidth": 2
          },
          "yaxis": {
           "automargin": true,
           "gridcolor": "#283442",
           "linecolor": "#506784",
           "ticks": "",
           "title": {
            "standoff": 15
           },
           "zerolinecolor": "#283442",
           "zerolinewidth": 2
          }
         }
        },
        "title": {
         "text": "R² Scores for Regression Algorithms"
        },
        "xaxis": {
         "anchor": "y",
         "domain": [
          0,
          1
         ],
         "title": {
          "text": "Algorithms"
         }
        },
        "yaxis": {
         "anchor": "x",
         "domain": [
          0,
          1
         ],
         "title": {
          "text": "R² Score"
         }
        }
       }
      },
      "text/html": [
       "<div>                            <div id=\"4a6419b1-1883-4673-bc7e-de52274bf106\" class=\"plotly-graph-div\" style=\"height:525px; width:100%;\"></div>            <script type=\"text/javascript\">                require([\"plotly\"], function(Plotly) {                    window.PLOTLYENV=window.PLOTLYENV || {};                                    if (document.getElementById(\"4a6419b1-1883-4673-bc7e-de52274bf106\")) {                    Plotly.newPlot(                        \"4a6419b1-1883-4673-bc7e-de52274bf106\",                        [{\"hovertemplate\":\"\\u003cb\\u003e%{hovertext}\\u003c\\u002fb\\u003e\\u003cbr\\u003e\\u003cbr\\u003eAlgorithms=%{x}\\u003cbr\\u003eR² Score=%{y}\\u003cextra\\u003e\\u003c\\u002fextra\\u003e\",\"hovertext\":[\"Linear Regression\",\"Decision Tree Regressor\",\"Random Forest Regressor\",\"Gradient Boosting Regressor\",\"XGB Regressor\",\"Lasso Regression\",\"Ridge Regression\",\"ElasticNet Regression\",\"KNN Regressor\"],\"legendgroup\":\"\",\"marker\":{\"color\":\"green\",\"symbol\":\"circle\",\"size\":12},\"mode\":\"markers\",\"name\":\"\",\"orientation\":\"v\",\"showlegend\":false,\"x\":[\"Linear Regression\",\"Decision Tree Regressor\",\"Random Forest Regressor\",\"Gradient Boosting Regressor\",\"XGB Regressor\",\"Lasso Regression\",\"Ridge Regression\",\"ElasticNet Regression\",\"KNN Regressor\"],\"xaxis\":\"x\",\"y\":[0.9970432493573379,0.9991047570831589,0.9992594052518604,0.9993178315472079,0.9993651755552252,0.979312803340046,0.9970488136874514,0.9849494244218149,0.9988007530297855],\"yaxis\":\"y\",\"type\":\"scatter\"}],                        {\"template\":{\"data\":{\"histogram2dcontour\":[{\"type\":\"histogram2dcontour\",\"colorbar\":{\"outlinewidth\":0,\"ticks\":\"\"},\"colorscale\":[[0.0,\"#0d0887\"],[0.1111111111111111,\"#46039f\"],[0.2222222222222222,\"#7201a8\"],[0.3333333333333333,\"#9c179e\"],[0.4444444444444444,\"#bd3786\"],[0.5555555555555556,\"#d8576b\"],[0.6666666666666666,\"#ed7953\"],[0.7777777777777778,\"#fb9f3a\"],[0.8888888888888888,\"#fdca26\"],[1.0,\"#f0f921\"]]}],\"choropleth\":[{\"type\":\"choropleth\",\"colorbar\":{\"outlinewidth\":0,\"ticks\":\"\"}}],\"histogram2d\":[{\"type\":\"histogram2d\",\"colorbar\":{\"outlinewidth\":0,\"ticks\":\"\"},\"colorscale\":[[0.0,\"#0d0887\"],[0.1111111111111111,\"#46039f\"],[0.2222222222222222,\"#7201a8\"],[0.3333333333333333,\"#9c179e\"],[0.4444444444444444,\"#bd3786\"],[0.5555555555555556,\"#d8576b\"],[0.6666666666666666,\"#ed7953\"],[0.7777777777777778,\"#fb9f3a\"],[0.8888888888888888,\"#fdca26\"],[1.0,\"#f0f921\"]]}],\"heatmap\":[{\"type\":\"heatmap\",\"colorbar\":{\"outlinewidth\":0,\"ticks\":\"\"},\"colorscale\":[[0.0,\"#0d0887\"],[0.1111111111111111,\"#46039f\"],[0.2222222222222222,\"#7201a8\"],[0.3333333333333333,\"#9c179e\"],[0.4444444444444444,\"#bd3786\"],[0.5555555555555556,\"#d8576b\"],[0.6666666666666666,\"#ed7953\"],[0.7777777777777778,\"#fb9f3a\"],[0.8888888888888888,\"#fdca26\"],[1.0,\"#f0f921\"]]}],\"heatmapgl\":[{\"type\":\"heatmapgl\",\"colorbar\":{\"outlinewidth\":0,\"ticks\":\"\"},\"colorscale\":[[0.0,\"#0d0887\"],[0.1111111111111111,\"#46039f\"],[0.2222222222222222,\"#7201a8\"],[0.3333333333333333,\"#9c179e\"],[0.4444444444444444,\"#bd3786\"],[0.5555555555555556,\"#d8576b\"],[0.6666666666666666,\"#ed7953\"],[0.7777777777777778,\"#fb9f3a\"],[0.8888888888888888,\"#fdca26\"],[1.0,\"#f0f921\"]]}],\"contourcarpet\":[{\"type\":\"contourcarpet\",\"colorbar\":{\"outlinewidth\":0,\"ticks\":\"\"}}],\"contour\":[{\"type\":\"contour\",\"colorbar\":{\"outlinewidth\":0,\"ticks\":\"\"},\"colorscale\":[[0.0,\"#0d0887\"],[0.1111111111111111,\"#46039f\"],[0.2222222222222222,\"#7201a8\"],[0.3333333333333333,\"#9c179e\"],[0.4444444444444444,\"#bd3786\"],[0.5555555555555556,\"#d8576b\"],[0.6666666666666666,\"#ed7953\"],[0.7777777777777778,\"#fb9f3a\"],[0.8888888888888888,\"#fdca26\"],[1.0,\"#f0f921\"]]}],\"surface\":[{\"type\":\"surface\",\"colorbar\":{\"outlinewidth\":0,\"ticks\":\"\"},\"colorscale\":[[0.0,\"#0d0887\"],[0.1111111111111111,\"#46039f\"],[0.2222222222222222,\"#7201a8\"],[0.3333333333333333,\"#9c179e\"],[0.4444444444444444,\"#bd3786\"],[0.5555555555555556,\"#d8576b\"],[0.6666666666666666,\"#ed7953\"],[0.7777777777777778,\"#fb9f3a\"],[0.8888888888888888,\"#fdca26\"],[1.0,\"#f0f921\"]]}],\"mesh3d\":[{\"type\":\"mesh3d\",\"colorbar\":{\"outlinewidth\":0,\"ticks\":\"\"}}],\"scatter\":[{\"marker\":{\"line\":{\"color\":\"#283442\"}},\"type\":\"scatter\"}],\"parcoords\":[{\"type\":\"parcoords\",\"line\":{\"colorbar\":{\"outlinewidth\":0,\"ticks\":\"\"}}}],\"scatterpolargl\":[{\"type\":\"scatterpolargl\",\"marker\":{\"colorbar\":{\"outlinewidth\":0,\"ticks\":\"\"}}}],\"bar\":[{\"error_x\":{\"color\":\"#f2f5fa\"},\"error_y\":{\"color\":\"#f2f5fa\"},\"marker\":{\"line\":{\"color\":\"rgb(17,17,17)\",\"width\":0.5},\"pattern\":{\"fillmode\":\"overlay\",\"size\":10,\"solidity\":0.2}},\"type\":\"bar\"}],\"scattergeo\":[{\"type\":\"scattergeo\",\"marker\":{\"colorbar\":{\"outlinewidth\":0,\"ticks\":\"\"}}}],\"scatterpolar\":[{\"type\":\"scatterpolar\",\"marker\":{\"colorbar\":{\"outlinewidth\":0,\"ticks\":\"\"}}}],\"histogram\":[{\"marker\":{\"pattern\":{\"fillmode\":\"overlay\",\"size\":10,\"solidity\":0.2}},\"type\":\"histogram\"}],\"scattergl\":[{\"marker\":{\"line\":{\"color\":\"#283442\"}},\"type\":\"scattergl\"}],\"scatter3d\":[{\"type\":\"scatter3d\",\"line\":{\"colorbar\":{\"outlinewidth\":0,\"ticks\":\"\"}},\"marker\":{\"colorbar\":{\"outlinewidth\":0,\"ticks\":\"\"}}}],\"scattermapbox\":[{\"type\":\"scattermapbox\",\"marker\":{\"colorbar\":{\"outlinewidth\":0,\"ticks\":\"\"}}}],\"scatterternary\":[{\"type\":\"scatterternary\",\"marker\":{\"colorbar\":{\"outlinewidth\":0,\"ticks\":\"\"}}}],\"scattercarpet\":[{\"type\":\"scattercarpet\",\"marker\":{\"colorbar\":{\"outlinewidth\":0,\"ticks\":\"\"}}}],\"carpet\":[{\"aaxis\":{\"endlinecolor\":\"#A2B1C6\",\"gridcolor\":\"#506784\",\"linecolor\":\"#506784\",\"minorgridcolor\":\"#506784\",\"startlinecolor\":\"#A2B1C6\"},\"baxis\":{\"endlinecolor\":\"#A2B1C6\",\"gridcolor\":\"#506784\",\"linecolor\":\"#506784\",\"minorgridcolor\":\"#506784\",\"startlinecolor\":\"#A2B1C6\"},\"type\":\"carpet\"}],\"table\":[{\"cells\":{\"fill\":{\"color\":\"#506784\"},\"line\":{\"color\":\"rgb(17,17,17)\"}},\"header\":{\"fill\":{\"color\":\"#2a3f5f\"},\"line\":{\"color\":\"rgb(17,17,17)\"}},\"type\":\"table\"}],\"barpolar\":[{\"marker\":{\"line\":{\"color\":\"rgb(17,17,17)\",\"width\":0.5},\"pattern\":{\"fillmode\":\"overlay\",\"size\":10,\"solidity\":0.2}},\"type\":\"barpolar\"}],\"pie\":[{\"automargin\":true,\"type\":\"pie\"}]},\"layout\":{\"autotypenumbers\":\"strict\",\"colorway\":[\"#636efa\",\"#EF553B\",\"#00cc96\",\"#ab63fa\",\"#FFA15A\",\"#19d3f3\",\"#FF6692\",\"#B6E880\",\"#FF97FF\",\"#FECB52\"],\"font\":{\"color\":\"#f2f5fa\"},\"hovermode\":\"closest\",\"hoverlabel\":{\"align\":\"left\"},\"paper_bgcolor\":\"rgb(17,17,17)\",\"plot_bgcolor\":\"rgb(17,17,17)\",\"polar\":{\"bgcolor\":\"rgb(17,17,17)\",\"angularaxis\":{\"gridcolor\":\"#506784\",\"linecolor\":\"#506784\",\"ticks\":\"\"},\"radialaxis\":{\"gridcolor\":\"#506784\",\"linecolor\":\"#506784\",\"ticks\":\"\"}},\"ternary\":{\"bgcolor\":\"rgb(17,17,17)\",\"aaxis\":{\"gridcolor\":\"#506784\",\"linecolor\":\"#506784\",\"ticks\":\"\"},\"baxis\":{\"gridcolor\":\"#506784\",\"linecolor\":\"#506784\",\"ticks\":\"\"},\"caxis\":{\"gridcolor\":\"#506784\",\"linecolor\":\"#506784\",\"ticks\":\"\"}},\"coloraxis\":{\"colorbar\":{\"outlinewidth\":0,\"ticks\":\"\"}},\"colorscale\":{\"sequential\":[[0.0,\"#0d0887\"],[0.1111111111111111,\"#46039f\"],[0.2222222222222222,\"#7201a8\"],[0.3333333333333333,\"#9c179e\"],[0.4444444444444444,\"#bd3786\"],[0.5555555555555556,\"#d8576b\"],[0.6666666666666666,\"#ed7953\"],[0.7777777777777778,\"#fb9f3a\"],[0.8888888888888888,\"#fdca26\"],[1.0,\"#f0f921\"]],\"sequentialminus\":[[0.0,\"#0d0887\"],[0.1111111111111111,\"#46039f\"],[0.2222222222222222,\"#7201a8\"],[0.3333333333333333,\"#9c179e\"],[0.4444444444444444,\"#bd3786\"],[0.5555555555555556,\"#d8576b\"],[0.6666666666666666,\"#ed7953\"],[0.7777777777777778,\"#fb9f3a\"],[0.8888888888888888,\"#fdca26\"],[1.0,\"#f0f921\"]],\"diverging\":[[0,\"#8e0152\"],[0.1,\"#c51b7d\"],[0.2,\"#de77ae\"],[0.3,\"#f1b6da\"],[0.4,\"#fde0ef\"],[0.5,\"#f7f7f7\"],[0.6,\"#e6f5d0\"],[0.7,\"#b8e186\"],[0.8,\"#7fbc41\"],[0.9,\"#4d9221\"],[1,\"#276419\"]]},\"xaxis\":{\"gridcolor\":\"#283442\",\"linecolor\":\"#506784\",\"ticks\":\"\",\"title\":{\"standoff\":15},\"zerolinecolor\":\"#283442\",\"automargin\":true,\"zerolinewidth\":2},\"yaxis\":{\"gridcolor\":\"#283442\",\"linecolor\":\"#506784\",\"ticks\":\"\",\"title\":{\"standoff\":15},\"zerolinecolor\":\"#283442\",\"automargin\":true,\"zerolinewidth\":2},\"scene\":{\"xaxis\":{\"backgroundcolor\":\"rgb(17,17,17)\",\"gridcolor\":\"#506784\",\"linecolor\":\"#506784\",\"showbackground\":true,\"ticks\":\"\",\"zerolinecolor\":\"#C8D4E3\",\"gridwidth\":2},\"yaxis\":{\"backgroundcolor\":\"rgb(17,17,17)\",\"gridcolor\":\"#506784\",\"linecolor\":\"#506784\",\"showbackground\":true,\"ticks\":\"\",\"zerolinecolor\":\"#C8D4E3\",\"gridwidth\":2},\"zaxis\":{\"backgroundcolor\":\"rgb(17,17,17)\",\"gridcolor\":\"#506784\",\"linecolor\":\"#506784\",\"showbackground\":true,\"ticks\":\"\",\"zerolinecolor\":\"#C8D4E3\",\"gridwidth\":2}},\"shapedefaults\":{\"line\":{\"color\":\"#f2f5fa\"}},\"annotationdefaults\":{\"arrowcolor\":\"#f2f5fa\",\"arrowhead\":0,\"arrowwidth\":1},\"geo\":{\"bgcolor\":\"rgb(17,17,17)\",\"landcolor\":\"rgb(17,17,17)\",\"subunitcolor\":\"#506784\",\"showland\":true,\"showlakes\":true,\"lakecolor\":\"rgb(17,17,17)\"},\"title\":{\"x\":0.05},\"updatemenudefaults\":{\"bgcolor\":\"#506784\",\"borderwidth\":0},\"sliderdefaults\":{\"bgcolor\":\"#C8D4E3\",\"borderwidth\":1,\"bordercolor\":\"rgb(17,17,17)\",\"tickwidth\":0},\"mapbox\":{\"style\":\"dark\"}}},\"xaxis\":{\"anchor\":\"y\",\"domain\":[0.0,1.0],\"title\":{\"text\":\"Algorithms\"}},\"yaxis\":{\"anchor\":\"x\",\"domain\":[0.0,1.0],\"title\":{\"text\":\"R² Score\"}},\"legend\":{\"tracegroupgap\":0},\"title\":{\"text\":\"R² Scores for Regression Algorithms\"}},                        {\"responsive\": true}                    ).then(function(){\n",
       "                            \n",
       "var gd = document.getElementById('4a6419b1-1883-4673-bc7e-de52274bf106');\n",
       "var x = new MutationObserver(function (mutations, observer) {{\n",
       "        var display = window.getComputedStyle(gd).display;\n",
       "        if (!display || display === 'none') {{\n",
       "            console.log([gd, 'removed!']);\n",
       "            Plotly.purge(gd);\n",
       "            observer.disconnect();\n",
       "        }}\n",
       "}});\n",
       "\n",
       "// Listen for the removal of the full notebook cells\n",
       "var notebookContainer = gd.closest('#notebook-container');\n",
       "if (notebookContainer) {{\n",
       "    x.observe(notebookContainer, {childList: true});\n",
       "}}\n",
       "\n",
       "// Listen for the clearing of the current output cell\n",
       "var outputEl = gd.closest('.output');\n",
       "if (outputEl) {{\n",
       "    x.observe(outputEl, {childList: true});\n",
       "}}\n",
       "\n",
       "                        })                };                });            </script>        </div>"
      ]
     },
     "metadata": {},
     "output_type": "display_data"
    }
   ],
   "source": [
    "import plotly.express as px\n",
    "import pandas as pd\n",
    "\n",
    "# Define data\n",
    "data = {\n",
    "    'Algorithm': [\n",
    "        'Linear Regression', 'Decision Tree Regressor', 'Random Forest Regressor', \n",
    "        'Gradient Boosting Regressor', 'XGB Regressor', 'Lasso Regression', \n",
    "        'Ridge Regression', 'ElasticNet Regression', 'KNN Regressor'\n",
    "    ],\n",
    "    'MSE': [\n",
    "        0.002911931774375335, 0.0008816726908654058, 0.000729368702225619, \n",
    "        0.0006718280413980112, 0.0006252016809322829, 0.020373617040169118, \n",
    "        0.0029064517892096625, 0.014822436703453604, 0.0011810686053480436\n",
    "    ],\n",
    "    'R2': [\n",
    "        0.9970432493573379, 0.9991047570831589, 0.9992594052518604, \n",
    "        0.9993178315472079, 0.9993651755552252, 0.979312803340046, \n",
    "        0.9970488136874514, 0.9849494244218149, 0.9988007530297855\n",
    "    ]\n",
    "}\n",
    "\n",
    "# Create DataFrame\n",
    "df = pd.DataFrame(data)\n",
    "\n",
    "# Create a scatter plot for MSE\n",
    "fig_mse = px.scatter(\n",
    "    df, x='Algorithm', y='MSE', \n",
    "    hover_name='Algorithm', title=\"MSE Scores for Regression Algorithms\",\n",
    "    labels={'MSE': 'Mean Squared Error', 'Algorithm': 'Algorithms'}\n",
    ")\n",
    "\n",
    "# Create a scatter plot for R²\n",
    "fig_r2 = px.scatter(\n",
    "    df, x='Algorithm', y='R2', \n",
    "    hover_name='Algorithm', title=\"R² Scores for Regression Algorithms\",\n",
    "    labels={'R2': 'R² Score', 'Algorithm': 'Algorithms'}\n",
    ")\n",
    "\n",
    "# Update layout to ensure names don't appear in the plotting area\n",
    "fig_mse.update_traces(marker=dict(size=12, color='blue'))\n",
    "fig_r2.update_traces(marker=dict(size=12, color='green'))\n",
    "\n",
    "# Display plots\n",
    "fig_mse.show()\n",
    "fig_r2.show()\n"
   ]
  },
  {
   "cell_type": "code",
   "execution_count": null,
   "id": "dddfc8719fff347e",
   "metadata": {
    "ExecuteTime": {
     "end_time": "2024-11-07T19:54:58.976775Z",
     "start_time": "2024-11-07T19:54:58.952723Z"
    },
    "collapsed": false
   },
   "outputs": [],
   "source": [
    "with open('label_encoders.pkl', 'wb') as file:\n",
    "    pickle.dump(label_encoders, file)\n",
    "\n",
    "with open('scaler.pkl', 'wb') as file:\n",
    "    pickle.dump(scaler, file)"
   ]
  },
  {
   "cell_type": "code",
   "execution_count": null,
   "id": "c6606dd4d33413",
   "metadata": {
    "ExecuteTime": {
     "end_time": "2024-11-07T19:54:59.043025Z",
     "start_time": "2024-11-07T19:54:58.981333Z"
    },
    "collapsed": false
   },
   "outputs": [],
   "source": [
    "xgb_regressor.save_model(\"xgboost_model.json\")"
   ]
  },
  {
   "cell_type": "code",
   "execution_count": null,
   "id": "9607599b",
   "metadata": {
    "ExecuteTime": {
     "end_time": "2024-11-07T20:02:40.492376Z",
     "start_time": "2024-11-07T19:54:59.046856Z"
    }
   },
   "outputs": [
    {
     "name": "stderr",
     "output_type": "stream",
     "text": [
      "INFO:     Started server process [32496]\n",
      "INFO:     Waiting for application startup.\n",
      "INFO:     Application startup complete.\n",
      "INFO:     Uvicorn running on http://0.0.0.0:8000 (Press CTRL+C to quit)\n",
      "INFO:     Shutting down\n",
      "INFO:     Waiting for application shutdown.\n",
      "INFO:     Application shutdown complete.\n",
      "INFO:     Finished server process [32496]\n"
     ]
    },
    {
     "ename": "KeyboardInterrupt",
     "evalue": "",
     "output_type": "error",
     "traceback": [
      "\u001b[1;31m---------------------------------------------------------------------------\u001b[0m",
      "\u001b[1;31mKeyboardInterrupt\u001b[0m                         Traceback (most recent call last)",
      "Cell \u001b[1;32mIn[27], line 49\u001b[0m\n\u001b[0;32m     47\u001b[0m \u001b[38;5;66;03m# Run the FastAPI app\u001b[39;00m\n\u001b[0;32m     48\u001b[0m \u001b[38;5;28;01mif\u001b[39;00m \u001b[38;5;18m__name__\u001b[39m \u001b[38;5;241m==\u001b[39m \u001b[38;5;124m\"\u001b[39m\u001b[38;5;124m__main__\u001b[39m\u001b[38;5;124m\"\u001b[39m:\n\u001b[1;32m---> 49\u001b[0m     \u001b[43muvicorn\u001b[49m\u001b[38;5;241;43m.\u001b[39;49m\u001b[43mrun\u001b[49m\u001b[43m(\u001b[49m\u001b[43mapp\u001b[49m\u001b[43m,\u001b[49m\u001b[43m \u001b[49m\u001b[43mhost\u001b[49m\u001b[38;5;241;43m=\u001b[39;49m\u001b[38;5;124;43m\"\u001b[39;49m\u001b[38;5;124;43m0.0.0.0\u001b[39;49m\u001b[38;5;124;43m\"\u001b[39;49m\u001b[43m,\u001b[49m\u001b[43m \u001b[49m\u001b[43mport\u001b[49m\u001b[38;5;241;43m=\u001b[39;49m\u001b[38;5;241;43m8000\u001b[39;49m\u001b[43m)\u001b[49m\n\u001b[0;32m     51\u001b[0m \u001b[38;5;28;01mimport\u001b[39;00m \u001b[38;5;21;01muvicorn\u001b[39;00m\n\u001b[0;32m     53\u001b[0m uvicorn\u001b[38;5;241m.\u001b[39mrun(app, host\u001b[38;5;241m=\u001b[39m\u001b[38;5;124m\"\u001b[39m\u001b[38;5;124m0.0.0.0\u001b[39m\u001b[38;5;124m\"\u001b[39m, port\u001b[38;5;241m=\u001b[39m\u001b[38;5;241m8000\u001b[39m)\n",
      "File \u001b[1;32m~\\AppData\\Local\\Programs\\Python\\Python312\\Lib\\site-packages\\uvicorn\\main.py:577\u001b[0m, in \u001b[0;36mrun\u001b[1;34m(app, host, port, uds, fd, loop, http, ws, ws_max_size, ws_max_queue, ws_ping_interval, ws_ping_timeout, ws_per_message_deflate, lifespan, interface, reload, reload_dirs, reload_includes, reload_excludes, reload_delay, workers, env_file, log_config, log_level, access_log, proxy_headers, server_header, date_header, forwarded_allow_ips, root_path, limit_concurrency, backlog, limit_max_requests, timeout_keep_alive, timeout_graceful_shutdown, ssl_keyfile, ssl_certfile, ssl_keyfile_password, ssl_version, ssl_cert_reqs, ssl_ca_certs, ssl_ciphers, headers, use_colors, app_dir, factory, h11_max_incomplete_event_size)\u001b[0m\n\u001b[0;32m    575\u001b[0m         Multiprocess(config, target\u001b[38;5;241m=\u001b[39mserver\u001b[38;5;241m.\u001b[39mrun, sockets\u001b[38;5;241m=\u001b[39m[sock])\u001b[38;5;241m.\u001b[39mrun()\n\u001b[0;32m    576\u001b[0m     \u001b[38;5;28;01melse\u001b[39;00m:\n\u001b[1;32m--> 577\u001b[0m         \u001b[43mserver\u001b[49m\u001b[38;5;241;43m.\u001b[39;49m\u001b[43mrun\u001b[49m\u001b[43m(\u001b[49m\u001b[43m)\u001b[49m\n\u001b[0;32m    578\u001b[0m \u001b[38;5;28;01mfinally\u001b[39;00m:\n\u001b[0;32m    579\u001b[0m     \u001b[38;5;28;01mif\u001b[39;00m config\u001b[38;5;241m.\u001b[39muds \u001b[38;5;129;01mand\u001b[39;00m os\u001b[38;5;241m.\u001b[39mpath\u001b[38;5;241m.\u001b[39mexists(config\u001b[38;5;241m.\u001b[39muds):\n",
      "File \u001b[1;32m~\\AppData\\Local\\Programs\\Python\\Python312\\Lib\\site-packages\\uvicorn\\server.py:65\u001b[0m, in \u001b[0;36mServer.run\u001b[1;34m(self, sockets)\u001b[0m\n\u001b[0;32m     63\u001b[0m \u001b[38;5;28;01mdef\u001b[39;00m \u001b[38;5;21mrun\u001b[39m(\u001b[38;5;28mself\u001b[39m, sockets: \u001b[38;5;28mlist\u001b[39m[socket\u001b[38;5;241m.\u001b[39msocket] \u001b[38;5;241m|\u001b[39m \u001b[38;5;28;01mNone\u001b[39;00m \u001b[38;5;241m=\u001b[39m \u001b[38;5;28;01mNone\u001b[39;00m) \u001b[38;5;241m-\u001b[39m\u001b[38;5;241m>\u001b[39m \u001b[38;5;28;01mNone\u001b[39;00m:\n\u001b[0;32m     64\u001b[0m     \u001b[38;5;28mself\u001b[39m\u001b[38;5;241m.\u001b[39mconfig\u001b[38;5;241m.\u001b[39msetup_event_loop()\n\u001b[1;32m---> 65\u001b[0m     \u001b[38;5;28;01mreturn\u001b[39;00m \u001b[43masyncio\u001b[49m\u001b[38;5;241;43m.\u001b[39;49m\u001b[43mrun\u001b[49m\u001b[43m(\u001b[49m\u001b[38;5;28;43mself\u001b[39;49m\u001b[38;5;241;43m.\u001b[39;49m\u001b[43mserve\u001b[49m\u001b[43m(\u001b[49m\u001b[43msockets\u001b[49m\u001b[38;5;241;43m=\u001b[39;49m\u001b[43msockets\u001b[49m\u001b[43m)\u001b[49m\u001b[43m)\u001b[49m\n",
      "File \u001b[1;32m~\\AppData\\Local\\Programs\\Python\\Python312\\Lib\\site-packages\\nest_asyncio.py:30\u001b[0m, in \u001b[0;36m_patch_asyncio.<locals>.run\u001b[1;34m(main, debug)\u001b[0m\n\u001b[0;32m     28\u001b[0m task \u001b[38;5;241m=\u001b[39m asyncio\u001b[38;5;241m.\u001b[39mensure_future(main)\n\u001b[0;32m     29\u001b[0m \u001b[38;5;28;01mtry\u001b[39;00m:\n\u001b[1;32m---> 30\u001b[0m     \u001b[38;5;28;01mreturn\u001b[39;00m \u001b[43mloop\u001b[49m\u001b[38;5;241;43m.\u001b[39;49m\u001b[43mrun_until_complete\u001b[49m\u001b[43m(\u001b[49m\u001b[43mtask\u001b[49m\u001b[43m)\u001b[49m\n\u001b[0;32m     31\u001b[0m \u001b[38;5;28;01mfinally\u001b[39;00m:\n\u001b[0;32m     32\u001b[0m     \u001b[38;5;28;01mif\u001b[39;00m \u001b[38;5;129;01mnot\u001b[39;00m task\u001b[38;5;241m.\u001b[39mdone():\n",
      "File \u001b[1;32m~\\AppData\\Local\\Programs\\Python\\Python312\\Lib\\site-packages\\nest_asyncio.py:92\u001b[0m, in \u001b[0;36m_patch_loop.<locals>.run_until_complete\u001b[1;34m(self, future)\u001b[0m\n\u001b[0;32m     90\u001b[0m     f\u001b[38;5;241m.\u001b[39m_log_destroy_pending \u001b[38;5;241m=\u001b[39m \u001b[38;5;28;01mFalse\u001b[39;00m\n\u001b[0;32m     91\u001b[0m \u001b[38;5;28;01mwhile\u001b[39;00m \u001b[38;5;129;01mnot\u001b[39;00m f\u001b[38;5;241m.\u001b[39mdone():\n\u001b[1;32m---> 92\u001b[0m     \u001b[38;5;28;43mself\u001b[39;49m\u001b[38;5;241;43m.\u001b[39;49m\u001b[43m_run_once\u001b[49m\u001b[43m(\u001b[49m\u001b[43m)\u001b[49m\n\u001b[0;32m     93\u001b[0m     \u001b[38;5;28;01mif\u001b[39;00m \u001b[38;5;28mself\u001b[39m\u001b[38;5;241m.\u001b[39m_stopping:\n\u001b[0;32m     94\u001b[0m         \u001b[38;5;28;01mbreak\u001b[39;00m\n",
      "File \u001b[1;32m~\\AppData\\Local\\Programs\\Python\\Python312\\Lib\\site-packages\\nest_asyncio.py:133\u001b[0m, in \u001b[0;36m_patch_loop.<locals>._run_once\u001b[1;34m(self)\u001b[0m\n\u001b[0;32m    130\u001b[0m curr_task \u001b[38;5;241m=\u001b[39m curr_tasks\u001b[38;5;241m.\u001b[39mpop(\u001b[38;5;28mself\u001b[39m, \u001b[38;5;28;01mNone\u001b[39;00m)\n\u001b[0;32m    132\u001b[0m \u001b[38;5;28;01mtry\u001b[39;00m:\n\u001b[1;32m--> 133\u001b[0m     \u001b[43mhandle\u001b[49m\u001b[38;5;241;43m.\u001b[39;49m\u001b[43m_run\u001b[49m\u001b[43m(\u001b[49m\u001b[43m)\u001b[49m\n\u001b[0;32m    134\u001b[0m \u001b[38;5;28;01mfinally\u001b[39;00m:\n\u001b[0;32m    135\u001b[0m     \u001b[38;5;66;03m# restore the current task\u001b[39;00m\n\u001b[0;32m    136\u001b[0m     \u001b[38;5;28;01mif\u001b[39;00m curr_task \u001b[38;5;129;01mis\u001b[39;00m \u001b[38;5;129;01mnot\u001b[39;00m \u001b[38;5;28;01mNone\u001b[39;00m:\n",
      "File \u001b[1;32m~\\AppData\\Local\\Programs\\Python\\Python312\\Lib\\asyncio\\events.py:88\u001b[0m, in \u001b[0;36mHandle._run\u001b[1;34m(self)\u001b[0m\n\u001b[0;32m     86\u001b[0m \u001b[38;5;28;01mdef\u001b[39;00m \u001b[38;5;21m_run\u001b[39m(\u001b[38;5;28mself\u001b[39m):\n\u001b[0;32m     87\u001b[0m     \u001b[38;5;28;01mtry\u001b[39;00m:\n\u001b[1;32m---> 88\u001b[0m         \u001b[38;5;28;43mself\u001b[39;49m\u001b[38;5;241;43m.\u001b[39;49m\u001b[43m_context\u001b[49m\u001b[38;5;241;43m.\u001b[39;49m\u001b[43mrun\u001b[49m\u001b[43m(\u001b[49m\u001b[38;5;28;43mself\u001b[39;49m\u001b[38;5;241;43m.\u001b[39;49m\u001b[43m_callback\u001b[49m\u001b[43m,\u001b[49m\u001b[43m \u001b[49m\u001b[38;5;241;43m*\u001b[39;49m\u001b[38;5;28;43mself\u001b[39;49m\u001b[38;5;241;43m.\u001b[39;49m\u001b[43m_args\u001b[49m\u001b[43m)\u001b[49m\n\u001b[0;32m     89\u001b[0m     \u001b[38;5;28;01mexcept\u001b[39;00m (\u001b[38;5;167;01mSystemExit\u001b[39;00m, \u001b[38;5;167;01mKeyboardInterrupt\u001b[39;00m):\n\u001b[0;32m     90\u001b[0m         \u001b[38;5;28;01mraise\u001b[39;00m\n",
      "File \u001b[1;32m~\\AppData\\Local\\Programs\\Python\\Python312\\Lib\\asyncio\\tasks.py:396\u001b[0m, in \u001b[0;36mTask.__wakeup\u001b[1;34m(self, future)\u001b[0m\n\u001b[0;32m    388\u001b[0m     \u001b[38;5;28mself\u001b[39m\u001b[38;5;241m.\u001b[39m__step(exc)\n\u001b[0;32m    389\u001b[0m \u001b[38;5;28;01melse\u001b[39;00m:\n\u001b[0;32m    390\u001b[0m     \u001b[38;5;66;03m# Don't pass the value of `future.result()` explicitly,\u001b[39;00m\n\u001b[0;32m    391\u001b[0m     \u001b[38;5;66;03m# as `Future.__iter__` and `Future.__await__` don't need it.\u001b[39;00m\n\u001b[1;32m   (...)\u001b[0m\n\u001b[0;32m    394\u001b[0m     \u001b[38;5;66;03m# instead of `__next__()`, which is slower for futures\u001b[39;00m\n\u001b[0;32m    395\u001b[0m     \u001b[38;5;66;03m# that return non-generator iterators from their `__iter__`.\u001b[39;00m\n\u001b[1;32m--> 396\u001b[0m     \u001b[38;5;28;43mself\u001b[39;49m\u001b[38;5;241;43m.\u001b[39;49m\u001b[43m__step\u001b[49m\u001b[43m(\u001b[49m\u001b[43m)\u001b[49m\n\u001b[0;32m    397\u001b[0m \u001b[38;5;28mself\u001b[39m \u001b[38;5;241m=\u001b[39m \u001b[38;5;28;01mNone\u001b[39;00m\n",
      "File \u001b[1;32m~\\AppData\\Local\\Programs\\Python\\Python312\\Lib\\asyncio\\tasks.py:303\u001b[0m, in \u001b[0;36mTask.__step\u001b[1;34m(self, exc)\u001b[0m\n\u001b[0;32m    301\u001b[0m _enter_task(\u001b[38;5;28mself\u001b[39m\u001b[38;5;241m.\u001b[39m_loop, \u001b[38;5;28mself\u001b[39m)\n\u001b[0;32m    302\u001b[0m \u001b[38;5;28;01mtry\u001b[39;00m:\n\u001b[1;32m--> 303\u001b[0m     \u001b[38;5;28;43mself\u001b[39;49m\u001b[38;5;241;43m.\u001b[39;49m\u001b[43m__step_run_and_handle_result\u001b[49m\u001b[43m(\u001b[49m\u001b[43mexc\u001b[49m\u001b[43m)\u001b[49m\n\u001b[0;32m    304\u001b[0m \u001b[38;5;28;01mfinally\u001b[39;00m:\n\u001b[0;32m    305\u001b[0m     _leave_task(\u001b[38;5;28mself\u001b[39m\u001b[38;5;241m.\u001b[39m_loop, \u001b[38;5;28mself\u001b[39m)\n",
      "File \u001b[1;32m~\\AppData\\Local\\Programs\\Python\\Python312\\Lib\\asyncio\\tasks.py:314\u001b[0m, in \u001b[0;36mTask.__step_run_and_handle_result\u001b[1;34m(***failed resolving arguments***)\u001b[0m\n\u001b[0;32m    310\u001b[0m \u001b[38;5;28;01mtry\u001b[39;00m:\n\u001b[0;32m    311\u001b[0m     \u001b[38;5;28;01mif\u001b[39;00m exc \u001b[38;5;129;01mis\u001b[39;00m \u001b[38;5;28;01mNone\u001b[39;00m:\n\u001b[0;32m    312\u001b[0m         \u001b[38;5;66;03m# We use the `send` method directly, because coroutines\u001b[39;00m\n\u001b[0;32m    313\u001b[0m         \u001b[38;5;66;03m# don't have `__iter__` and `__next__` methods.\u001b[39;00m\n\u001b[1;32m--> 314\u001b[0m         result \u001b[38;5;241m=\u001b[39m \u001b[43mcoro\u001b[49m\u001b[38;5;241;43m.\u001b[39;49m\u001b[43msend\u001b[49m\u001b[43m(\u001b[49m\u001b[38;5;28;43;01mNone\u001b[39;49;00m\u001b[43m)\u001b[49m\n\u001b[0;32m    315\u001b[0m     \u001b[38;5;28;01melse\u001b[39;00m:\n\u001b[0;32m    316\u001b[0m         result \u001b[38;5;241m=\u001b[39m coro\u001b[38;5;241m.\u001b[39mthrow(exc)\n",
      "File \u001b[1;32m~\\AppData\\Local\\Programs\\Python\\Python312\\Lib\\site-packages\\uvicorn\\server.py:68\u001b[0m, in \u001b[0;36mServer.serve\u001b[1;34m(self, sockets)\u001b[0m\n\u001b[0;32m     67\u001b[0m \u001b[38;5;28;01masync\u001b[39;00m \u001b[38;5;28;01mdef\u001b[39;00m \u001b[38;5;21mserve\u001b[39m(\u001b[38;5;28mself\u001b[39m, sockets: \u001b[38;5;28mlist\u001b[39m[socket\u001b[38;5;241m.\u001b[39msocket] \u001b[38;5;241m|\u001b[39m \u001b[38;5;28;01mNone\u001b[39;00m \u001b[38;5;241m=\u001b[39m \u001b[38;5;28;01mNone\u001b[39;00m) \u001b[38;5;241m-\u001b[39m\u001b[38;5;241m>\u001b[39m \u001b[38;5;28;01mNone\u001b[39;00m:\n\u001b[1;32m---> 68\u001b[0m \u001b[43m    \u001b[49m\u001b[38;5;28;43;01mwith\u001b[39;49;00m\u001b[43m \u001b[49m\u001b[38;5;28;43mself\u001b[39;49m\u001b[38;5;241;43m.\u001b[39;49m\u001b[43mcapture_signals\u001b[49m\u001b[43m(\u001b[49m\u001b[43m)\u001b[49m\u001b[43m:\u001b[49m\n\u001b[0;32m     69\u001b[0m \u001b[43m        \u001b[49m\u001b[38;5;28;43;01mawait\u001b[39;49;00m\u001b[43m \u001b[49m\u001b[38;5;28;43mself\u001b[39;49m\u001b[38;5;241;43m.\u001b[39;49m\u001b[43m_serve\u001b[49m\u001b[43m(\u001b[49m\u001b[43msockets\u001b[49m\u001b[43m)\u001b[49m\n",
      "File \u001b[1;32m~\\AppData\\Local\\Programs\\Python\\Python312\\Lib\\contextlib.py:144\u001b[0m, in \u001b[0;36m_GeneratorContextManager.__exit__\u001b[1;34m(self, typ, value, traceback)\u001b[0m\n\u001b[0;32m    142\u001b[0m \u001b[38;5;28;01mif\u001b[39;00m typ \u001b[38;5;129;01mis\u001b[39;00m \u001b[38;5;28;01mNone\u001b[39;00m:\n\u001b[0;32m    143\u001b[0m     \u001b[38;5;28;01mtry\u001b[39;00m:\n\u001b[1;32m--> 144\u001b[0m         \u001b[38;5;28;43mnext\u001b[39;49m\u001b[43m(\u001b[49m\u001b[38;5;28;43mself\u001b[39;49m\u001b[38;5;241;43m.\u001b[39;49m\u001b[43mgen\u001b[49m\u001b[43m)\u001b[49m\n\u001b[0;32m    145\u001b[0m     \u001b[38;5;28;01mexcept\u001b[39;00m \u001b[38;5;167;01mStopIteration\u001b[39;00m:\n\u001b[0;32m    146\u001b[0m         \u001b[38;5;28;01mreturn\u001b[39;00m \u001b[38;5;28;01mFalse\u001b[39;00m\n",
      "File \u001b[1;32m~\\AppData\\Local\\Programs\\Python\\Python312\\Lib\\site-packages\\uvicorn\\server.py:328\u001b[0m, in \u001b[0;36mServer.capture_signals\u001b[1;34m(self)\u001b[0m\n\u001b[0;32m    324\u001b[0m \u001b[38;5;66;03m# If we did gracefully shut down due to a signal, try to\u001b[39;00m\n\u001b[0;32m    325\u001b[0m \u001b[38;5;66;03m# trigger the expected behaviour now; multiple signals would be\u001b[39;00m\n\u001b[0;32m    326\u001b[0m \u001b[38;5;66;03m# done LIFO, see https://stackoverflow.com/questions/48434964\u001b[39;00m\n\u001b[0;32m    327\u001b[0m \u001b[38;5;28;01mfor\u001b[39;00m captured_signal \u001b[38;5;129;01min\u001b[39;00m \u001b[38;5;28mreversed\u001b[39m(\u001b[38;5;28mself\u001b[39m\u001b[38;5;241m.\u001b[39m_captured_signals):\n\u001b[1;32m--> 328\u001b[0m     \u001b[43msignal\u001b[49m\u001b[38;5;241;43m.\u001b[39;49m\u001b[43mraise_signal\u001b[49m\u001b[43m(\u001b[49m\u001b[43mcaptured_signal\u001b[49m\u001b[43m)\u001b[49m\n",
      "\u001b[1;31mKeyboardInterrupt\u001b[0m: "
     ]
    }
   ],
   "source": [
    "import uvicorn\n",
    "from fastapi import FastAPI\n",
    "from pydantic import BaseModel\n",
    "import xgboost as xgb\n",
    "import pickle\n",
    "import numpy as np\n",
    "import nest_asyncio\n",
    "nest_asyncio.apply()\n",
    "\n",
    "\n",
    "# Initialize FastAPI app\n",
    "app = FastAPI()\n",
    "\n",
    "# Load the model and preprocessing objects\n",
    "with open('label_encoders.pkl', 'rb') as file:\n",
    "    label_encoders = pickle.load(file)\n",
    "    \n",
    "with open('scaler.pkl', 'rb') as file:\n",
    "    scaler = pickle.load(file)\n",
    "\n",
    "# Load the trained XGBoost model\n",
    "xgb_regressor = xgb.Booster()\n",
    "xgb_regressor.load_model(\"xgboost_model.json\")\n",
    "\n",
    "# Define input data structure\n",
    "class PredictionInput(BaseModel):\n",
    "    feature1: float\n",
    "    feature2: float\n",
    "    # Add other features here\n",
    "\n",
    "# Prediction endpoint\n",
    "@app.post(\"/predict\")\n",
    "def predict(input_data: PredictionInput):\n",
    "    # Prepare input data\n",
    "    data = np.array([[input_data.feature1, input_data.feature2]])  # and others\n",
    "\n",
    "    # Apply scaling and encoding as necessary\n",
    "    data = scaler.transform(data)\n",
    "\n",
    "    # Convert to DMatrix for XGBoost prediction\n",
    "    dmatrix = xgb.DMatrix(data)\n",
    "\n",
    "    # Get prediction\n",
    "    prediction = xgb_regressor.predict(dmatrix)\n",
    "    return {\"risk_score\": prediction[0]}\n",
    "\n",
    "# Run the FastAPI app\n",
    "if __name__ == \"__main__\":\n",
    "    uvicorn.run(app, host=\"0.0.0.0\", port=8000)\n",
    "\n",
    "import uvicorn\n",
    "\n",
    "uvicorn.run(app, host=\"0.0.0.0\", port=8000)"
   ]
  },
  {
   "cell_type": "code",
   "execution_count": null,
   "id": "ee620ca6",
   "metadata": {
    "ExecuteTime": {
     "start_time": "2024-11-07T20:02:40.498354Z"
    }
   },
   "outputs": [],
   "source": [
    "\n",
    "\n"
   ]
  },
  {
   "cell_type": "code",
   "execution_count": null,
   "id": "79db55b2",
   "metadata": {},
   "outputs": [],
   "source": []
  },
  {
   "cell_type": "code",
   "execution_count": null,
   "id": "3225773d",
   "metadata": {
    "ExecuteTime": {
     "start_time": "2024-11-07T20:02:40.506118Z"
    }
   },
   "outputs": [],
   "source": []
  }
 ],
 "metadata": {
  "kernelspec": {
   "display_name": "Python 3",
   "language": "python",
   "name": "python3"
  },
  "language_info": {
   "codemirror_mode": {
    "name": "ipython",
    "version": 3
   },
   "file_extension": ".py",
   "mimetype": "text/x-python",
   "name": "python",
   "nbconvert_exporter": "python",
   "pygments_lexer": "ipython3",
   "version": "3.12.5"
  }
 },
 "nbformat": 4,
 "nbformat_minor": 5
}
